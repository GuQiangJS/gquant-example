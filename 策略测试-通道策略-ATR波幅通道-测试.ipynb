{
 "cells": [
  {
   "cell_type": "code",
   "execution_count": 2,
   "metadata": {
    "ExecuteTime": {
     "end_time": "2020-07-24T14:43:32.332346Z",
     "start_time": "2020-07-24T14:43:27.733678Z"
    }
   },
   "outputs": [
    {
     "name": "stderr",
     "output_type": "stream",
     "text": [
      "Expand macros in C:\\Users\\GuQiang\\Anaconda3\\envs\\stock_ai\\lib\\site-packages\\macropy\\core\\hquotes.py\n",
      "Finding macros in 'macropy.core.hquotes'\n",
      "Importing macros from 'macropy.core.quotes' into 'macropy.core.hquotes'\n",
      "Expand macros in C:\\Users\\GuQiang\\Anaconda3\\envs\\stock_ai\\lib\\site-packages\\macropy\\core\\quotes.py\n",
      "Finding macros in 'macropy.core.quotes'\n",
      "Expand macros in C:\\Users\\GuQiang\\Anaconda3\\envs\\stock_ai\\lib\\site-packages\\macropy\\core\\failure.py\n",
      "Finding macros in 'macropy.core.failure'\n",
      "Importing macros from 'macropy.core.hquotes' into 'macropy.core.failure'\n",
      "Expand macros in C:\\Users\\GuQiang\\Anaconda3\\envs\\stock_ai\\lib\\site-packages\\numba\\core\\pythonapi.py\n",
      "Finding macros in 'numba.core.pythonapi'\n",
      "Expand macros in C:\\Users\\GuQiang\\Anaconda3\\envs\\stock_ai\\lib\\site-packages\\numba\\core\\rewrites\\__init__.py\n",
      "Finding macros in 'numba.core.rewrites'\n",
      "Expand macros in C:\\Users\\GuQiang\\Anaconda3\\envs\\stock_ai\\lib\\site-packages\\numba\\core\\rewrites\\macros.py\n",
      "Finding macros in 'numba.core.rewrites.macros'\n",
      "Expand macros in C:\\Users\\GuQiang\\Anaconda3\\envs\\stock_ai\\lib\\netrc.py\n",
      "Finding macros in 'netrc'\n"
     ]
    }
   ],
   "source": [
    "import gquant\n",
    "import abupy\n",
    "import QUANTAXIS as QA\n",
    "import gquant.jupyter_helper\n",
    "gquant.jupyter_helper.init()"
   ]
  },
  {
   "cell_type": "code",
   "execution_count": 3,
   "metadata": {
    "ExecuteTime": {
     "end_time": "2020-07-24T14:43:32.378258Z",
     "start_time": "2020-07-24T14:43:32.343316Z"
    }
   },
   "outputs": [],
   "source": [
    "symbol_list=QA.QA_fetch_stock_list_adv()\n",
    "\n",
    "_start='2014-01-01'\n",
    "_end='2018-06-31'"
   ]
  },
  {
   "cell_type": "code",
   "execution_count": 4,
   "metadata": {
    "ExecuteTime": {
     "end_time": "2020-07-24T14:43:32.391188Z",
     "start_time": "2020-07-24T14:43:32.381214Z"
    },
    "code_folding": []
   },
   "outputs": [],
   "source": [
    "class LocalDataAPI(abupy.MarketBu.ABuDataBase.StockBaseMarket,\n",
    "                   abupy.MarketBu.ABuDataBase.SupportMixin):\n",
    "    def _support_market(self):\n",
    "        \"\"\"声明数据源支持A股\"\"\"\n",
    "        return [abupy.EMarketTargetType.E_MARKET_TARGET_CN]\n",
    "\n",
    "    def kline(self, n_folds=2, start=None, end=None):\n",
    "        df=QA.QA_fetch_stock_day_adv(self._symbol.symbol_code,start,end).to_qfq().data.copy()\n",
    "        df['pre_close'] = df['close'].shift()\n",
    "        df['date'] = df.index.get_level_values(0)\n",
    "        df['date'] = df['date'].dt.strftime('%Y%m%d').apply(\n",
    "            lambda x: abupy.ABuDateUtil.date_str_to_int(x))\n",
    "        df.index = df.index.droplevel(1)\n",
    "        df.index.name = 'dt'\n",
    "        df['date_week'] = df.index.dayofweek\n",
    "        if start and end:\n",
    "            return df[start:end]\n",
    "        elif start:\n",
    "            return df[start:]\n",
    "        elif end:\n",
    "            return df[:end]\n",
    "        return df\n",
    "\n",
    "    def minute(self, n_fold=5, *args, **kwargs):\n",
    "        \"\"\"分钟k线接口\"\"\"\n",
    "        raise NotImplementedError('QAApi minute NotImplementedError!')"
   ]
  },
  {
   "cell_type": "code",
   "execution_count": 5,
   "metadata": {
    "ExecuteTime": {
     "end_time": "2020-07-24T14:43:32.399172Z",
     "start_time": "2020-07-24T14:43:32.394180Z"
    }
   },
   "outputs": [],
   "source": [
    "abupy.env.g_market_target = abupy.env.EMarketTargetType.E_MARKET_TARGET_CN\n",
    "# 所有任务数据强制网络更新\n",
    "abupy.env.g_data_fetch_mode = abupy.env.EMarketDataFetchMode.E_DATA_FETCH_FORCE_NET\n",
    "# 使用QUATAXIS本地数据作为数据源\n",
    "abupy.env.g_private_data_source = LocalDataAPI"
   ]
  },
  {
   "cell_type": "code",
   "execution_count": 6,
   "metadata": {
    "ExecuteTime": {
     "end_time": "2020-07-24T14:43:32.413130Z",
     "start_time": "2020-07-24T14:43:32.403156Z"
    },
    "code_folding": []
   },
   "outputs": [],
   "source": [
    "from abupy.IndicatorBu.ABuNDAtr import calc_atr\n",
    "from QUANTAXIS.QAIndicator.talib_series import SMA\n",
    "from QUANTAXIS.QAIndicator.talib_series import BBANDS\n",
    "\n",
    "class KLManager(abupy.AbuKLManager):\n",
    "    def _fetch_pick_time_kl_pd(self, target_symbol):\n",
    "        data = abupy.MarketBu.ABuSymbolPd.make_kl_df(target_symbol,start=self.benchmark.start,end=self.benchmark.end)\n",
    "        if not data.empty:\n",
    "            high = data['high']\n",
    "            low = data['low']\n",
    "            pre_close = data['pre_close']\n",
    "            data['ma']=SMA(data['close'],20)\n",
    "            data['atr']=calc_atr(high, low, pre_close, 20)\n",
    "            data['up']=data['ma']+data['atr']\n",
    "            data['low']=data['ma']-data['atr']\n",
    "            data['atr14'] = calc_atr(high, low, pre_close, 14)\n",
    "            data['atr21'] = calc_atr(high, low, pre_close, 21)\n",
    "            # 收盘价上穿20日移动均线+20日ATR\n",
    "            data['buy']=QA.QAIndicator.CROSS(data['close'],data['up'])\n",
    "            # 收盘价下穿20日移动均线-20日ATR\n",
    "            data['sell']=QA.QAIndicator.CROSS(data['low'],data['close'])\n",
    "            result = data[self.benchmark.start:self.benchmark.end]\n",
    "            result.name = data.name\n",
    "        else:\n",
    "            return data\n",
    "#         logging.info(result)\n",
    "        return result"
   ]
  },
  {
   "cell_type": "markdown",
   "metadata": {},
   "source": [
    "## 仓位控制方法"
   ]
  },
  {
   "cell_type": "code",
   "execution_count": 7,
   "metadata": {
    "ExecuteTime": {
     "end_time": "2020-07-24T14:43:32.422105Z",
     "start_time": "2020-07-24T14:43:32.415124Z"
    },
    "code_folding": [
     0
    ]
   },
   "outputs": [],
   "source": [
    "class Position1(abupy.AbuPositionBase):\n",
    "    \"\"\"1手\"\"\"\n",
    "    def _init_self(self, **kwargs):\n",
    "        \"\"\"子类仓位管理针对可扩展参数的初始化\"\"\"\n",
    "        pass\n",
    "\n",
    "    def fit_position(self, factor_object):\n",
    "        return 100"
   ]
  },
  {
   "cell_type": "markdown",
   "metadata": {},
   "source": [
    "## 回测方法"
   ]
  },
  {
   "cell_type": "code",
   "execution_count": 8,
   "metadata": {
    "ExecuteTime": {
     "end_time": "2020-07-24T14:43:32.434075Z",
     "start_time": "2020-07-24T14:43:32.426096Z"
    },
    "code_folding": []
   },
   "outputs": [],
   "source": [
    "def backtest(symbol,buy_factors,sell_factors,init_cash=10000,**kwargs):\n",
    "    start = kwargs.pop('start',_start)\n",
    "    end = kwargs.pop('end',_end)\n",
    "\n",
    "    benchmark = abupy.AbuBenchmark(symbol, start, end)\n",
    "    capital = abupy.AbuCapital(init_cash, benchmark)\n",
    "    klmanager=kwargs.pop('klmanager',KLManager)\n",
    "    orders_pd, action_pd, _ = abupy.ABuPickTimeExecute.do_symbols_with_same_factors(\n",
    "        [symbol],\n",
    "        benchmark,\n",
    "        buy_factors,\n",
    "        sell_factors,\n",
    "        capital,\n",
    "        kl_pd_manager=klmanager(benchmark, capital),\n",
    "        show=False)\n",
    "    m = gquant.Metrics(orders_pd, action_pd, capital, benchmark)\n",
    "    m.fit_metrics()\n",
    "    if hasattr(m, 'act_sell') and not m.act_sell.empty:\n",
    "        m.act_sell['profit_init']=m.act_sell['profit'] / m.capital.read_cash\n",
    "        m.act_sell['profit_init_hunder'] = m.act_sell['profit_init'] * 100\n",
    "        return m\n",
    "    return None"
   ]
  },
  {
   "cell_type": "markdown",
   "metadata": {},
   "source": [
    "## 买卖策略\n",
    "\n",
    "### 买卖-ATR波幅"
   ]
  },
  {
   "cell_type": "code",
   "execution_count": 9,
   "metadata": {
    "ExecuteTime": {
     "end_time": "2020-07-24T14:43:32.446053Z",
     "start_time": "2020-07-24T14:43:32.438063Z"
    },
    "code_folding": [
     0,
     9
    ]
   },
   "outputs": [],
   "source": [
    "class BuyStrategy1(gquant.abupy.AbuFactorBuyTD, gquant.abupy.BuyCallMixin):\n",
    "    def _init_self(self, **kwargs):\n",
    "        self.factor_name = self.__class__.__name__\n",
    "\n",
    "    def fit_day(self, today):\n",
    "        if today['buy']:\n",
    "            return self.buy_tomorrow()\n",
    "        return None\n",
    "    \n",
    "class SellStrategy1(gquant.abupy.AbuFactorSellBase):\n",
    "    def _init_self(self, **kwargs):\n",
    "        self.factor_name = self.__class__.__name__\n",
    "\n",
    "    def support_direction(self):\n",
    "        \"\"\"支持的方向，只支持正向\"\"\"\n",
    "        return [abupy.ESupportDirection.DIRECTION_CAll.value]\n",
    "\n",
    "    def fit_day(self, today, orders):\n",
    "        if today['sell']:\n",
    "            for order in orders:\n",
    "                self.sell_tomorrow(order)"
   ]
  },
  {
   "cell_type": "markdown",
   "metadata": {},
   "source": [
    "### 卖-最大持仓天数（20天）"
   ]
  },
  {
   "cell_type": "code",
   "execution_count": 10,
   "metadata": {
    "ExecuteTime": {
     "end_time": "2020-07-24T14:43:32.460011Z",
     "start_time": "2020-07-24T14:43:32.450030Z"
    },
    "code_folding": [
     2
    ]
   },
   "outputs": [],
   "source": [
    "_max_hold_days=20\n",
    "\n",
    "class SellStrategy2(abupy.AbuFactorSellBase):\n",
    "    \"\"\"n日卖出策略。当N日后股价小于等于买入价时卖出。\"\"\"\n",
    "\n",
    "    def _init_self(self, **kwargs):\n",
    "        \"\"\"kwargs中可以包含: 参数sell_n：代表买入后持有的天数，默认20天\"\"\"\n",
    "        self.sell_n = kwargs.pop('sell_n', _max_hold_days)\n",
    "        self.sell_type_extra = '{}:sell_n={}'.format(self.__class__.__name__, self.sell_n)\n",
    "\n",
    "    def support_direction(self):\n",
    "        \"\"\"因子支持两个方向\"\"\"\n",
    "        return [abupy.ESupportDirection.DIRECTION_CAll.value]\n",
    "\n",
    "\n",
    "    def fit_day(self, today, orders):\n",
    "        for order in orders:\n",
    "            # 将单子的持有天数进行增加\n",
    "            order.keep_days += 1\n",
    "            if order.keep_days >= self.sell_n and order.buy_price>=today.close:\n",
    "                self.sell_tomorrow(order)"
   ]
  },
  {
   "cell_type": "markdown",
   "metadata": {},
   "source": [
    "### 买-当日价格超过购买价+2倍购买日ATR"
   ]
  },
  {
   "cell_type": "code",
   "execution_count": 11,
   "metadata": {
    "ExecuteTime": {
     "end_time": "2020-07-24T14:43:32.469990Z",
     "start_time": "2020-07-24T14:43:32.462996Z"
    },
    "code_folding": [
     0
    ]
   },
   "outputs": [],
   "source": [
    "class BuyStrategy2(gquant.abupy.AbuFactorBuyTD, gquant.abupy.BuyCallMixin):\n",
    "    def _init_self(self, **kwargs):\n",
    "        self.factor_name = self.__class__.__name__\n",
    "\n",
    "    def fit_day(self, today):\n",
    "        if self.orders:\n",
    "            o=self.orders[-1]\n",
    "            if o.sell_date is None:\n",
    "                buy=self.kl_pd[self.kl_pd['date']==o.buy_date]#最后一次购买当日的信息\n",
    "                atr=buy.iloc[0]['atr']#最后一次购买当日的atr数据\n",
    "                if today.close>today.up and today.close>o.buy_price+2*atr:\n",
    "                    return self.buy_tomorrow()"
   ]
  },
  {
   "cell_type": "markdown",
   "metadata": {},
   "source": [
    "# 测试"
   ]
  },
  {
   "cell_type": "code",
   "execution_count": 12,
   "metadata": {
    "ExecuteTime": {
     "end_time": "2020-07-24T14:43:32.481945Z",
     "start_time": "2020-07-24T14:43:32.474965Z"
    },
    "code_folding": [
     1,
     17
    ]
   },
   "outputs": [],
   "source": [
    "ts = {\n",
    "    '原始ATR波幅': {\n",
    "        # 买入因子\n",
    "        'buy_factors': [\n",
    "            {\n",
    "                'class': BuyStrategy1,\n",
    "                # 仓位管理\n",
    "                'position': {\n",
    "                    'class': Position1\n",
    "                }\n",
    "            },\n",
    "        ],\n",
    "        # 卖出因子\n",
    "        'sell_factors': [{\n",
    "            'class': SellStrategy1,\n",
    "        }]\n",
    "    },\n",
    "#     '原始ATR波幅+最多持仓天数': {\n",
    "#         # 买入因子\n",
    "#         'buy_factors': [\n",
    "#             {\n",
    "#                 'class': BuyStrategy1,\n",
    "#                 # 仓位管理\n",
    "#                 'position': {\n",
    "#                     'class': Position1\n",
    "#                 }\n",
    "#             },\n",
    "#         ],\n",
    "#         # 卖出因子\n",
    "#         'sell_factors': [{\n",
    "#             'class': SellStrategy1,\n",
    "#         }, {\n",
    "#             'class': SellStrategy2,\n",
    "#         }]\n",
    "#     },\n",
    "#     '原始ATR波幅+两倍ATR加仓': {\n",
    "#         # 买入因子\n",
    "#         'buy_factors': [\n",
    "#             {\n",
    "#                 'class': BuyStrategy1,\n",
    "#                 # 仓位管理\n",
    "#                 'position': {\n",
    "#                     'class': Position1\n",
    "#                 }\n",
    "#             },\n",
    "#             {\n",
    "#                 'class': BuyStrategy2,\n",
    "#                 # 仓位管理\n",
    "#                 'position': {\n",
    "#                     'class': Position1\n",
    "#                 }\n",
    "#             }\n",
    "#         ],\n",
    "#         # 卖出因子\n",
    "#         'sell_factors': [{\n",
    "#             'class': SellStrategy1,\n",
    "#         }]\n",
    "#     },\n",
    "#     '原始ATR波幅+最多持仓天数+两倍ATR加仓': {\n",
    "#         # 买入因子\n",
    "#         'buy_factors': [\n",
    "#             {\n",
    "#                 'class': BuyStrategy1,\n",
    "#                 # 仓位管理\n",
    "#                 'position': {\n",
    "#                     'class': Position1\n",
    "#                 }\n",
    "#             },\n",
    "#             {\n",
    "#                 'class': BuyStrategy2,\n",
    "#                 # 仓位管理\n",
    "#                 'position': {\n",
    "#                     'class': Position1\n",
    "#                 }\n",
    "#             }\n",
    "#         ],\n",
    "#         # 卖出因子\n",
    "#         'sell_factors': [{\n",
    "#             'class': SellStrategy1,\n",
    "#         }, {\n",
    "#             'class': SellStrategy2,\n",
    "#         }]\n",
    "#     },\n",
    "}"
   ]
  },
  {
   "cell_type": "code",
   "execution_count": null,
   "metadata": {
    "ExecuteTime": {
     "end_time": "2020-07-24T21:48:39.471416Z",
     "start_time": "2020-07-24T14:50:43.249250Z"
    },
    "collapsed": true
   },
   "outputs": [],
   "source": [
    "from tqdm import tqdm_notebook\n",
    "from IPython.display import clear_output\n",
    "import logging\n",
    "\n",
    "def getreport(bts):\n",
    "    report=[]\n",
    "    for symbol,metrics in bts.items():\n",
    "        for name,m in metrics.items():\n",
    "            if m is None:\n",
    "                continue\n",
    "            p=m.profit_series(name=name)\n",
    "            p=gquant.pd.to_numeric(p)\n",
    "            p['code']=symbol\n",
    "            report.append(p)\n",
    "    if not report:\n",
    "        return gquant.pd.DataFrame({'R':[]})\n",
    "    report=gquant.pd.concat(report, axis=1).T\n",
    "    for col in report.columns:\n",
    "        if col=='code':\n",
    "            continue\n",
    "        report[col]=gquant.pd.to_numeric(report[col])\n",
    "    return report\n",
    "\n",
    "bts={}\n",
    "\n",
    "for symbol in tqdm_notebook(symbol_list.code):\n",
    "#     if not symbol.startswith('30'):\n",
    "#         continue\n",
    "# for symbol in ['300005','300378','600036','601138','601099','600028']:\n",
    "    bts[symbol]={}\n",
    "    for k,v in ts.items():\n",
    "        try:\n",
    "            m=backtest(symbol,v['buy_factors'],v['sell_factors'],start='2014-01-01',end='2019-12-31')\n",
    "            if m is None:\n",
    "                continue\n",
    "            bts[symbol][k]=m\n",
    "        except:\n",
    "#             raise\n",
    "            pass\n",
    "    rp=getreport(bts)\n",
    "#     clear_output(wait=True)\n",
    "    print(rp[['code','R','最终价值','最大回撤']].sort_values('R',ascending=False).head())\n",
    "#     if symbol>='000005':\n",
    "#         break\n",
    "            \n",
    "clear_output(wait=True)"
   ]
  },
  {
   "cell_type": "code",
   "execution_count": 27,
   "metadata": {
    "ExecuteTime": {
     "end_time": "2020-07-25T02:26:22.551662Z",
     "start_time": "2020-07-25T02:26:17.190445Z"
    }
   },
   "outputs": [
    {
     "data": {
      "text/html": [
       "<div>\n",
       "<style scoped>\n",
       "    .dataframe tbody tr th:only-of-type {\n",
       "        vertical-align: middle;\n",
       "    }\n",
       "\n",
       "    .dataframe tbody tr th {\n",
       "        vertical-align: top;\n",
       "    }\n",
       "\n",
       "    .dataframe thead th {\n",
       "        text-align: right;\n",
       "    }\n",
       "</style>\n",
       "<table border=\"1\" class=\"dataframe\">\n",
       "  <thead>\n",
       "    <tr style=\"text-align: right;\">\n",
       "      <th></th>\n",
       "      <th>盈亏总额</th>\n",
       "      <th>最终价值</th>\n",
       "      <th>交易次数</th>\n",
       "      <th>盈利次数</th>\n",
       "      <th>亏损次数</th>\n",
       "      <th>盈利比率</th>\n",
       "      <th>每笔交易平均盈亏额</th>\n",
       "      <th>盈利交易平均盈利额</th>\n",
       "      <th>亏损交易平均亏损额</th>\n",
       "      <th>R</th>\n",
       "      <th>最大回撤</th>\n",
       "      <th>买入平均花费</th>\n",
       "      <th>code</th>\n",
       "    </tr>\n",
       "  </thead>\n",
       "  <tbody>\n",
       "    <tr>\n",
       "      <th>原始ATR波幅</th>\n",
       "      <td>34469.6332</td>\n",
       "      <td>43324.255</td>\n",
       "      <td>61.0</td>\n",
       "      <td>36.0</td>\n",
       "      <td>25.0</td>\n",
       "      <td>0.5902</td>\n",
       "      <td>545.0958</td>\n",
       "      <td>957.4898</td>\n",
       "      <td>-48.7517</td>\n",
       "      <td>11.18</td>\n",
       "      <td>-0.2044</td>\n",
       "      <td>833.5446</td>\n",
       "      <td>600021</td>\n",
       "    </tr>\n",
       "    <tr>\n",
       "      <th>原始ATR波幅</th>\n",
       "      <td>23818.2292</td>\n",
       "      <td>32735.092</td>\n",
       "      <td>63.0</td>\n",
       "      <td>29.0</td>\n",
       "      <td>34.0</td>\n",
       "      <td>0.4603</td>\n",
       "      <td>360.6365</td>\n",
       "      <td>821.3182</td>\n",
       "      <td>-32.2979</td>\n",
       "      <td>11.17</td>\n",
       "      <td>-0.2501</td>\n",
       "      <td>605.3607</td>\n",
       "      <td>601727</td>\n",
       "    </tr>\n",
       "    <tr>\n",
       "      <th>原始ATR波幅</th>\n",
       "      <td>42447.8279</td>\n",
       "      <td>50825.044</td>\n",
       "      <td>42.0</td>\n",
       "      <td>24.0</td>\n",
       "      <td>18.0</td>\n",
       "      <td>0.5714</td>\n",
       "      <td>971.7299</td>\n",
       "      <td>1768.6595</td>\n",
       "      <td>-90.8430</td>\n",
       "      <td>10.70</td>\n",
       "      <td>-0.2263</td>\n",
       "      <td>1621.8817</td>\n",
       "      <td>300168</td>\n",
       "    </tr>\n",
       "    <tr>\n",
       "      <th>原始ATR波幅</th>\n",
       "      <td>14050.8704</td>\n",
       "      <td>23436.451</td>\n",
       "      <td>42.0</td>\n",
       "      <td>20.0</td>\n",
       "      <td>22.0</td>\n",
       "      <td>0.4762</td>\n",
       "      <td>318.8703</td>\n",
       "      <td>702.5435</td>\n",
       "      <td>-29.9235</td>\n",
       "      <td>10.66</td>\n",
       "      <td>-0.2492</td>\n",
       "      <td>790.9668</td>\n",
       "      <td>600986</td>\n",
       "    </tr>\n",
       "    <tr>\n",
       "      <th>原始ATR波幅</th>\n",
       "      <td>8542.6824</td>\n",
       "      <td>18030.049</td>\n",
       "      <td>31.0</td>\n",
       "      <td>10.0</td>\n",
       "      <td>21.0</td>\n",
       "      <td>0.3226</td>\n",
       "      <td>257.9509</td>\n",
       "      <td>854.2682</td>\n",
       "      <td>-26.0098</td>\n",
       "      <td>9.92</td>\n",
       "      <td>-0.1879</td>\n",
       "      <td>715.2275</td>\n",
       "      <td>600654</td>\n",
       "    </tr>\n",
       "    <tr>\n",
       "      <th>...</th>\n",
       "      <td>...</td>\n",
       "      <td>...</td>\n",
       "      <td>...</td>\n",
       "      <td>...</td>\n",
       "      <td>...</td>\n",
       "      <td>...</td>\n",
       "      <td>...</td>\n",
       "      <td>...</td>\n",
       "      <td>...</td>\n",
       "      <td>...</td>\n",
       "      <td>...</td>\n",
       "      <td>...</td>\n",
       "      <td>...</td>\n",
       "    </tr>\n",
       "    <tr>\n",
       "      <th>原始ATR波幅</th>\n",
       "      <td>15509.6537</td>\n",
       "      <td>23313.531</td>\n",
       "      <td>56.0</td>\n",
       "      <td>28.0</td>\n",
       "      <td>28.0</td>\n",
       "      <td>0.5000</td>\n",
       "      <td>237.6829</td>\n",
       "      <td>553.9162</td>\n",
       "      <td>-78.5504</td>\n",
       "      <td>3.03</td>\n",
       "      <td>-0.1411</td>\n",
       "      <td>1328.7589</td>\n",
       "      <td>000815</td>\n",
       "    </tr>\n",
       "    <tr>\n",
       "      <th>原始ATR波幅</th>\n",
       "      <td>14173.6652</td>\n",
       "      <td>22407.629</td>\n",
       "      <td>51.0</td>\n",
       "      <td>29.0</td>\n",
       "      <td>22.0</td>\n",
       "      <td>0.5686</td>\n",
       "      <td>243.2106</td>\n",
       "      <td>488.7471</td>\n",
       "      <td>-80.4512</td>\n",
       "      <td>3.02</td>\n",
       "      <td>-0.2318</td>\n",
       "      <td>862.2419</td>\n",
       "      <td>600179</td>\n",
       "    </tr>\n",
       "    <tr>\n",
       "      <th>原始ATR波幅</th>\n",
       "      <td>11983.3323</td>\n",
       "      <td>22371.512</td>\n",
       "      <td>51.0</td>\n",
       "      <td>21.0</td>\n",
       "      <td>30.0</td>\n",
       "      <td>0.4118</td>\n",
       "      <td>196.6146</td>\n",
       "      <td>570.6349</td>\n",
       "      <td>-65.1996</td>\n",
       "      <td>3.02</td>\n",
       "      <td>-0.1621</td>\n",
       "      <td>1214.3373</td>\n",
       "      <td>002276</td>\n",
       "    </tr>\n",
       "    <tr>\n",
       "      <th>原始ATR波幅</th>\n",
       "      <td>7844.5361</td>\n",
       "      <td>16960.226</td>\n",
       "      <td>42.0</td>\n",
       "      <td>26.0</td>\n",
       "      <td>16.0</td>\n",
       "      <td>0.6190</td>\n",
       "      <td>165.8178</td>\n",
       "      <td>301.7129</td>\n",
       "      <td>-55.0119</td>\n",
       "      <td>3.01</td>\n",
       "      <td>-0.1720</td>\n",
       "      <td>1197.0503</td>\n",
       "      <td>300405</td>\n",
       "    </tr>\n",
       "    <tr>\n",
       "      <th>原始ATR波幅</th>\n",
       "      <td>12932.9233</td>\n",
       "      <td>21435.432</td>\n",
       "      <td>42.0</td>\n",
       "      <td>21.0</td>\n",
       "      <td>21.0</td>\n",
       "      <td>0.5000</td>\n",
       "      <td>264.0286</td>\n",
       "      <td>615.8535</td>\n",
       "      <td>-87.7962</td>\n",
       "      <td>3.01</td>\n",
       "      <td>-0.2294</td>\n",
       "      <td>1752.4994</td>\n",
       "      <td>000555</td>\n",
       "    </tr>\n",
       "  </tbody>\n",
       "</table>\n",
       "<p>179 rows × 13 columns</p>\n",
       "</div>"
      ],
      "text/plain": [
       "               盈亏总额       最终价值  交易次数  盈利次数  亏损次数    盈利比率  每笔交易平均盈亏额  \\\n",
       "原始ATR波幅  34469.6332  43324.255  61.0  36.0  25.0  0.5902   545.0958   \n",
       "原始ATR波幅  23818.2292  32735.092  63.0  29.0  34.0  0.4603   360.6365   \n",
       "原始ATR波幅  42447.8279  50825.044  42.0  24.0  18.0  0.5714   971.7299   \n",
       "原始ATR波幅  14050.8704  23436.451  42.0  20.0  22.0  0.4762   318.8703   \n",
       "原始ATR波幅   8542.6824  18030.049  31.0  10.0  21.0  0.3226   257.9509   \n",
       "...             ...        ...   ...   ...   ...     ...        ...   \n",
       "原始ATR波幅  15509.6537  23313.531  56.0  28.0  28.0  0.5000   237.6829   \n",
       "原始ATR波幅  14173.6652  22407.629  51.0  29.0  22.0  0.5686   243.2106   \n",
       "原始ATR波幅  11983.3323  22371.512  51.0  21.0  30.0  0.4118   196.6146   \n",
       "原始ATR波幅   7844.5361  16960.226  42.0  26.0  16.0  0.6190   165.8178   \n",
       "原始ATR波幅  12932.9233  21435.432  42.0  21.0  21.0  0.5000   264.0286   \n",
       "\n",
       "         盈利交易平均盈利额  亏损交易平均亏损额      R    最大回撤     买入平均花费    code  \n",
       "原始ATR波幅   957.4898   -48.7517  11.18 -0.2044   833.5446  600021  \n",
       "原始ATR波幅   821.3182   -32.2979  11.17 -0.2501   605.3607  601727  \n",
       "原始ATR波幅  1768.6595   -90.8430  10.70 -0.2263  1621.8817  300168  \n",
       "原始ATR波幅   702.5435   -29.9235  10.66 -0.2492   790.9668  600986  \n",
       "原始ATR波幅   854.2682   -26.0098   9.92 -0.1879   715.2275  600654  \n",
       "...            ...        ...    ...     ...        ...     ...  \n",
       "原始ATR波幅   553.9162   -78.5504   3.03 -0.1411  1328.7589  000815  \n",
       "原始ATR波幅   488.7471   -80.4512   3.02 -0.2318   862.2419  600179  \n",
       "原始ATR波幅   570.6349   -65.1996   3.02 -0.1621  1214.3373  002276  \n",
       "原始ATR波幅   301.7129   -55.0119   3.01 -0.1720  1197.0503  300405  \n",
       "原始ATR波幅   615.8535   -87.7962   3.01 -0.2294  1752.4994  000555  \n",
       "\n",
       "[179 rows x 13 columns]"
      ]
     },
     "execution_count": 27,
     "metadata": {},
     "output_type": "execute_result"
    }
   ],
   "source": [
    "report=getreport(bts)\n",
    "report[(report['交易次数']>30)&(report['R']>3)].sort_values('R',ascending=False)"
   ]
  },
  {
   "cell_type": "code",
   "execution_count": 25,
   "metadata": {
    "ExecuteTime": {
     "end_time": "2020-07-24T21:48:44.828472Z",
     "start_time": "2020-07-24T21:48:44.824484Z"
    }
   },
   "outputs": [],
   "source": [
    "# report.groupby('code').agg({'R':['min', 'mean', 'max','median','std']})['R'].sort_values('mean',ascending=False)"
   ]
  },
  {
   "cell_type": "markdown",
   "metadata": {},
   "source": [
    "# 蒙特卡洛模拟\n",
    "\n",
    "采用完整数据，从中随机选出500~1500天的连续数据，使用[凯利公式对仓位进行管理](#使用凯利公式对仓位进行管理)中的买卖策略进行测试。"
   ]
  },
  {
   "cell_type": "code",
   "execution_count": null,
   "metadata": {
    "ExecuteTime": {
     "end_time": "2020-07-23T09:53:35.964296Z",
     "start_time": "2020-07-23T09:53:35.960307Z"
    }
   },
   "outputs": [],
   "source": [
    "_MC_SYMBOL='601099'"
   ]
  },
  {
   "cell_type": "code",
   "execution_count": null,
   "metadata": {
    "ExecuteTime": {
     "end_time": "2020-07-23T09:56:41.180088Z",
     "start_time": "2020-07-23T09:56:41.173106Z"
    },
    "code_folding": [
     3
    ]
   },
   "outputs": [],
   "source": [
    "import random\n",
    "from QUANTAXIS.QAUtil.QADate import QA_util_datetime_to_strdate as dt2str\n",
    "\n",
    "def generator(symbol):\n",
    "    df=QA.QA_fetch_stock_day_adv(symbol,_start,_end).data\n",
    "    \"\"\"随机选择迭代器\"\"\"\n",
    "    while True:\n",
    "        size=random.randint(500,len(df)-10)\n",
    "        start=random.randint(0,len(df)-size)\n",
    "        end=start+size\n",
    "        v= df.iloc[start:end].reset_index()\n",
    "        yield dt2str(v.iloc[0]['date'].date()),dt2str(v.iloc[-1]['date'].date())\n",
    "g=generator(_MC_SYMBOL)"
   ]
  },
  {
   "cell_type": "code",
   "execution_count": null,
   "metadata": {
    "ExecuteTime": {
     "end_time": "2020-07-23T10:08:38.174689Z",
     "start_time": "2020-07-23T10:08:38.165704Z"
    },
    "code_folding": [
     0,
     17,
     19,
     24
    ]
   },
   "outputs": [],
   "source": [
    "_buy_factors = [\n",
    "    {\n",
    "        'class': BuyStrategy1,\n",
    "        # 仓位管理\n",
    "        'position': {\n",
    "            'class': Position1\n",
    "        }\n",
    "    },\n",
    "    {\n",
    "        'class': BuyStrategy2,\n",
    "        # 仓位管理\n",
    "        'position': {\n",
    "            'class': Position1\n",
    "        }\n",
    "    }\n",
    "]\n",
    "# 卖出因子\n",
    "_sell_factors = [{\n",
    "    'class': SellStrategy1,\n",
    "}, {\n",
    "    'class': SellStrategy2,\n",
    "}]\n",
    "\n",
    "\n",
    "def do_mc_test(times):\n",
    "    from tqdm import tqdm_notebook\n",
    "    test = []\n",
    "    for i in tqdm_notebook(range(times)):\n",
    "        s, e = next(g)\n",
    "        #         logging.info('LEN:{}:{}~{}'.format(len(test),s,e))\n",
    "        mc = backtest(_MC_SYMBOL,_buy_factors, _sell_factors, start=s, end=e)\n",
    "        if mc:\n",
    "            test.append(mc)\n",
    "    result = gquant.pd.concat([m.profit_series() for m in test], axis=1).T\n",
    "    return result\n",
    "\n",
    "\n",
    "def show_result(times, mcs):\n",
    "    gquant.sns.distplot(mcs[mcs['交易次数'] >= 30]['R'])\n",
    "    logging.info(\"测试{}次后交易次数>30的R乘数：\\n{}\".format(\n",
    "        times, mcs[mcs['交易次数'] >= 30]['R'].describe()))"
   ]
  },
  {
   "cell_type": "markdown",
   "metadata": {},
   "source": [
    "## 100"
   ]
  },
  {
   "cell_type": "code",
   "execution_count": null,
   "metadata": {
    "ExecuteTime": {
     "end_time": "2020-07-23T10:16:20.546225Z",
     "start_time": "2020-07-23T10:08:51.769737Z"
    }
   },
   "outputs": [],
   "source": [
    "# mcs100=do_mc_test(100)\n",
    "# show_result(100,mcs100)"
   ]
  },
  {
   "cell_type": "markdown",
   "metadata": {},
   "source": [
    "## 1000"
   ]
  },
  {
   "cell_type": "code",
   "execution_count": null,
   "metadata": {
    "ExecuteTime": {
     "end_time": "2020-07-23T11:34:54.501224Z",
     "start_time": "2020-07-23T10:16:20.548220Z"
    }
   },
   "outputs": [],
   "source": [
    "# mcs1000=do_mc_test(1000)\n",
    "# show_result(1000,mcs1000)"
   ]
  },
  {
   "cell_type": "markdown",
   "metadata": {},
   "source": [
    "## 10000"
   ]
  },
  {
   "cell_type": "code",
   "execution_count": null,
   "metadata": {
    "ExecuteTime": {
     "end_time": "2020-07-24T00:31:01.420587Z",
     "start_time": "2020-07-23T11:34:54.505190Z"
    }
   },
   "outputs": [],
   "source": [
    "# mcs10000=do_mc_test(10000)\n",
    "# show_result(10000,mcs10000)"
   ]
  },
  {
   "cell_type": "code",
   "execution_count": null,
   "metadata": {},
   "outputs": [],
   "source": []
  }
 ],
 "metadata": {
  "hide_input": false,
  "kernelspec": {
   "display_name": "stock_ai",
   "language": "python",
   "name": "stock_ai"
  },
  "language_info": {
   "codemirror_mode": {
    "name": "ipython",
    "version": 3
   },
   "file_extension": ".py",
   "mimetype": "text/x-python",
   "name": "python",
   "nbconvert_exporter": "python",
   "pygments_lexer": "ipython3",
   "version": "3.7.3"
  },
  "toc": {
   "base_numbering": 1,
   "nav_menu": {},
   "number_sections": true,
   "sideBar": true,
   "skip_h1_title": false,
   "title_cell": "Table of Contents",
   "title_sidebar": "Contents",
   "toc_cell": false,
   "toc_position": {
    "height": "calc(100% - 180px)",
    "left": "10px",
    "top": "150px",
    "width": "165px"
   },
   "toc_section_display": true,
   "toc_window_display": true
  }
 },
 "nbformat": 4,
 "nbformat_minor": 4
}
