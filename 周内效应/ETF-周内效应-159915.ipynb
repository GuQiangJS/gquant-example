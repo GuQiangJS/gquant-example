{
 "cells": [
  {
   "cell_type": "markdown",
   "id": "ded225fb",
   "metadata": {},
   "source": [
    "本测试将使用 [易方达创业板ETF(159915)](https://gu.qq.com/sz159915) 对 **周内效应** 进行验证。\n",
    "\n",
    "> 周内效应：http://erj.cn/UploadFiles/%E4%B8%AD%E5%9B%BD%E8%82%A1%E7%A5%A8%E5%B8%82%E5%9C%BA%E7%9A%84_%E5%91%A8%E5%86%85%E6%95%88%E5%BA%94_.pdf\n",
    "\n",
    "> 规则说明及其他说明参考 [ETF-周内效应-510310](ETF-周内效应-510310.ipynb)。\n",
    "\n",
    "验证时对应基准采用创业板指数(399006)\n",
    "\n",
    "### 结论\n",
    "\n",
    "从[100万次](#100%E4%B8%87%E6%AC%A1)测试结果来看，**与[沪深300-510310](ETF-周内效应-510310.ipynb)有较为明显的差异**:\n",
    "\n",
    "* 按照上涨市和下跌市拆分后的跑赢基准的结果并不理想，以平均数来说还不如不拆分；\n",
    "* 无论是否拆分上涨市和下跌时，对于基准的最大回撤的提升不算很大，均为达到50%的提升；\n",
    "* 无论是否拆分，会看1年和3年的跑赢基准的可能性均高于2年。并且不拆分的情况好于拆分的情况；\n",
    "\n",
    "*周内效应对于这个ETF来看可能不是一个好的策略。*"
   ]
  },
  {
   "cell_type": "code",
   "execution_count": 1,
   "id": "522da91e",
   "metadata": {},
   "outputs": [
    {
     "name": "stdout",
     "output_type": "stream",
     "text": [
      "you are using non-interactive mdoel quantaxis\n",
      "提示：当前环境 pandas 版本高于 0.25，get_price 与 get_fundamentals_continuously 接口 panel 参数将固定为 False\n",
      "注意：0.25 以上版本 pandas 不支持 panel，如使用该数据结构和相关函数请注意修改\n"
     ]
    }
   ],
   "source": [
    "import logging\n",
    "logging.disable(logging.INFO)\n",
    "\n",
    "import numpy as np\n",
    "import talib\n",
    "import pandas as pd\n",
    "from tqdm import tqdm_notebook\n",
    "import gquant\n",
    "import abupy\n",
    "import QUANTAXIS as QA\n",
    "import gquant.jupyter_helper\n",
    "gquant.jupyter_helper.init()\n",
    "import matplotlib.pyplot as plt\n",
    "import seaborn as sns\n",
    "from gquant.backtest import backtest\n",
    "from gquant.week_effect import *\n",
    "\n",
    "plt.style.use('ggplot')"
   ]
  },
  {
   "cell_type": "code",
   "execution_count": 2,
   "id": "1df8540e",
   "metadata": {},
   "outputs": [],
   "source": [
    "CODE='159915' #计算数据\n",
    "BENCHMARK_CODE='399006' #基准代码（创业板指数）\n",
    "START='2011-09-20'#159915成立日期\n",
    "END=QA.QAUtil.QADate.QA_util_today_str()#数据截止到今天。后面会根据不同的测试时间段对数据分段\n",
    "INIT_CASH=10000#验证时的模拟初始资金\n",
    "DEFAULT_MA=20#判断上涨/下跌市的SMA取值"
   ]
  },
  {
   "cell_type": "code",
   "execution_count": 3,
   "id": "36eb1258",
   "metadata": {},
   "outputs": [],
   "source": [
    "def get_data(code=CODE,start=START,end=END,ma=DEFAULT_MA,dropna=True):\n",
    "    \"\"\"获取指数数据\n",
    "    \n",
    "    Args:\n",
    "        code: 指数代码\n",
    "        start: 数据开始时间\n",
    "        end: 数据截止时间\n",
    "        ma: 计算SMA时的时间段\n",
    "    \"\"\"\n",
    "    data = QA.QA_fetch_index_day_adv(code,start=start,end=end).data.reset_index(level=1, drop=True)\n",
    "    # 收盘价变化率\n",
    "    data['收盘价变化率'] = data['close'].pct_change()\n",
    "    data['date'] = data.index.get_level_values(0)\n",
    "    data['date'] = pd.to_datetime(data['date'])\n",
    "    # 星期一为0，星期天为6\n",
    "    data['weekday'] = data['date'].dt.weekday\n",
    "    # 明天星期\n",
    "    data['nextday']=data['weekday'].shift(-1)\n",
    "    # 昨天星期\n",
    "    data['prevday']=data['weekday'].shift()\n",
    "    # 简单移动均线\n",
    "    data[\"MA\"] = QA.QA_indicator_MA(data, ma)\n",
    "    # 每日成交均价\n",
    "    data['avg_price']=(data['close']+data['open']+data['high']+data['low'])/4\n",
    "    # 每日价格变化幅度（收盘价/开盘价）\n",
    "    data['日价格变化幅度']=data['close']/data['open']-1\n",
    "    # TR:输出TR:(最高价-最低价)和昨收-最高价的绝对值的较大值和昨收-最低价的绝对值的较大值\n",
    "    data['TR'] = TR(data)\n",
    "    # 每日成交均价变化率\n",
    "    data['日成交均价变化率'] = data['avg_price'].pct_change()\n",
    "    # 上涨市\n",
    "    data['market']=np.NaN\n",
    "    data.loc[data['close']>data[\"MA\"],'market']=1\n",
    "    # 下跌市\n",
    "    data['down']=False\n",
    "    data.loc[data['close']<data[\"MA\"],'market']=-1\n",
    "    # 昨天是上涨市/下跌市\n",
    "    data['prev_market']=data['market'].shift()\n",
    "\n",
    "    if dropna:\n",
    "        data.dropna(inplace=True)\n",
    "    return data"
   ]
  },
  {
   "cell_type": "code",
   "execution_count": 14,
   "id": "2317c296",
   "metadata": {},
   "outputs": [],
   "source": [
    "from tqdm.auto import tqdm\n",
    "from matplotlib.gridspec import GridSpec\n",
    "from itertools import product\n",
    "import datetime\n",
    "\n",
    "def report_plot(report):\n",
    "    # https://matplotlib.org/stable/gallery/color/named_colors.html#sphx-glr-gallery-color-named-colors-py\n",
    "    pie_colors=['orangered','silver']\n",
    "    \n",
    "    def _plot_pie(data,ax,title):\n",
    "        data.value_counts().plot(kind='pie',ax=ax,autopct='%1.2f%%',label='',colors=pie_colors,textprops={'color':'w','size':14,'name':'reithsans'})\n",
    "        ax.set_title(title)\n",
    "    def _plot_kde(data,ax,title):\n",
    "        sns.distplot(data,ax=ax)\n",
    "        ax.set_title(title,size=12)\n",
    "    \n",
    "    def _plot_regplot(data,ax,title):\n",
    "        lm=sns.regplot(data=report[(report.index==v)], x=\"test_days\", y=\"策略-基准盈亏\",ax=ax,color='silver',line_kws={'color':'orangered'})\n",
    "        ax.set_title(title)\n",
    "    \n",
    "    fig = plt.figure(figsize=(16,24),constrained_layout=True)\n",
    "    gs = GridSpec(8, 4, figure=fig)\n",
    "    \n",
    "    report['策略-基准盈亏']=report['策略浮动盈亏']-report['基准浮动盈亏']\n",
    "    for i,index in enumerate(list(product(['跑赢基准','是否盈利'],['完整','拆分']))):\n",
    "        _plot_pie(report.loc[index[1],index[0]],fig.add_subplot(gs[i, 0]),'{}-{}'.format(index[0],index[1]))\n",
    "        for j,year in enumerate([1,2,3]):\n",
    "            _plot_pie(report[(report.index==index[1])&(report.passyears==year)][index[0]],fig.add_subplot(gs[i, j+1]),'{}-{}-{}年'.format(index[0],index[1],year))\n",
    "    \n",
    "    for i,v in enumerate(['完整','拆分']):\n",
    "        _plot_kde(report[(report.index==v)]['策略-基准盈亏'],fig.add_subplot(gs[4+i, 0]),'策略-基准盈亏-{}-统算'.format(v))\n",
    "        for j,y in enumerate([1,2,3]):\n",
    "            _plot_kde(report[(report.index==v)&(report.passyears==y)]['策略-基准盈亏'],fig.add_subplot(gs[4+i, 1+j]),'策略-基准盈亏-{}-{}年'.format(v,y))\n",
    "            \n",
    "    for i,v in enumerate(['完整','拆分']):\n",
    "        _plot_regplot(report[(report.index==v)]['策略-基准盈亏'],fig.add_subplot(gs[6+i, 0]),'策略-基准盈亏-{}-统算'.format(v))\n",
    "        for j,y in enumerate([1,2,3]):\n",
    "            _plot_regplot(report[(report.index==v)&(report.passyears==y)]['策略-基准盈亏'],fig.add_subplot(gs[6+i, 1+j]),'策略-基准盈亏-{}-{}年'.format(v,y))\n",
    "            \n",
    "            \n",
    "    fig.suptitle('{}次循环'.format(report.shape[0]/2),size='20')\n",
    "    plt.show()"
   ]
  },
  {
   "cell_type": "markdown",
   "id": "31e4cfed",
   "metadata": {},
   "source": [
    "### 100万次\n",
    "\n",
    "> 数据来源：通过脚本执行的结果，保存在Result_159915.7z中，解压缩后使用。"
   ]
  },
  {
   "cell_type": "code",
   "execution_count": 4,
   "id": "c657bf90",
   "metadata": {},
   "outputs": [],
   "source": [
    "import os\n",
    "report = pd.concat([pd.read_csv(f) for f in os.listdir() if 'Result_159915' in f]).set_index('name').drop_duplicates()\n",
    "report['策略-基准盈亏']=report['策略浮动盈亏']-report['基准浮动盈亏']"
   ]
  },
  {
   "cell_type": "code",
   "execution_count": 8,
   "id": "fa5144af",
   "metadata": {},
   "outputs": [
    {
     "data": {
      "text/html": [
       "<div>\n",
       "<style scoped>\n",
       "    .dataframe tbody tr th:only-of-type {\n",
       "        vertical-align: middle;\n",
       "    }\n",
       "\n",
       "    .dataframe tbody tr th {\n",
       "        vertical-align: top;\n",
       "    }\n",
       "\n",
       "    .dataframe thead th {\n",
       "        text-align: right;\n",
       "    }\n",
       "</style>\n",
       "<table border=\"1\" class=\"dataframe\">\n",
       "  <thead>\n",
       "    <tr style=\"text-align: right;\">\n",
       "      <th></th>\n",
       "      <th>count</th>\n",
       "      <th>mean</th>\n",
       "      <th>std</th>\n",
       "      <th>min</th>\n",
       "      <th>25%</th>\n",
       "      <th>50%</th>\n",
       "      <th>75%</th>\n",
       "      <th>max</th>\n",
       "    </tr>\n",
       "    <tr>\n",
       "      <th>name</th>\n",
       "      <th></th>\n",
       "      <th></th>\n",
       "      <th></th>\n",
       "      <th></th>\n",
       "      <th></th>\n",
       "      <th></th>\n",
       "      <th></th>\n",
       "      <th></th>\n",
       "    </tr>\n",
       "  </thead>\n",
       "  <tbody>\n",
       "    <tr>\n",
       "      <th>完整</th>\n",
       "      <td>967685.0</td>\n",
       "      <td>0.0466</td>\n",
       "      <td>0.1407</td>\n",
       "      <td>-0.9919</td>\n",
       "      <td>-0.0156</td>\n",
       "      <td>0.0309</td>\n",
       "      <td>0.1071</td>\n",
       "      <td>0.5836</td>\n",
       "    </tr>\n",
       "    <tr>\n",
       "      <th>拆分</th>\n",
       "      <td>960362.0</td>\n",
       "      <td>-0.0210</td>\n",
       "      <td>0.1883</td>\n",
       "      <td>-1.1971</td>\n",
       "      <td>-0.1066</td>\n",
       "      <td>0.0123</td>\n",
       "      <td>0.0918</td>\n",
       "      <td>0.5976</td>\n",
       "    </tr>\n",
       "  </tbody>\n",
       "</table>\n",
       "</div>"
      ],
      "text/plain": [
       "         count    mean     std     min     25%     50%     75%     max\n",
       "name                                                                  \n",
       "完整    967685.0  0.0466  0.1407 -0.9919 -0.0156  0.0309  0.1071  0.5836\n",
       "拆分    960362.0 -0.0210  0.1883 -1.1971 -0.1066  0.0123  0.0918  0.5976"
      ]
     },
     "execution_count": 8,
     "metadata": {},
     "output_type": "execute_result"
    }
   ],
   "source": [
    "report.groupby('name')['策略-基准盈亏'].describe()"
   ]
  },
  {
   "cell_type": "code",
   "execution_count": 9,
   "id": "678332c5",
   "metadata": {},
   "outputs": [
    {
     "data": {
      "text/html": [
       "<div>\n",
       "<style scoped>\n",
       "    .dataframe tbody tr th:only-of-type {\n",
       "        vertical-align: middle;\n",
       "    }\n",
       "\n",
       "    .dataframe tbody tr th {\n",
       "        vertical-align: top;\n",
       "    }\n",
       "\n",
       "    .dataframe thead tr th {\n",
       "        text-align: left;\n",
       "    }\n",
       "\n",
       "    .dataframe thead tr:last-of-type th {\n",
       "        text-align: right;\n",
       "    }\n",
       "</style>\n",
       "<table border=\"1\" class=\"dataframe\">\n",
       "  <thead>\n",
       "    <tr>\n",
       "      <th></th>\n",
       "      <th colspan=\"2\" halign=\"left\">基准最大回撤</th>\n",
       "      <th colspan=\"2\" halign=\"left\">策略最大回撤</th>\n",
       "    </tr>\n",
       "    <tr>\n",
       "      <th></th>\n",
       "      <th>mean</th>\n",
       "      <th>median</th>\n",
       "      <th>mean</th>\n",
       "      <th>median</th>\n",
       "    </tr>\n",
       "    <tr>\n",
       "      <th>name</th>\n",
       "      <th></th>\n",
       "      <th></th>\n",
       "      <th></th>\n",
       "      <th></th>\n",
       "    </tr>\n",
       "  </thead>\n",
       "  <tbody>\n",
       "    <tr>\n",
       "      <th>完整</th>\n",
       "      <td>-0.2332</td>\n",
       "      <td>-0.2007</td>\n",
       "      <td>-0.1542</td>\n",
       "      <td>-0.1195</td>\n",
       "    </tr>\n",
       "    <tr>\n",
       "      <th>拆分</th>\n",
       "      <td>-0.2322</td>\n",
       "      <td>-0.2007</td>\n",
       "      <td>-0.1657</td>\n",
       "      <td>-0.1280</td>\n",
       "    </tr>\n",
       "  </tbody>\n",
       "</table>\n",
       "</div>"
      ],
      "text/plain": [
       "      基准最大回撤          策略最大回撤        \n",
       "        mean  median    mean  median\n",
       "name                                \n",
       "完整   -0.2332 -0.2007 -0.1542 -0.1195\n",
       "拆分   -0.2322 -0.2007 -0.1657 -0.1280"
      ]
     },
     "execution_count": 9,
     "metadata": {},
     "output_type": "execute_result"
    }
   ],
   "source": [
    "report.groupby('name')['基准最大回撤','策略最大回撤'].agg(['mean','median'])"
   ]
  },
  {
   "cell_type": "code",
   "execution_count": 10,
   "id": "1f7b3497",
   "metadata": {},
   "outputs": [
    {
     "data": {
      "text/html": [
       "<div>\n",
       "<style scoped>\n",
       "    .dataframe tbody tr th:only-of-type {\n",
       "        vertical-align: middle;\n",
       "    }\n",
       "\n",
       "    .dataframe tbody tr th {\n",
       "        vertical-align: top;\n",
       "    }\n",
       "\n",
       "    .dataframe thead th {\n",
       "        text-align: right;\n",
       "    }\n",
       "</style>\n",
       "<table border=\"1\" class=\"dataframe\">\n",
       "  <thead>\n",
       "    <tr style=\"text-align: right;\">\n",
       "      <th></th>\n",
       "      <th></th>\n",
       "      <th>跑赢基准</th>\n",
       "    </tr>\n",
       "    <tr>\n",
       "      <th>name</th>\n",
       "      <th>passyears</th>\n",
       "      <th></th>\n",
       "    </tr>\n",
       "  </thead>\n",
       "  <tbody>\n",
       "    <tr>\n",
       "      <th rowspan=\"3\" valign=\"top\">完整</th>\n",
       "      <th>1</th>\n",
       "      <td>0.6861</td>\n",
       "    </tr>\n",
       "    <tr>\n",
       "      <th>2</th>\n",
       "      <td>0.6353</td>\n",
       "    </tr>\n",
       "    <tr>\n",
       "      <th>3</th>\n",
       "      <td>0.6758</td>\n",
       "    </tr>\n",
       "    <tr>\n",
       "      <th rowspan=\"3\" valign=\"top\">拆分</th>\n",
       "      <th>1</th>\n",
       "      <td>0.5363</td>\n",
       "    </tr>\n",
       "    <tr>\n",
       "      <th>2</th>\n",
       "      <td>0.5145</td>\n",
       "    </tr>\n",
       "    <tr>\n",
       "      <th>3</th>\n",
       "      <td>0.5657</td>\n",
       "    </tr>\n",
       "  </tbody>\n",
       "</table>\n",
       "</div>"
      ],
      "text/plain": [
       "                  跑赢基准\n",
       "name passyears        \n",
       "完整   1          0.6861\n",
       "     2          0.6353\n",
       "     3          0.6758\n",
       "拆分   1          0.5363\n",
       "     2          0.5145\n",
       "     3          0.5657"
      ]
     },
     "execution_count": 10,
     "metadata": {},
     "output_type": "execute_result"
    }
   ],
   "source": [
    "import matplotlib.ticker as mtick\n",
    "win_rate = report.groupby(\n",
    "    ['name', 'passyears'])['跑赢基准'].value_counts(normalize=True).to_frame()\n",
    "win_rate = win_rate[win_rate.index.get_level_values(2) == 1]\n",
    "win_rate.index = win_rate.index.droplevel(2)\n",
    "win_rate"
   ]
  },
  {
   "cell_type": "code",
   "execution_count": 11,
   "id": "9d91e895",
   "metadata": {},
   "outputs": [
    {
     "data": {
      "text/plain": [
       "Text(0.5, 1.0, '拆分/完整 跑赢基准的可能性')"
      ]
     },
     "execution_count": 11,
     "metadata": {},
     "output_type": "execute_result"
    },
    {
     "data": {
      "image/png": "[encoded data removed]",
      "text/plain": [
       "<Figure size 1008x504 with 1 Axes>"
      ]
     },
     "metadata": {},
     "output_type": "display_data"
    }
   ],
   "source": [
    "win_rate.reset_index(inplace=True)\n",
    "ax = sns.lineplot(data=win_rate, x=\"passyears\", y=\"跑赢基准\", hue=\"name\")\n",
    "ax.set_ylabel('跑赢基准的可能性')\n",
    "ax.set_xlabel('向前看的年数')\n",
    "ax.yaxis.set_major_formatter(mtick.PercentFormatter(1))\n",
    "plt.title(\"拆分/完整 跑赢基准的可能性\")"
   ]
  },
  {
   "cell_type": "code",
   "execution_count": null,
   "id": "7817fa51",
   "metadata": {},
   "outputs": [],
   "source": [
    "from IPython.display import clear_output\n",
    "clear_output(wait=True)\n",
    "report_plot(report)"
   ]
  },
  {
   "cell_type": "code",
   "execution_count": null,
   "id": "f8fcb2a7",
   "metadata": {},
   "outputs": [],
   "source": []
  }
 ],
 "metadata": {
  "kernelspec": {
   "display_name": "Python 3",
   "language": "python",
   "name": "python3"
  },
  "language_info": {
   "codemirror_mode": {
    "name": "ipython",
    "version": 3
   },
   "file_extension": ".py",
   "mimetype": "text/x-python",
   "name": "python",
   "nbconvert_exporter": "python",
   "pygments_lexer": "ipython3",
   "version": "3.7.3"
  }
 },
 "nbformat": 4,
 "nbformat_minor": 5
}
