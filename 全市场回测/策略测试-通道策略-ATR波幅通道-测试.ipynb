{
 "cells": [
  {
   "cell_type": "markdown",
   "metadata": {},
   "source": [
    "# 说明\n",
    "\n",
    "此文档的测试采用`QA.QA_fetch_stock_list_adv`读取本地股票列表，对所有股票进行回测。回测时使用`QA.QA_fetch_stock_day_adv`读取本地存储的所有股票的日线数据进行回测。需要保证本地有相关日线数据。\n",
    "\n",
    "本测试是对`ATR波幅通道`进行全市场测试。首先在[测试](#测试)中在全市场范围内测试`初始ATR波幅通道`(测试时间2014-01-01~2018-12-31)。共找到`195`支股票（总测试股票3863。约占5%。）的交易次数达到`交易次数30次以上并且R乘数>3`。\n",
    "\n",
    "```\n",
    "['000046', '000150', '000410', '000502', '000503', '000516',\n",
    "       '000540', '000555', '000616', '000623', '000626', '000651',\n",
    "       '000662', '000686', '000728', '000768', '000815', '000836',\n",
    "       '000890', '000892', '000923', '000929', '000948', '000955',\n",
    "       '000978', '000989', '001696', '002001', '002037', '002048',\n",
    "       '002055', '002089', '002170', '002176', '002183', '002189',\n",
    "       '002191', '002197', '002201', '002210', '002221', '002230',\n",
    "       '002231', '002260', '002268', '002271', '002276', '002280',\n",
    "       '002283', '002295', '002318', '002323', '002324', '002337',\n",
    "       '002339', '002344', '002348', '002354', '002373', '002402',\n",
    "       '002415', '002424', '002427', '002471', '002481', '002488',\n",
    "       '002497', '002500', '002515', '002522', '002538', '002542',\n",
    "       '002544', '002568', '002581', '002606', '002612', '002620',\n",
    "       '002631', '002657', '002664', '002667', '002673', '002675',\n",
    "       '002687', '002694', '002707', '002708', '002741', '300002',\n",
    "       '300007', '300010', '300016', '300018', '300024', '300027',\n",
    "       '300038', '300059', '300066', '300069', '300075', '300081',\n",
    "       '300085', '300086', '300094', '300128', '300139', '300149',\n",
    "       '300151', '300154', '300159', '300168', '300173', '300174',\n",
    "       '300246', '300252', '300253', '300266', '300289', '300290',\n",
    "       '300295', '300302', '300318', '300320', '300321', '300323',\n",
    "       '300326', '300332', '300333', '300345', '300348', '300350',\n",
    "       '300370', '300378', '300380', '300384', '300388', '300399',\n",
    "       '600021', '600035', '600091', '600103', '600107', '600118',\n",
    "       '600148', '600179', '600180', '600182', '600229', '600238',\n",
    "       '600247', '600271', '600275', '600276', '600291', '600309',\n",
    "       '600318', '600365', '600436', '600460', '600482', '600516',\n",
    "       '600529', '600532', '600571', '600576', '600580', '600588',\n",
    "       '600606', '600614', '600635', '600666', '600681', '600704',\n",
    "       '600705', '600715', '600728', '600735', '600749', '600758',\n",
    "       '600767', '600768', '600770', '600804', '600862', '600875',\n",
    "       '600893', '600895', '600978', '600986', '601010', '601018',\n",
    "       '601727', '601766', '603456']\n",
    "```\n",
    "\n",
    "分别对三种初始资金`100,000，50,000,10,000`。进行了测试。以下列出初始资金为`10,000`时的测试回测结果：\n",
    "\n",
    "| name                                 |   盈亏总额 |   最终价值 |   交易次数 |   盈利次数 |   亏损次数 |   盈利比率 |   每笔交易平均盈亏额 |   盈利交易平均盈利额 |   亏损交易平均亏损额 |    R |   最大回撤 |   买入平均花费 |\n",
    "|:-------------------------------------|-----------:|-----------:|-----------:|-----------:|-----------:|-----------:|---------------------:|---------------------:|---------------------:|-----:|-----------:|---------------:|\n",
    "| 原始ATR波幅                          |    7909.28 |    14210.4 |         98 |         49 |         49 |   0.5      |              66.6886 |              161.414 |             -28.0367 | 2.38 |  -0.115888 |        763.151 |\n",
    "| 原始ATR波幅+最多持仓天数             |    5770.63 |    12515.6 |        109 |         53 |         56 |   0.486239 |              37.0544 |              108.88  |             -30.9233 | 1.2  |  -0.184929 |        865.12  |\n",
    "| 原始ATR波幅+两倍ATR加仓              |   11855    |    16801.6 |        102 |         59 |         43 |   0.578431 |             106.088  |              200.933 |             -24.0467 | 4.41 |  -0.143816 |        722.416 |\n",
    "| 原始ATR波幅+最多持仓天数+两倍ATR加仓 |   13230    |    18076.5 |        119 |         58 |         61 |   0.487395 |              96.5716 |              228.104 |             -28.4918 | 3.39 |  -0.157535 |        802.881 |\n",
    "\n",
    "由于跟踪的股票太多，所以后面又根据测试数量越多越符合统计结果的原则将成交笔数增加至60，来作为筛选条件，找到`8`支待在2019年度进行测试的股票。`['002001', '002221', '002295', '300139', '300151', '600460','600529', '600635']`。\n",
    "\n",
    "对以上8支股票在2019年度进行了测试回测，结果如下：\n",
    "\n",
    "| name                                 |   盈亏总额 |   最终价值 |   交易次数 |   盈利次数 |   亏损次数 |   盈利比率 |   每笔交易平均盈亏额 |   盈利交易平均盈利额 |   亏损交易平均亏损额 |    R |   最大回撤 |   买入平均花费 |\n",
    "|:-------------------------------------|-----------:|-----------:|-----------:|-----------:|-----------:|-----------:|---------------------:|---------------------:|---------------------:|-----:|-----------:|---------------:|\n",
    "| 原始ATR波幅                          |    6663.53 |    16167.3 |         32 |         23 |          9 |   0.71875  |              198.233 |              289.719 |             -35.5643 | 5.57 |  -0.139599 |        1123.49 |\n",
    "| 原始ATR波幅+最多持仓天数             |    6047.42 |    15931.1 |         39 |         25 |         14 |   0.641026 |              143.772 |              241.897 |             -31.4501 | 4.57 |  -0.1115   |        1169.69 |\n",
    "| 原始ATR波幅+两倍ATR加仓              |    7759.82 |    14615.5 |         42 |         28 |         14 |   0.666667 |              175.129 |              277.136 |             -28.8871 | 6.06 |  -0.148622 |        1150.63 |\n",
    "| 原始ATR波幅+最多持仓天数+两倍ATR加仓 |    7179.31 |    14096   |         48 |         30 |         18 |   0.625    |              139.662 |              239.31  |             -26.4171 | 5.29 |  -0.135484 |        1155.84 |\n",
    "\n",
    "**从以上结果可以看出在资金量一样的情况下，虽然最终价值相差不大。但是跟踪股票数量更多的交易次数更多，反而更多的利润交给了券商。反而R值会更小，最大回撤会更大。**"
   ]
  },
  {
   "cell_type": "code",
   "execution_count": 1,
   "metadata": {
    "ExecuteTime": {
     "end_time": "2020-07-28T03:26:01.575249Z",
     "start_time": "2020-07-28T03:25:49.281915Z"
    }
   },
   "outputs": [
    {
     "name": "stderr",
     "output_type": "stream",
     "text": [
      "Expand macros in C:\\Users\\GuQiang\\Anaconda3\\envs\\stock_ai\\lib\\site-packages\\macropy\\core\\hquotes.py\n",
      "Finding macros in 'macropy.core.hquotes'\n",
      "Importing macros from 'macropy.core.quotes' into 'macropy.core.hquotes'\n",
      "Expand macros in C:\\Users\\GuQiang\\Anaconda3\\envs\\stock_ai\\lib\\site-packages\\macropy\\core\\quotes.py\n",
      "Finding macros in 'macropy.core.quotes'\n",
      "Expand macros in C:\\Users\\GuQiang\\Anaconda3\\envs\\stock_ai\\lib\\site-packages\\macropy\\core\\failure.py\n",
      "Finding macros in 'macropy.core.failure'\n",
      "Importing macros from 'macropy.core.hquotes' into 'macropy.core.failure'\n",
      "Expand macros in C:\\Users\\GuQiang\\Anaconda3\\envs\\stock_ai\\lib\\site-packages\\numba\\core\\pythonapi.py\n",
      "Finding macros in 'numba.core.pythonapi'\n",
      "Expand macros in C:\\Users\\GuQiang\\Anaconda3\\envs\\stock_ai\\lib\\site-packages\\numba\\core\\rewrites\\__init__.py\n",
      "Finding macros in 'numba.core.rewrites'\n",
      "Expand macros in C:\\Users\\GuQiang\\Anaconda3\\envs\\stock_ai\\lib\\site-packages\\numba\\core\\rewrites\\macros.py\n",
      "Finding macros in 'numba.core.rewrites.macros'\n",
      "Expand macros in C:\\Users\\GuQiang\\Anaconda3\\envs\\stock_ai\\lib\\netrc.py\n",
      "Finding macros in 'netrc'\n"
     ]
    }
   ],
   "source": [
    "import gquant\n",
    "import abupy\n",
    "import QUANTAXIS as QA\n",
    "import gquant.jupyter_helper\n",
    "from tqdm import tqdm_notebook\n",
    "from IPython.display import clear_output\n",
    "import logging\n",
    "gquant.jupyter_helper.init()\n",
    "logging.disable(logging.DEBUG)"
   ]
  },
  {
   "cell_type": "code",
   "execution_count": 2,
   "metadata": {
    "ExecuteTime": {
     "end_time": "2020-07-28T03:26:01.623126Z",
     "start_time": "2020-07-28T03:26:01.577220Z"
    }
   },
   "outputs": [],
   "source": [
    "symbol_list=QA.QA_fetch_stock_list_adv()"
   ]
  },
  {
   "cell_type": "code",
   "execution_count": 3,
   "metadata": {
    "ExecuteTime": {
     "end_time": "2020-07-28T03:26:01.628093Z",
     "start_time": "2020-07-28T03:26:01.625120Z"
    }
   },
   "outputs": [],
   "source": [
    "# symbol_list"
   ]
  },
  {
   "cell_type": "code",
   "execution_count": 4,
   "metadata": {
    "ExecuteTime": {
     "end_time": "2020-07-28T03:26:01.643057Z",
     "start_time": "2020-07-28T03:26:01.631077Z"
    },
    "code_folding": []
   },
   "outputs": [],
   "source": [
    "class LocalDataAPI(abupy.MarketBu.ABuDataBase.StockBaseMarket,\n",
    "                   abupy.MarketBu.ABuDataBase.SupportMixin):\n",
    "    def _support_market(self):\n",
    "        \"\"\"声明数据源支持A股\"\"\"\n",
    "        return [abupy.EMarketTargetType.E_MARKET_TARGET_CN]\n",
    "\n",
    "    def kline(self, n_folds=2, start=None, end=None):\n",
    "#         import pdb\n",
    "#         pdb.set_trace()\n",
    "        if self._symbol.is_index():\n",
    "            df=QA.QA_fetch_index_day_adv(self._symbol.symbol_code,start,end).data.copy()\n",
    "        else:\n",
    "            df=QA.QA_fetch_stock_day_adv(self._symbol.symbol_code,start,end).to_qfq().data.copy()\n",
    "        df['pre_close'] = df['close'].shift()\n",
    "        df['date'] = df.index.get_level_values(0)\n",
    "        df['date'] = df['date'].dt.strftime('%Y%m%d').apply(\n",
    "            lambda x: abupy.ABuDateUtil.date_str_to_int(x))\n",
    "        df.index = df.index.droplevel(1)\n",
    "        df.index.name = 'dt'\n",
    "        df['date_week'] = df.index.dayofweek\n",
    "        if start and end:\n",
    "            return df[start:end]\n",
    "        elif start:\n",
    "            return df[start:]\n",
    "        elif end:\n",
    "            return df[:end]\n",
    "        return df\n",
    "\n",
    "    def minute(self, n_fold=5, *args, **kwargs):\n",
    "        \"\"\"分钟k线接口\"\"\"\n",
    "        raise NotImplementedError('QAApi minute NotImplementedError!')"
   ]
  },
  {
   "cell_type": "code",
   "execution_count": 5,
   "metadata": {
    "ExecuteTime": {
     "end_time": "2020-07-28T03:26:01.651051Z",
     "start_time": "2020-07-28T03:26:01.646037Z"
    }
   },
   "outputs": [],
   "source": [
    "abupy.env.g_market_target = abupy.env.EMarketTargetType.E_MARKET_TARGET_CN\n",
    "# 所有任务数据强制网络更新\n",
    "abupy.env.g_data_fetch_mode = abupy.env.EMarketDataFetchMode.E_DATA_FETCH_FORCE_NET\n",
    "# 使用QUATAXIS本地数据作为数据源\n",
    "abupy.env.g_private_data_source = LocalDataAPI"
   ]
  },
  {
   "cell_type": "code",
   "execution_count": 6,
   "metadata": {
    "ExecuteTime": {
     "end_time": "2020-07-28T03:26:01.663988Z",
     "start_time": "2020-07-28T03:26:01.654016Z"
    },
    "code_folding": []
   },
   "outputs": [],
   "source": [
    "from abupy.IndicatorBu.ABuNDAtr import calc_atr\n",
    "from QUANTAXIS.QAIndicator.talib_series import SMA\n",
    "from QUANTAXIS.QAIndicator.talib_series import BBANDS\n",
    "\n",
    "class KLManager(abupy.AbuKLManager):\n",
    "    def _fetch_pick_time_kl_pd(self, target_symbol):\n",
    "        data = abupy.MarketBu.ABuSymbolPd.make_kl_df(target_symbol,start=self.benchmark.start,end=self.benchmark.end)\n",
    "        if not data.empty:\n",
    "            high = data['high']\n",
    "            low = data['low']\n",
    "            pre_close = data['pre_close']\n",
    "            data['ma']=SMA(data['close'],20)\n",
    "            data['atr']=calc_atr(high, low, pre_close, 20)\n",
    "            data['up']=data['ma']+data['atr']\n",
    "            data['low']=data['ma']-data['atr']\n",
    "            data['atr14'] = calc_atr(high, low, pre_close, 14)\n",
    "            data['atr21'] = calc_atr(high, low, pre_close, 21)\n",
    "            # 收盘价上穿20日移动均线+20日ATR\n",
    "            data['buy']=QA.QAIndicator.CROSS(data['close'],data['up'])\n",
    "            # 收盘价下穿20日移动均线-20日ATR\n",
    "            data['sell']=QA.QAIndicator.CROSS(data['low'],data['close'])\n",
    "            result = data[self.benchmark.start:self.benchmark.end]\n",
    "            result.name = data.name\n",
    "        else:\n",
    "            return data\n",
    "#         logging.info(result)\n",
    "        return result"
   ]
  },
  {
   "cell_type": "markdown",
   "metadata": {},
   "source": [
    "## 仓位控制方法"
   ]
  },
  {
   "cell_type": "code",
   "execution_count": 7,
   "metadata": {
    "ExecuteTime": {
     "end_time": "2020-07-28T03:26:01.680943Z",
     "start_time": "2020-07-28T03:26:01.669975Z"
    },
    "code_folding": [
     0
    ]
   },
   "outputs": [],
   "source": [
    "class Position1(abupy.AbuPositionBase):\n",
    "    \"\"\"1手\"\"\"\n",
    "    def _init_self(self, **kwargs):\n",
    "        \"\"\"子类仓位管理针对可扩展参数的初始化\"\"\"\n",
    "        pass\n",
    "\n",
    "    def fit_position(self, factor_object):\n",
    "        return 100"
   ]
  },
  {
   "cell_type": "markdown",
   "metadata": {},
   "source": [
    "## 回测方法"
   ]
  },
  {
   "cell_type": "code",
   "execution_count": 8,
   "metadata": {
    "ExecuteTime": {
     "end_time": "2020-07-28T03:26:01.695903Z",
     "start_time": "2020-07-28T03:26:01.686927Z"
    },
    "code_folding": []
   },
   "outputs": [],
   "source": [
    "def backtest(symbol,buy_factors,sell_factors,init_cash=10000,**kwargs):\n",
    "    start = kwargs.pop('start','2014-01-01')\n",
    "    end = kwargs.pop('end','2018-12-31')\n",
    "\n",
    "    benchmark = abupy.AbuBenchmark('000300', start, end)\n",
    "    capital = abupy.AbuCapital(init_cash, benchmark)\n",
    "    klmanager=kwargs.pop('klmanager',KLManager)\n",
    "    \n",
    "    \n",
    "    if isinstance(symbol,str):\n",
    "        symbol=[symbol]\n",
    "    orders_pd, action_pd, _ = abupy.ABuPickTimeExecute.do_symbols_with_same_factors(\n",
    "        symbol,\n",
    "        benchmark,\n",
    "        buy_factors,\n",
    "        sell_factors,\n",
    "        capital,\n",
    "        kl_pd_manager=klmanager(benchmark, capital),\n",
    "        show=False)\n",
    "    m = gquant.Metrics(orders_pd, action_pd, capital, benchmark)\n",
    "    m.fit_metrics()\n",
    "    if hasattr(m, 'act_sell') and not m.act_sell.empty:\n",
    "        m.act_sell['profit_init']=m.act_sell['profit'] / m.capital.read_cash\n",
    "        m.act_sell['profit_init_hunder'] = m.act_sell['profit_init'] * 100\n",
    "        return m\n",
    "    return None"
   ]
  },
  {
   "cell_type": "markdown",
   "metadata": {},
   "source": [
    "## 回测绘图"
   ]
  },
  {
   "cell_type": "code",
   "execution_count": 268,
   "metadata": {
    "ExecuteTime": {
     "end_time": "2020-07-29T01:20:14.402296Z",
     "start_time": "2020-07-29T01:20:14.389298Z"
    }
   },
   "outputs": [],
   "source": [
    "def plot_cum_returns(metrics):\n",
    "    metrics.benchmark_cum_returns.plot()\n",
    "    metrics.algorithm_cum_returns.plot()\n",
    "    gquant.plt.legend(['基准收益', '策略收益'], loc='best')\n",
    "    gquant.plt.title('收益对比')\n",
    "    gquant.plt.show()\n",
    "\n",
    "def plot_win_loss_pie(metrics):\n",
    "    gquant.plt.pie(x=[len(metrics.ret), len(metrics.los)],\n",
    "                   labels=['盈利', '亏损'],\n",
    "                   colors=['#d62728', '#2ca02c'],\n",
    "                   autopct='%1.2f%%')\n",
    "    gquant.plt.title('盈亏次数比')\n",
    "    gquant.plt.show()\n",
    "    \n",
    "def plot_win_loss_bar(metrics,v='profit_cg_hunder'):\n",
    "    import matplotlib.ticker\n",
    "    vc=gquant.np.round(metrics.act_sell[v],0).value_counts().sort_index().to_frame()\n",
    "    ax=vc.plot(kind='bar',title='盈亏百分比次数')\n",
    "#     gquant.plt.axvline(x=gquant.np.where(vc.index.to_numpy()==0)[0], color='#d68a27')\n",
    "#     ax.xaxis.set_major_formatter(matplotlib.ticker.FormatStrFormatter('%d'))\n",
    "    gquant.plt.show()\n",
    "    \n",
    "def plot_capital_blance(metrics):\n",
    "    metrics.capital.capital_pd.capital_blance.plot(title='账户价值曲线')\n",
    "    metrics.capital.capital_pd.cash_blance .plot(title='账户现金曲线')\n",
    "    gquant.plt.xticks(rotation=70)\n",
    "    gquant.plt.legend()\n",
    "    gquant.plt.show()"
   ]
  },
  {
   "cell_type": "markdown",
   "metadata": {},
   "source": [
    "## 买卖策略\n",
    "\n",
    "### 买卖-ATR波幅"
   ]
  },
  {
   "cell_type": "code",
   "execution_count": 9,
   "metadata": {
    "ExecuteTime": {
     "end_time": "2020-07-28T03:26:01.707909Z",
     "start_time": "2020-07-28T03:26:01.699894Z"
    },
    "code_folding": [
     0,
     9
    ]
   },
   "outputs": [],
   "source": [
    "class BuyStrategy1(gquant.abupy.AbuFactorBuyTD, gquant.abupy.BuyCallMixin):\n",
    "    def _init_self(self, **kwargs):\n",
    "        self.factor_name = self.__class__.__name__\n",
    "\n",
    "    def fit_day(self, today):\n",
    "        if today['buy']:\n",
    "            return self.buy_tomorrow()\n",
    "        return None\n",
    "    \n",
    "class SellStrategy1(gquant.abupy.AbuFactorSellBase):\n",
    "    def _init_self(self, **kwargs):\n",
    "        self.factor_name = self.__class__.__name__\n",
    "\n",
    "    def support_direction(self):\n",
    "        \"\"\"支持的方向，只支持正向\"\"\"\n",
    "        return [abupy.ESupportDirection.DIRECTION_CAll.value]\n",
    "\n",
    "    def fit_day(self, today, orders):\n",
    "        if today['sell']:\n",
    "            for order in orders:\n",
    "                self.sell_tomorrow(order)"
   ]
  },
  {
   "cell_type": "markdown",
   "metadata": {},
   "source": [
    "### 卖-最大持仓天数（20天）"
   ]
  },
  {
   "cell_type": "code",
   "execution_count": 10,
   "metadata": {
    "ExecuteTime": {
     "end_time": "2020-07-28T03:26:01.719839Z",
     "start_time": "2020-07-28T03:26:01.710870Z"
    },
    "code_folding": [
     2
    ]
   },
   "outputs": [],
   "source": [
    "_max_hold_days=20\n",
    "\n",
    "class SellStrategy2(abupy.AbuFactorSellBase):\n",
    "    \"\"\"n日卖出策略。当N日后股价小于等于买入价时卖出。\"\"\"\n",
    "\n",
    "    def _init_self(self, **kwargs):\n",
    "        \"\"\"kwargs中可以包含: 参数sell_n：代表买入后持有的天数，默认20天\"\"\"\n",
    "        self.sell_n = kwargs.pop('sell_n', _max_hold_days)\n",
    "        self.sell_type_extra = '{}:sell_n={}'.format(self.__class__.__name__, self.sell_n)\n",
    "\n",
    "    def support_direction(self):\n",
    "        \"\"\"因子支持两个方向\"\"\"\n",
    "        return [abupy.ESupportDirection.DIRECTION_CAll.value]\n",
    "\n",
    "\n",
    "    def fit_day(self, today, orders):\n",
    "        for order in orders:\n",
    "            # 将单子的持有天数进行增加\n",
    "            order.keep_days += 1\n",
    "            if order.keep_days >= self.sell_n and order.buy_price>=today.close:\n",
    "                self.sell_tomorrow(order)"
   ]
  },
  {
   "cell_type": "markdown",
   "metadata": {},
   "source": [
    "### 买-当日价格超过购买价+2倍购买日ATR"
   ]
  },
  {
   "cell_type": "code",
   "execution_count": 11,
   "metadata": {
    "ExecuteTime": {
     "end_time": "2020-07-28T03:26:01.730811Z",
     "start_time": "2020-07-28T03:26:01.722832Z"
    },
    "code_folding": [
     0
    ]
   },
   "outputs": [],
   "source": [
    "class BuyStrategy2(gquant.abupy.AbuFactorBuyTD, gquant.abupy.BuyCallMixin):\n",
    "    def _init_self(self, **kwargs):\n",
    "        self.factor_name = self.__class__.__name__\n",
    "\n",
    "    def fit_day(self, today):\n",
    "        if self.orders:\n",
    "            o=self.orders[-1]\n",
    "            if o.sell_date is None:\n",
    "                buy=self.kl_pd[self.kl_pd['date']==o.buy_date]#最后一次购买当日的信息\n",
    "                atr=buy.iloc[0]['atr']#最后一次购买当日的atr数据\n",
    "                if today.close>today.up and today.close>o.buy_price+2*atr:\n",
    "                    return self.buy_tomorrow()"
   ]
  },
  {
   "cell_type": "markdown",
   "metadata": {},
   "source": [
    "# 训练测试"
   ]
  },
  {
   "cell_type": "code",
   "execution_count": 12,
   "metadata": {
    "ExecuteTime": {
     "end_time": "2020-07-28T03:26:01.742778Z",
     "start_time": "2020-07-28T03:26:01.733802Z"
    },
    "code_folding": [
     1,
     17,
     35,
     58
    ]
   },
   "outputs": [],
   "source": [
    "ts = {\n",
    "    '原始ATR波幅': {\n",
    "        # 买入因子\n",
    "        'buy_factors': [\n",
    "            {\n",
    "                'class': BuyStrategy1,\n",
    "                # 仓位管理\n",
    "                'position': {\n",
    "                    'class': Position1\n",
    "                }\n",
    "            },\n",
    "        ],\n",
    "        # 卖出因子\n",
    "        'sell_factors': [{\n",
    "            'class': SellStrategy1,\n",
    "        }]\n",
    "    },\n",
    "    '原始ATR波幅+最多持仓天数': {\n",
    "        # 买入因子\n",
    "        'buy_factors': [\n",
    "            {\n",
    "                'class': BuyStrategy1,\n",
    "                # 仓位管理\n",
    "                'position': {\n",
    "                    'class': Position1\n",
    "                }\n",
    "            },\n",
    "        ],\n",
    "        # 卖出因子\n",
    "        'sell_factors': [{\n",
    "            'class': SellStrategy1,\n",
    "        }, {\n",
    "            'class': SellStrategy2,\n",
    "        }]\n",
    "    },\n",
    "    '原始ATR波幅+两倍ATR加仓': {\n",
    "        # 买入因子\n",
    "        'buy_factors': [\n",
    "            {\n",
    "                'class': BuyStrategy1,\n",
    "                # 仓位管理\n",
    "                'position': {\n",
    "                    'class': Position1\n",
    "                }\n",
    "            },\n",
    "            {\n",
    "                'class': BuyStrategy2,\n",
    "                # 仓位管理\n",
    "                'position': {\n",
    "                    'class': Position1\n",
    "                }\n",
    "            }\n",
    "        ],\n",
    "        # 卖出因子\n",
    "        'sell_factors': [{\n",
    "            'class': SellStrategy1,\n",
    "        }]\n",
    "    },\n",
    "    '原始ATR波幅+最多持仓天数+两倍ATR加仓': {\n",
    "        # 买入因子\n",
    "        'buy_factors': [\n",
    "            {\n",
    "                'class': BuyStrategy1,\n",
    "                # 仓位管理\n",
    "                'position': {\n",
    "                    'class': Position1\n",
    "                }\n",
    "            },\n",
    "            {\n",
    "                'class': BuyStrategy2,\n",
    "                # 仓位管理\n",
    "                'position': {\n",
    "                    'class': Position1\n",
    "                }\n",
    "            }\n",
    "        ],\n",
    "        # 卖出因子\n",
    "        'sell_factors': [{\n",
    "            'class': SellStrategy1,\n",
    "        }, {\n",
    "            'class': SellStrategy2,\n",
    "        }]\n",
    "    },\n",
    "}"
   ]
  },
  {
   "cell_type": "markdown",
   "metadata": {},
   "source": [
    "## 全市场\n",
    "\n",
    "使用原始波幅测试所有股票。测试期间为`2014-01-01~2018-12-31`。\n",
    "\n",
    "结果存储在`datas\\ATR波幅通道-全市场测试-2014至2018.xlsx`文件中。如果文件存在就读取，不再重复测试（测试时间过长）。"
   ]
  },
  {
   "cell_type": "code",
   "execution_count": null,
   "metadata": {
    "ExecuteTime": {
     "start_time": "2020-07-29T02:12:24.001Z"
    }
   },
   "outputs": [],
   "source": [
    "def getreport(bts):\n",
    "    report=[]\n",
    "    for symbol,metrics in bts.items():\n",
    "        for name,m in metrics.items():\n",
    "            if m is None:\n",
    "                continue\n",
    "            p=m.profit_series(name=name)\n",
    "            p=gquant.pd.to_numeric(p)\n",
    "            p['code']=symbol\n",
    "            report.append(p)\n",
    "    if not report:\n",
    "        return gquant.pd.DataFrame({'R':[]})\n",
    "    report=gquant.pd.concat(report, axis=1).T\n",
    "    for col in report.columns:\n",
    "        if col=='code':\n",
    "            continue\n",
    "        report[col]=gquant.pd.to_numeric(report[col])\n",
    "    return report\n",
    "\n",
    "import os\n",
    "import pickle\n",
    "data_file='datas\\ATR波幅通道-全市场测试-2014至2018.xlsx'\n",
    "if os.path.exists(data_file):\n",
    "    report=gquant.pd.read_excel('datas\\ATR波幅通道-全市场测试-2014至2018.xlsx',encoding='utf_8_sig',dtype={'code':str},index_col=0)\n",
    "else:\n",
    "    bts={}\n",
    "\n",
    "    for symbol in tqdm_notebook(symbol_list.code):\n",
    "        bts[symbol]={}\n",
    "        for k,v in ts.items():\n",
    "            if k!='原始ATR波幅':\n",
    "                continue\n",
    "            try:\n",
    "                m=backtest(symbol,v['buy_factors'],v['sell_factors'],start='2014-01-01',end='2018-12-31')\n",
    "                if m is None:\n",
    "                    continue\n",
    "                bts[symbol][k]=m\n",
    "            except:\n",
    "                pass\n",
    "\n",
    "    report=getreport(bts)\n",
    "    report.to_excel(data_file,encoding='utf_8_sig')\n",
    "    \n",
    "#     with open('datas\\ATR波幅通道-全市场测试-Metrics-2014至2018.pickle', 'wb') as f:\n",
    "#         pickle.dump(bts, f, pickle.HIGHEST_PROTOCOL)\n",
    "\n",
    "clear_output(wait=True)"
   ]
  },
  {
   "cell_type": "code",
   "execution_count": null,
   "metadata": {
    "ExecuteTime": {
     "start_time": "2020-07-29T02:19:42.836Z"
    }
   },
   "outputs": [],
   "source": [
    "# with open('datas\\ATR波幅通道-全市场测试-Metrics-2014至2018.pickle', 'rb') as f:\n",
    "#     data = pickle.load(f)"
   ]
  },
  {
   "cell_type": "markdown",
   "metadata": {},
   "source": [
    "### 结果"
   ]
  },
  {
   "cell_type": "code",
   "execution_count": 34,
   "metadata": {
    "ExecuteTime": {
     "end_time": "2020-07-28T07:39:38.793929Z",
     "start_time": "2020-07-28T07:39:38.761987Z"
    }
   },
   "outputs": [
    {
     "data": {
      "text/html": [
       "<div>\n",
       "<style scoped>\n",
       "    .dataframe tbody tr th:only-of-type {\n",
       "        vertical-align: middle;\n",
       "    }\n",
       "\n",
       "    .dataframe tbody tr th {\n",
       "        vertical-align: top;\n",
       "    }\n",
       "\n",
       "    .dataframe thead th {\n",
       "        text-align: right;\n",
       "    }\n",
       "</style>\n",
       "<table border=\"1\" class=\"dataframe\">\n",
       "  <thead>\n",
       "    <tr style=\"text-align: right;\">\n",
       "      <th></th>\n",
       "      <th>盈亏总额</th>\n",
       "      <th>最终价值</th>\n",
       "      <th>交易次数</th>\n",
       "      <th>盈利次数</th>\n",
       "      <th>亏损次数</th>\n",
       "      <th>盈利比率</th>\n",
       "      <th>每笔交易平均盈亏额</th>\n",
       "      <th>盈利交易平均盈利额</th>\n",
       "      <th>亏损交易平均亏损额</th>\n",
       "      <th>R</th>\n",
       "      <th>最大回撤</th>\n",
       "      <th>买入平均花费</th>\n",
       "      <th>code</th>\n",
       "    </tr>\n",
       "  </thead>\n",
       "  <tbody>\n",
       "    <tr>\n",
       "      <th>原始ATR波幅</th>\n",
       "      <td>33787.6501</td>\n",
       "      <td>42895.063</td>\n",
       "      <td>44</td>\n",
       "      <td>25</td>\n",
       "      <td>19</td>\n",
       "      <td>0.5682</td>\n",
       "      <td>743.4394</td>\n",
       "      <td>1351.5060</td>\n",
       "      <td>-56.6482</td>\n",
       "      <td>13.12</td>\n",
       "      <td>-0.2018</td>\n",
       "      <td>868.5447</td>\n",
       "      <td>600021</td>\n",
       "    </tr>\n",
       "    <tr>\n",
       "      <th>原始ATR波幅</th>\n",
       "      <td>23002.5993</td>\n",
       "      <td>32120.943</td>\n",
       "      <td>46</td>\n",
       "      <td>23</td>\n",
       "      <td>23</td>\n",
       "      <td>0.5000</td>\n",
       "      <td>480.7426</td>\n",
       "      <td>1000.1130</td>\n",
       "      <td>-38.6279</td>\n",
       "      <td>12.45</td>\n",
       "      <td>-0.2446</td>\n",
       "      <td>630.0731</td>\n",
       "      <td>601727</td>\n",
       "    </tr>\n",
       "    <tr>\n",
       "      <th>原始ATR波幅</th>\n",
       "      <td>41511.5473</td>\n",
       "      <td>50135.246</td>\n",
       "      <td>35</td>\n",
       "      <td>21</td>\n",
       "      <td>14</td>\n",
       "      <td>0.6000</td>\n",
       "      <td>1146.3739</td>\n",
       "      <td>1976.7403</td>\n",
       "      <td>-99.1758</td>\n",
       "      <td>11.56</td>\n",
       "      <td>-0.2271</td>\n",
       "      <td>1676.0538</td>\n",
       "      <td>300168</td>\n",
       "    </tr>\n",
       "    <tr>\n",
       "      <th>原始ATR波幅</th>\n",
       "      <td>13942.7130</td>\n",
       "      <td>23318.885</td>\n",
       "      <td>37</td>\n",
       "      <td>17</td>\n",
       "      <td>20</td>\n",
       "      <td>0.4595</td>\n",
       "      <td>359.8586</td>\n",
       "      <td>820.1596</td>\n",
       "      <td>-31.3972</td>\n",
       "      <td>11.46</td>\n",
       "      <td>-0.2492</td>\n",
       "      <td>842.7216</td>\n",
       "      <td>600986</td>\n",
       "    </tr>\n",
       "    <tr>\n",
       "      <th>原始ATR波幅</th>\n",
       "      <td>34002.4936</td>\n",
       "      <td>42044.769</td>\n",
       "      <td>43</td>\n",
       "      <td>18</td>\n",
       "      <td>25</td>\n",
       "      <td>0.4186</td>\n",
       "      <td>745.0002</td>\n",
       "      <td>1889.0274</td>\n",
       "      <td>-78.6994</td>\n",
       "      <td>9.47</td>\n",
       "      <td>-0.3628</td>\n",
       "      <td>1409.4577</td>\n",
       "      <td>600571</td>\n",
       "    </tr>\n",
       "    <tr>\n",
       "      <th>...</th>\n",
       "      <td>...</td>\n",
       "      <td>...</td>\n",
       "      <td>...</td>\n",
       "      <td>...</td>\n",
       "      <td>...</td>\n",
       "      <td>...</td>\n",
       "      <td>...</td>\n",
       "      <td>...</td>\n",
       "      <td>...</td>\n",
       "      <td>...</td>\n",
       "      <td>...</td>\n",
       "      <td>...</td>\n",
       "      <td>...</td>\n",
       "    </tr>\n",
       "    <tr>\n",
       "      <th>原始ATR波幅</th>\n",
       "      <td>8533.5577</td>\n",
       "      <td>17694.785</td>\n",
       "      <td>45</td>\n",
       "      <td>30</td>\n",
       "      <td>15</td>\n",
       "      <td>0.6667</td>\n",
       "      <td>170.9409</td>\n",
       "      <td>284.4519</td>\n",
       "      <td>-56.0811</td>\n",
       "      <td>3.05</td>\n",
       "      <td>-0.1985</td>\n",
       "      <td>957.9367</td>\n",
       "      <td>600758</td>\n",
       "    </tr>\n",
       "    <tr>\n",
       "      <th>原始ATR波幅</th>\n",
       "      <td>6613.4796</td>\n",
       "      <td>15522.759</td>\n",
       "      <td>45</td>\n",
       "      <td>18</td>\n",
       "      <td>27</td>\n",
       "      <td>0.4000</td>\n",
       "      <td>122.6879</td>\n",
       "      <td>367.4155</td>\n",
       "      <td>-40.4638</td>\n",
       "      <td>3.03</td>\n",
       "      <td>-0.1947</td>\n",
       "      <td>515.9634</td>\n",
       "      <td>000616</td>\n",
       "    </tr>\n",
       "    <tr>\n",
       "      <th>原始ATR波幅</th>\n",
       "      <td>19360.4405</td>\n",
       "      <td>26212.687</td>\n",
       "      <td>39</td>\n",
       "      <td>16</td>\n",
       "      <td>23</td>\n",
       "      <td>0.4103</td>\n",
       "      <td>415.5817</td>\n",
       "      <td>1210.0275</td>\n",
       "      <td>-137.0763</td>\n",
       "      <td>3.03</td>\n",
       "      <td>-0.2327</td>\n",
       "      <td>2663.5478</td>\n",
       "      <td>300295</td>\n",
       "    </tr>\n",
       "    <tr>\n",
       "      <th>原始ATR波幅</th>\n",
       "      <td>10246.9368</td>\n",
       "      <td>18650.509</td>\n",
       "      <td>52</td>\n",
       "      <td>23</td>\n",
       "      <td>29</td>\n",
       "      <td>0.4423</td>\n",
       "      <td>166.3027</td>\n",
       "      <td>445.5190</td>\n",
       "      <td>-55.1448</td>\n",
       "      <td>3.02</td>\n",
       "      <td>-0.2221</td>\n",
       "      <td>1083.4147</td>\n",
       "      <td>300086</td>\n",
       "    </tr>\n",
       "    <tr>\n",
       "      <th>原始ATR波幅</th>\n",
       "      <td>11002.6115</td>\n",
       "      <td>21275.869</td>\n",
       "      <td>67</td>\n",
       "      <td>50</td>\n",
       "      <td>17</td>\n",
       "      <td>0.7463</td>\n",
       "      <td>151.4411</td>\n",
       "      <td>220.0522</td>\n",
       "      <td>-50.3565</td>\n",
       "      <td>3.01</td>\n",
       "      <td>-0.1837</td>\n",
       "      <td>1166.0028</td>\n",
       "      <td>600529</td>\n",
       "    </tr>\n",
       "  </tbody>\n",
       "</table>\n",
       "<p>195 rows × 13 columns</p>\n",
       "</div>"
      ],
      "text/plain": [
       "               盈亏总额       最终价值  交易次数  盈利次数  亏损次数    盈利比率  每笔交易平均盈亏额  \\\n",
       "原始ATR波幅  33787.6501  42895.063    44    25    19  0.5682   743.4394   \n",
       "原始ATR波幅  23002.5993  32120.943    46    23    23  0.5000   480.7426   \n",
       "原始ATR波幅  41511.5473  50135.246    35    21    14  0.6000  1146.3739   \n",
       "原始ATR波幅  13942.7130  23318.885    37    17    20  0.4595   359.8586   \n",
       "原始ATR波幅  34002.4936  42044.769    43    18    25  0.4186   745.0002   \n",
       "...             ...        ...   ...   ...   ...     ...        ...   \n",
       "原始ATR波幅   8533.5577  17694.785    45    30    15  0.6667   170.9409   \n",
       "原始ATR波幅   6613.4796  15522.759    45    18    27  0.4000   122.6879   \n",
       "原始ATR波幅  19360.4405  26212.687    39    16    23  0.4103   415.5817   \n",
       "原始ATR波幅  10246.9368  18650.509    52    23    29  0.4423   166.3027   \n",
       "原始ATR波幅  11002.6115  21275.869    67    50    17  0.7463   151.4411   \n",
       "\n",
       "         盈利交易平均盈利额  亏损交易平均亏损额      R    最大回撤     买入平均花费    code  \n",
       "原始ATR波幅  1351.5060   -56.6482  13.12 -0.2018   868.5447  600021  \n",
       "原始ATR波幅  1000.1130   -38.6279  12.45 -0.2446   630.0731  601727  \n",
       "原始ATR波幅  1976.7403   -99.1758  11.56 -0.2271  1676.0538  300168  \n",
       "原始ATR波幅   820.1596   -31.3972  11.46 -0.2492   842.7216  600986  \n",
       "原始ATR波幅  1889.0274   -78.6994   9.47 -0.3628  1409.4577  600571  \n",
       "...            ...        ...    ...     ...        ...     ...  \n",
       "原始ATR波幅   284.4519   -56.0811   3.05 -0.1985   957.9367  600758  \n",
       "原始ATR波幅   367.4155   -40.4638   3.03 -0.1947   515.9634  000616  \n",
       "原始ATR波幅  1210.0275  -137.0763   3.03 -0.2327  2663.5478  300295  \n",
       "原始ATR波幅   445.5190   -55.1448   3.02 -0.2221  1083.4147  300086  \n",
       "原始ATR波幅   220.0522   -50.3565   3.01 -0.1837  1166.0028  600529  \n",
       "\n",
       "[195 rows x 13 columns]"
      ]
     },
     "execution_count": 34,
     "metadata": {},
     "output_type": "execute_result"
    }
   ],
   "source": [
    "report.loc[(report['交易次数']>30)&(report['R']>3)].sort_values('R',ascending=False)"
   ]
  },
  {
   "cell_type": "code",
   "execution_count": 281,
   "metadata": {
    "ExecuteTime": {
     "end_time": "2020-07-29T01:24:23.536308Z",
     "start_time": "2020-07-29T01:24:23.515375Z"
    }
   },
   "outputs": [
    {
     "data": {
      "text/html": [
       "<div>\n",
       "<style scoped>\n",
       "    .dataframe tbody tr th:only-of-type {\n",
       "        vertical-align: middle;\n",
       "    }\n",
       "\n",
       "    .dataframe tbody tr th {\n",
       "        vertical-align: top;\n",
       "    }\n",
       "\n",
       "    .dataframe thead th {\n",
       "        text-align: right;\n",
       "    }\n",
       "</style>\n",
       "<table border=\"1\" class=\"dataframe\">\n",
       "  <thead>\n",
       "    <tr style=\"text-align: right;\">\n",
       "      <th></th>\n",
       "      <th>盈亏总额</th>\n",
       "      <th>最终价值</th>\n",
       "      <th>交易次数</th>\n",
       "      <th>盈利次数</th>\n",
       "      <th>亏损次数</th>\n",
       "      <th>盈利比率</th>\n",
       "      <th>每笔交易平均盈亏额</th>\n",
       "      <th>盈利交易平均盈利额</th>\n",
       "      <th>亏损交易平均亏损额</th>\n",
       "      <th>R</th>\n",
       "      <th>最大回撤</th>\n",
       "      <th>买入平均花费</th>\n",
       "      <th>code</th>\n",
       "    </tr>\n",
       "  </thead>\n",
       "  <tbody>\n",
       "    <tr>\n",
       "      <th>原始ATR波幅</th>\n",
       "      <td>19563.78</td>\n",
       "      <td>28628.99</td>\n",
       "      <td>65</td>\n",
       "      <td>36</td>\n",
       "      <td>29</td>\n",
       "      <td>0.55</td>\n",
       "      <td>286.51</td>\n",
       "      <td>543.44</td>\n",
       "      <td>-32.43</td>\n",
       "      <td>8.83</td>\n",
       "      <td>-0.24</td>\n",
       "      <td>532.74</td>\n",
       "      <td>600635</td>\n",
       "    </tr>\n",
       "    <tr>\n",
       "      <th>原始ATR波幅</th>\n",
       "      <td>17079.61</td>\n",
       "      <td>25579.65</td>\n",
       "      <td>63</td>\n",
       "      <td>33</td>\n",
       "      <td>30</td>\n",
       "      <td>0.52</td>\n",
       "      <td>247.22</td>\n",
       "      <td>517.56</td>\n",
       "      <td>-50.16</td>\n",
       "      <td>4.93</td>\n",
       "      <td>-0.18</td>\n",
       "      <td>1044.04</td>\n",
       "      <td>002221</td>\n",
       "    </tr>\n",
       "    <tr>\n",
       "      <th>原始ATR波幅</th>\n",
       "      <td>17791.16</td>\n",
       "      <td>26391.15</td>\n",
       "      <td>61</td>\n",
       "      <td>37</td>\n",
       "      <td>24</td>\n",
       "      <td>0.61</td>\n",
       "      <td>268.62</td>\n",
       "      <td>480.84</td>\n",
       "      <td>-58.55</td>\n",
       "      <td>4.59</td>\n",
       "      <td>-0.23</td>\n",
       "      <td>973.58</td>\n",
       "      <td>300151</td>\n",
       "    </tr>\n",
       "    <tr>\n",
       "      <th>原始ATR波幅</th>\n",
       "      <td>11340.95</td>\n",
       "      <td>20136.88</td>\n",
       "      <td>64</td>\n",
       "      <td>35</td>\n",
       "      <td>29</td>\n",
       "      <td>0.55</td>\n",
       "      <td>158.34</td>\n",
       "      <td>324.03</td>\n",
       "      <td>-41.63</td>\n",
       "      <td>3.80</td>\n",
       "      <td>-0.17</td>\n",
       "      <td>754.37</td>\n",
       "      <td>600460</td>\n",
       "    </tr>\n",
       "    <tr>\n",
       "      <th>原始ATR波幅</th>\n",
       "      <td>14896.22</td>\n",
       "      <td>23094.38</td>\n",
       "      <td>63</td>\n",
       "      <td>32</td>\n",
       "      <td>31</td>\n",
       "      <td>0.51</td>\n",
       "      <td>207.78</td>\n",
       "      <td>465.51</td>\n",
       "      <td>-58.26</td>\n",
       "      <td>3.57</td>\n",
       "      <td>-0.12</td>\n",
       "      <td>1269.59</td>\n",
       "      <td>300139</td>\n",
       "    </tr>\n",
       "    <tr>\n",
       "      <th>原始ATR波幅</th>\n",
       "      <td>11855.08</td>\n",
       "      <td>20506.08</td>\n",
       "      <td>66</td>\n",
       "      <td>36</td>\n",
       "      <td>30</td>\n",
       "      <td>0.55</td>\n",
       "      <td>159.13</td>\n",
       "      <td>329.31</td>\n",
       "      <td>-45.08</td>\n",
       "      <td>3.53</td>\n",
       "      <td>-0.16</td>\n",
       "      <td>1103.01</td>\n",
       "      <td>002001</td>\n",
       "    </tr>\n",
       "    <tr>\n",
       "      <th>原始ATR波幅</th>\n",
       "      <td>13418.18</td>\n",
       "      <td>22026.24</td>\n",
       "      <td>65</td>\n",
       "      <td>42</td>\n",
       "      <td>23</td>\n",
       "      <td>0.65</td>\n",
       "      <td>185.07</td>\n",
       "      <td>319.48</td>\n",
       "      <td>-60.37</td>\n",
       "      <td>3.07</td>\n",
       "      <td>-0.23</td>\n",
       "      <td>1213.92</td>\n",
       "      <td>002295</td>\n",
       "    </tr>\n",
       "    <tr>\n",
       "      <th>原始ATR波幅</th>\n",
       "      <td>11002.61</td>\n",
       "      <td>21275.87</td>\n",
       "      <td>67</td>\n",
       "      <td>50</td>\n",
       "      <td>17</td>\n",
       "      <td>0.75</td>\n",
       "      <td>151.44</td>\n",
       "      <td>220.05</td>\n",
       "      <td>-50.36</td>\n",
       "      <td>3.01</td>\n",
       "      <td>-0.18</td>\n",
       "      <td>1166.00</td>\n",
       "      <td>600529</td>\n",
       "    </tr>\n",
       "  </tbody>\n",
       "</table>\n",
       "</div>"
      ],
      "text/plain": [
       "            盈亏总额     最终价值  交易次数  盈利次数  亏损次数  盈利比率  每笔交易平均盈亏额  盈利交易平均盈利额  \\\n",
       "原始ATR波幅 19563.78 28628.99    65    36    29  0.55     286.51     543.44   \n",
       "原始ATR波幅 17079.61 25579.65    63    33    30  0.52     247.22     517.56   \n",
       "原始ATR波幅 17791.16 26391.15    61    37    24  0.61     268.62     480.84   \n",
       "原始ATR波幅 11340.95 20136.88    64    35    29  0.55     158.34     324.03   \n",
       "原始ATR波幅 14896.22 23094.38    63    32    31  0.51     207.78     465.51   \n",
       "原始ATR波幅 11855.08 20506.08    66    36    30  0.55     159.13     329.31   \n",
       "原始ATR波幅 13418.18 22026.24    65    42    23  0.65     185.07     319.48   \n",
       "原始ATR波幅 11002.61 21275.87    67    50    17  0.75     151.44     220.05   \n",
       "\n",
       "         亏损交易平均亏损额    R  最大回撤  买入平均花费    code  \n",
       "原始ATR波幅     -32.43 8.83 -0.24  532.74  600635  \n",
       "原始ATR波幅     -50.16 4.93 -0.18 1044.04  002221  \n",
       "原始ATR波幅     -58.55 4.59 -0.23  973.58  300151  \n",
       "原始ATR波幅     -41.63 3.80 -0.17  754.37  600460  \n",
       "原始ATR波幅     -58.26 3.57 -0.12 1269.59  300139  \n",
       "原始ATR波幅     -45.08 3.53 -0.16 1103.01  002001  \n",
       "原始ATR波幅     -60.37 3.07 -0.23 1213.92  002295  \n",
       "原始ATR波幅     -50.36 3.01 -0.18 1166.00  600529  "
      ]
     },
     "execution_count": 281,
     "metadata": {},
     "output_type": "execute_result"
    }
   ],
   "source": [
    "report.loc[(report['交易次数']>60)&(report['R']>3)].sort_values('R',ascending=False)"
   ]
  },
  {
   "cell_type": "markdown",
   "metadata": {},
   "source": [
    "# 2014~2018间符合测试方法的列表\n",
    "\n",
    "- 成交数量大于30 & R乘数大于3。\n",
    "- 因为跟踪的股票数量过多，所以将交易次数扩大至大于60笔，保留R值大于3，剩下8支股票。"
   ]
  },
  {
   "cell_type": "code",
   "execution_count": 282,
   "metadata": {
    "ExecuteTime": {
     "end_time": "2020-07-29T01:24:32.101431Z",
     "start_time": "2020-07-29T01:24:32.090490Z"
    }
   },
   "outputs": [],
   "source": [
    "symbols=report.loc[(report['交易次数']>30)&(report['R']>3)].code.values #成交数量大于30 & R乘数大于3\n",
    "symbols_60=report.loc[(report['交易次数']>60)&(report['R']>3)].code.values #成交数量大于60 & R乘数大于3"
   ]
  },
  {
   "cell_type": "code",
   "execution_count": 288,
   "metadata": {
    "ExecuteTime": {
     "end_time": "2020-07-29T01:28:37.891927Z",
     "start_time": "2020-07-29T01:28:37.874946Z"
    }
   },
   "outputs": [
    {
     "data": {
      "text/plain": [
       "array(['002001', '002221', '002295', '300139', '300151', '600460',\n",
       "       '600529', '600635'], dtype=object)"
      ]
     },
     "execution_count": 288,
     "metadata": {},
     "output_type": "execute_result"
    }
   ],
   "source": [
    "symbols_60"
   ]
  },
  {
   "cell_type": "markdown",
   "metadata": {},
   "source": [
    "股票信息。取流通股本(`liutongguben`)或总股本(`zongguben`)等。"
   ]
  },
  {
   "cell_type": "code",
   "execution_count": 85,
   "metadata": {
    "ExecuteTime": {
     "end_time": "2020-07-28T07:59:02.822806Z",
     "start_time": "2020-07-28T07:59:02.690649Z"
    }
   },
   "outputs": [],
   "source": [
    "stock_info=QA.QA_fetch_stock_info(list(symbol_list.code))"
   ]
  },
  {
   "cell_type": "markdown",
   "metadata": {},
   "source": [
    "~~2014年之前的流通股数~~"
   ]
  },
  {
   "cell_type": "code",
   "execution_count": 138,
   "metadata": {
    "ExecuteTime": {
     "end_time": "2020-07-28T08:40:23.589195Z",
     "start_time": "2020-07-28T08:40:23.583212Z"
    }
   },
   "outputs": [],
   "source": [
    "# gquant.plt.bar(x=['全市场','筛选结果'],height=[\n",
    "#     QA.QA_fetch_stock_xdxr(list(symbol_list.code)).query(\n",
    "#     'category!=6 and date<=\"2019-01-01\"'\n",
    "# ).loc[:, ['code','shares_after', 'liquidity_after']].dropna().sort_index(ascending=False).groupby(['code']).first().mean().values[0],\n",
    "#     QA.QA_fetch_stock_xdxr(list(symbols)).query(\n",
    "#     'category!=6 and date<=\"2019-01-01\"'\n",
    "# ).loc[:, ['code','shares_after', 'liquidity_after']].dropna().sort_index(ascending=False).groupby(['code']).first().mean().values[0],\n",
    "# ])"
   ]
  },
  {
   "cell_type": "code",
   "execution_count": 38,
   "metadata": {
    "ExecuteTime": {
     "end_time": "2020-07-28T07:40:40.717682Z",
     "start_time": "2020-07-28T07:40:40.709673Z"
    }
   },
   "outputs": [],
   "source": [
    "# symbols = [\n",
    "#     '000046', '000150', '000410', '000502', '000503', '000516', '000540',\n",
    "#     '000555', '000616', '000623', '000626', '000651', '000662', '000686',\n",
    "#     '000728', '000768', '000815', '000836', '000890', '000892', '000923',\n",
    "#     '000929', '000948', '000955', '000978', '000989', '001696', '002001',\n",
    "#     '002037', '002048', '002055', '002089', '002170', '002176', '002183',\n",
    "#     '002189', '002191', '002197', '002201', '002210', '002221', '002230',\n",
    "#     '002231', '002260', '002268', '002271', '002276', '002280', '002283',\n",
    "#     '002295', '002318', '002323', '002324', '002337', '002339', '002344',\n",
    "#     '002348', '002354', '002373', '002402', '002415', '002424', '002427',\n",
    "#     '002471', '002481', '002488', '002497', '002500', '002515', '002522',\n",
    "#     '002538', '002542', '002544', '002568', '002581', '002606', '002612',\n",
    "#     '002620', '002631', '002657', '002664', '002667', '002673', '002675',\n",
    "#     '002687', '002694', '002707', '002708', '002741', '300002', '300007',\n",
    "#     '300010', '300016', '300018', '300024', '300027', '300038', '300059',\n",
    "#     '300066', '300069', '300075', '300081', '300085', '300086', '300094',\n",
    "#     '300128', '300139', '300149', '300151', '300154', '300159', '300168',\n",
    "#     '300173', '300174', '300246', '300252', '300253', '300266', '300289',\n",
    "#     '300290', '300295', '300302', '300318', '300320', '300321', '300323',\n",
    "#     '300326', '300332', '300333', '300345', '300348', '300350', '300370',\n",
    "#     '300378', '300380', '300384', '300388', '300399', '600021', '600035',\n",
    "#     '600091', '600103', '600107', '600118', '600148', '600179', '600180',\n",
    "#     '600182', '600229', '600238', '600247', '600271', '600275', '600276',\n",
    "#     '600291', '600309', '600318', '600365', '600436', '600460', '600482',\n",
    "#     '600516', '600529', '600532', '600571', '600576', '600580', '600588',\n",
    "#     '600606', '600614', '600635', '600666', '600681', '600704', '600705',\n",
    "#     '600715', '600728', '600735', '600749', '600758', '600767', '600768',\n",
    "#     '600770', '600804', '600862', '600875', '600893', '600895', '600978',\n",
    "#     '600986', '601010', '601018', '601727', '601766', '603456'\n",
    "# ]"
   ]
  },
  {
   "cell_type": "markdown",
   "metadata": {},
   "source": [
    "# 2019年度测试回测"
   ]
  },
  {
   "cell_type": "markdown",
   "metadata": {},
   "source": [
    "## 全市场\n",
    "\n",
    "2019年度全市场所有股票采用ATR波幅规则进行回测（因为股票数量过多，所以将初始资金由`10,000`提高到`100,000`）。除`原始ATR波幅+最多持仓天数`外的所有交易策略均达到2R及以上的水准。最终价值平均在年化`42%~56%`左右。最大回撤在`12%`左右。\n",
    "\n",
    "| name                                 |   盈亏总额 |   最终价值 |   交易次数 |   盈利次数 |   亏损次数 |   盈利比率 |   每笔交易平均盈亏额 |   盈利交易平均盈利额 |   亏损交易平均亏损额 |    R |   最大回撤 |   买入平均花费 |\n",
    "|:-------------------------------------|-----------:|-----------:|-----------:|-----------:|-----------:|-----------:|---------------------:|---------------------:|---------------------:|-----:|-----------:|---------------:|\n",
    "| 原始ATR波幅                          |    90077.7 |     142085 |        887 |        470 |        417 |   0.529876 |              84.373  |              191.655 |             -36.5439 | 2.31 |  -0.130877 |        913.163 |\n",
    "| 原始ATR波幅+最多持仓天数             |    81920   |     146340 |        984 |        473 |        511 |   0.480691 |              64.6968 |              173.192 |             -35.7306 | 1.81 |  -0.126472 |        915.383 |\n",
    "| 原始ATR波幅+两倍ATR加仓              |   117853   |     156705 |        876 |        517 |        359 |   0.590183 |             120.147  |              227.956 |             -35.1101 | 3.42 |  -0.118917 |        896.295 |\n",
    "| 原始ATR波幅+最多持仓天数+两倍ATR加仓 |   100969   |     154764 |       1008 |        491 |        517 |   0.487103 |              81.5427 |              205.64  |             -36.3134 | 2.25 |  -0.121749 |        909.15  |"
   ]
  },
  {
   "cell_type": "code",
   "execution_count": null,
   "metadata": {
    "ExecuteTime": {
     "end_time": "2020-07-28T15:43:56.481546Z",
     "start_time": "2020-07-28T11:10:14.854900Z"
    },
    "collapsed": true
   },
   "outputs": [],
   "source": [
    "bt_2019_all = {}\n",
    "for n, t in tqdm_notebook(ts.items()):\n",
    "    mc = backtest(list(symbol_list.code),\n",
    "                  t['buy_factors'],\n",
    "                  t['sell_factors'],\n",
    "                  start='2019-01-01',\n",
    "                  end='2019-12-31',\n",
    "                  init_cash=100000)\n",
    "    if mc:\n",
    "        d = mc.profit_series().T\n",
    "        d['name'] = n\n",
    "        bt_2019_all[n] = d\n",
    "clear_output(wait=True)"
   ]
  },
  {
   "cell_type": "code",
   "execution_count": 239,
   "metadata": {
    "ExecuteTime": {
     "end_time": "2020-07-28T16:03:52.725850Z",
     "start_time": "2020-07-28T16:03:52.686917Z"
    }
   },
   "outputs": [
    {
     "name": "stdout",
     "output_type": "stream",
     "text": [
      "| name                                 |   盈亏总额 |   最终价值 |   交易次数 |   盈利次数 |   亏损次数 |   盈利比率 |   每笔交易平均盈亏额 |   盈利交易平均盈利额 |   亏损交易平均亏损额 |    R |   最大回撤 |   买入平均花费 |\n",
      "|:-------------------------------------|-----------:|-----------:|-----------:|-----------:|-----------:|-----------:|---------------------:|---------------------:|---------------------:|-----:|-----------:|---------------:|\n",
      "| 原始ATR波幅                          |    90077.7 |     142085 |        887 |        470 |        417 |   0.529876 |              84.373  |              191.655 |             -36.5439 | 2.31 |  -0.130877 |        913.163 |\n",
      "| 原始ATR波幅+最多持仓天数             |    81920   |     146340 |        984 |        473 |        511 |   0.480691 |              64.6968 |              173.192 |             -35.7306 | 1.81 |  -0.126472 |        915.383 |\n",
      "| 原始ATR波幅+两倍ATR加仓              |   117853   |     156705 |        876 |        517 |        359 |   0.590183 |             120.147  |              227.956 |             -35.1101 | 3.42 |  -0.118917 |        896.295 |\n",
      "| 原始ATR波幅+最多持仓天数+两倍ATR加仓 |   100969   |     154764 |       1008 |        491 |        517 |   0.487103 |              81.5427 |              205.64  |             -36.3134 | 2.25 |  -0.121749 |        909.15  |\n"
     ]
    }
   ],
   "source": [
    "gquant.pd.set_option('display.float_format',lambda x : '%.2f' % x)\n",
    "print(gquant.pd.concat([pd.to_frame().T for pd in bt_2019_all.values()]).set_index('name').to_markdown())"
   ]
  },
  {
   "cell_type": "markdown",
   "metadata": {},
   "source": [
    "## 筛选列表回测\n",
    "\n",
    "根据[训练回测](#训练回测)中从全市场（2014~2018年度间所有股票的筛选结果中）选出的195支股票进行测试\n",
    "\n",
    "### 初始资金100,000\n",
    "\n",
    "由于股票还是较多，所以依然采用的是初始资金`100,000`元。\n",
    "\n",
    "结果：相对于[完全市场结果](#%E5%85%A8%E5%B8%82%E5%9C%BA)来看，除`原始ATR波幅`外，所有策略的R值均有所提升。最终价值由`42%~56%`提升至`50%~65%`,最大回撤由`12%`下降至`9%`。在此次测试中根据历史测试结果筛选部分可能更加适合策略的股票进行交易可能是有效的。后面会再根据实际可能动用的资金再次进行测试。\n",
    "\n",
    "**从测试结果中注意到，就算是使用筛选后的股票（195支）来进行年交易，好像交易次数也有点过多了，交易次数在`569~628`次之间。貌似有点过多了，可能并不适合我。后面有机会还要尝试再次筛选。**\n",
    "\n",
    "| name                                 |   盈亏总额 |   最终价值 |   交易次数 |   盈利次数 |   亏损次数 |   盈利比率 |   每笔交易平均盈亏额 |   盈利交易平均盈利额 |   亏损交易平均亏损额 |    R |   最大回撤 |   买入平均花费 |\n",
    "|:-------------------------------------|-----------:|-----------:|-----------:|-----------:|-----------:|-----------:|---------------------:|---------------------:|---------------------:|-----:|-----------:|---------------:|\n",
    "| 原始ATR波幅                          |    61880.4 |     150279 |        569 |        319 |        250 |   0.560633 |              91.382  |              193.982 |             -39.5359 | 2.31 | -0.0925633 |        1103.1  |\n",
    "| 原始ATR波幅+最多持仓天数             |    58909.1 |     151167 |        582 |        315 |        267 |   0.541237 |              84.1866 |              187.013 |             -37.1253 | 2.27 | -0.0870385 |        1148.2  |\n",
    "| 原始ATR波幅+两倍ATR加仓              |    85925.8 |     161922 |        576 |        349 |        227 |   0.605903 |             134.017  |              246.206 |             -38.4662 | 3.48 | -0.0910455 |        1124.16 |\n",
    "| 原始ATR波幅+最多持仓天数+两倍ATR加仓 |    84942   |     165444 |        628 |        346 |        282 |   0.550955 |             119.347  |              245.497 |             -35.434  | 3.37 | -0.0920716 |        1128.78 |"
   ]
  },
  {
   "cell_type": "code",
   "execution_count": null,
   "metadata": {
    "ExecuteTime": {
     "end_time": "2020-07-28T16:00:44.241017Z",
     "start_time": "2020-07-28T15:43:56.618179Z"
    }
   },
   "outputs": [],
   "source": [
    "bt_2019_symbols = {}\n",
    "for n, t in tqdm_notebook(ts.items()):\n",
    "    mc = backtest(symbols,\n",
    "                  t['buy_factors'],\n",
    "                  t['sell_factors'],\n",
    "                  start='2019-01-01',\n",
    "                  end='2019-12-31',\n",
    "                  init_cash=100000)\n",
    "    if mc:\n",
    "        d = mc.profit_series().T\n",
    "        d['name'] = n\n",
    "        bt_2019_symbols[n] = d\n",
    "clear_output(wait=True)"
   ]
  },
  {
   "cell_type": "code",
   "execution_count": 240,
   "metadata": {
    "ExecuteTime": {
     "end_time": "2020-07-28T16:04:13.574138Z",
     "start_time": "2020-07-28T16:04:13.549175Z"
    },
    "scrolled": true
   },
   "outputs": [
    {
     "name": "stdout",
     "output_type": "stream",
     "text": [
      "| name                                 |   盈亏总额 |   最终价值 |   交易次数 |   盈利次数 |   亏损次数 |   盈利比率 |   每笔交易平均盈亏额 |   盈利交易平均盈利额 |   亏损交易平均亏损额 |    R |   最大回撤 |   买入平均花费 |\n",
      "|:-------------------------------------|-----------:|-----------:|-----------:|-----------:|-----------:|-----------:|---------------------:|---------------------:|---------------------:|-----:|-----------:|---------------:|\n",
      "| 原始ATR波幅                          |    61880.4 |     150279 |        569 |        319 |        250 |   0.560633 |              91.382  |              193.982 |             -39.5359 | 2.31 | -0.0925633 |        1103.1  |\n",
      "| 原始ATR波幅+最多持仓天数             |    58909.1 |     151167 |        582 |        315 |        267 |   0.541237 |              84.1866 |              187.013 |             -37.1253 | 2.27 | -0.0870385 |        1148.2  |\n",
      "| 原始ATR波幅+两倍ATR加仓              |    85925.8 |     161922 |        576 |        349 |        227 |   0.605903 |             134.017  |              246.206 |             -38.4662 | 3.48 | -0.0910455 |        1124.16 |\n",
      "| 原始ATR波幅+最多持仓天数+两倍ATR加仓 |    84942   |     165444 |        628 |        346 |        282 |   0.550955 |             119.347  |              245.497 |             -35.434  | 3.37 | -0.0920716 |        1128.78 |\n"
     ]
    }
   ],
   "source": [
    "gquant.pd.set_option('display.float_format',lambda x : '%.2f' % x)\n",
    "print(gquant.pd.concat([pd.to_frame().T for pd in bt_2019_symbols.values()]).set_index('name').to_markdown())"
   ]
  },
  {
   "cell_type": "markdown",
   "metadata": {},
   "source": [
    "### 初始资金50,,000\n",
    "\n",
    "本次测试依然沿用筛选后的195支股票进行测试，但是初始资金改为`50,000`元。\n",
    "\n",
    "初始资金降低后交易次数可以预见的明显降低，由`569~628`次降为`333~386`次。但是R值和最大回撤均未显著下降。反而最终价值由`50%~65%`提升到了`51%~71%`。这是完全没有想到的。\n",
    "\n",
    "| name                                 |   盈亏总额 |   最终价值 |   交易次数 |   盈利次数 |   亏损次数 |   盈利比率 |   每笔交易平均盈亏额 |   盈利交易平均盈利额 |   亏损交易平均亏损额 |    R |   最大回撤 |   买入平均花费 |\n",
    "|:-------------------------------------|-----------:|-----------:|-----------:|-----------:|-----------:|-----------:|---------------------:|---------------------:|---------------------:|-----:|-----------:|---------------:|\n",
    "| 原始ATR波幅                          |    38253.8 |    77282.5 |        333 |        182 |        151 |   0.546547 |              98.8353 |              210.186 |             -35.3752 | 2.79 | -0.0984299 |       1019.5   |\n",
    "| 原始ATR波幅+最多持仓天数             |    36821.7 |    75756   |        361 |        180 |        181 |   0.498615 |              85.1389 |              204.565 |             -33.6271 | 2.53 | -0.0965246 |       1045.85  |\n",
    "| 原始ATR波幅+两倍ATR加仓              |    49265.4 |    81853.7 |        357 |        204 |        153 |   0.571429 |             122.892  |              241.497 |             -35.2483 | 3.49 | -0.10107   |        958.185 |\n",
    "| 原始ATR波幅+最多持仓天数+两倍ATR加仓 |    47412.8 |    85870.8 |        386 |        202 |        184 |   0.523316 |             106.619  |              234.717 |             -34.009  | 3.14 | -0.101924  |       1000.71  |"
   ]
  },
  {
   "cell_type": "code",
   "execution_count": null,
   "metadata": {
    "ExecuteTime": {
     "end_time": "2020-07-28T16:35:54.313999Z",
     "start_time": "2020-07-28T16:22:17.930702Z"
    },
    "collapsed": true
   },
   "outputs": [],
   "source": [
    "bt_2019_symbols_5 = {}\n",
    "for n, t in tqdm_notebook(ts.items()):\n",
    "    mc = backtest(symbols,\n",
    "                  t['buy_factors'],\n",
    "                  t['sell_factors'],\n",
    "                  start='2019-01-01',\n",
    "                  end='2019-12-31',\n",
    "                  init_cash=50000)\n",
    "    if mc:\n",
    "        d = mc.profit_series().T\n",
    "        d['name'] = n\n",
    "        bt_2019_symbols_5[n] = d\n",
    "clear_output(wait=True)"
   ]
  },
  {
   "cell_type": "code",
   "execution_count": 244,
   "metadata": {
    "ExecuteTime": {
     "end_time": "2020-07-29T00:59:13.351837Z",
     "start_time": "2020-07-29T00:59:13.327875Z"
    }
   },
   "outputs": [
    {
     "name": "stdout",
     "output_type": "stream",
     "text": [
      "| name                                 |   盈亏总额 |   最终价值 |   交易次数 |   盈利次数 |   亏损次数 |   盈利比率 |   每笔交易平均盈亏额 |   盈利交易平均盈利额 |   亏损交易平均亏损额 |    R |   最大回撤 |   买入平均花费 |\n",
      "|:-------------------------------------|-----------:|-----------:|-----------:|-----------:|-----------:|-----------:|---------------------:|---------------------:|---------------------:|-----:|-----------:|---------------:|\n",
      "| 原始ATR波幅                          |    38253.8 |    77282.5 |        333 |        182 |        151 |   0.546547 |              98.8353 |              210.186 |             -35.3752 | 2.79 | -0.0984299 |       1019.5   |\n",
      "| 原始ATR波幅+最多持仓天数             |    36821.7 |    75756   |        361 |        180 |        181 |   0.498615 |              85.1389 |              204.565 |             -33.6271 | 2.53 | -0.0965246 |       1045.85  |\n",
      "| 原始ATR波幅+两倍ATR加仓              |    49265.4 |    81853.7 |        357 |        204 |        153 |   0.571429 |             122.892  |              241.497 |             -35.2483 | 3.49 | -0.10107   |        958.185 |\n",
      "| 原始ATR波幅+最多持仓天数+两倍ATR加仓 |    47412.8 |    85870.8 |        386 |        202 |        184 |   0.523316 |             106.619  |              234.717 |             -34.009  | 3.14 | -0.101924  |       1000.71  |\n"
     ]
    }
   ],
   "source": [
    "gquant.pd.set_option('display.float_format',lambda x : '%.2f' % x)\n",
    "print(gquant.pd.concat([pd.to_frame().T for pd in bt_2019_symbols_5.values()]).set_index('name').to_markdown())"
   ]
  },
  {
   "cell_type": "markdown",
   "metadata": {},
   "source": [
    "### 初始资金10,000\n",
    "\n",
    "本次测试依然沿用筛选后的195支股票进行测试，但是初始资金改为`10,000`元。\n",
    "\n",
    "初始资金降低后交易次数再次出现明显降低，降为`98~119`次。R值、最大回撤及最终价值均出现较大波动。最终价值`25%~80%`。这种波动应该是由于资金太少导致可购买的股票过少造成的（195支跟踪的股票中肯定有一部分从未成交过）\n",
    "\n",
    "| name                                 |   盈亏总额 |   最终价值 |   交易次数 |   盈利次数 |   亏损次数 |   盈利比率 |   每笔交易平均盈亏额 |   盈利交易平均盈利额 |   亏损交易平均亏损额 |    R |   最大回撤 |   买入平均花费 |\n",
    "|:-------------------------------------|-----------:|-----------:|-----------:|-----------:|-----------:|-----------:|---------------------:|---------------------:|---------------------:|-----:|-----------:|---------------:|\n",
    "| 原始ATR波幅                          |    7909.28 |    14210.4 |         98 |         49 |         49 |   0.5      |              66.6886 |              161.414 |             -28.0367 | 2.38 |  -0.115888 |        763.151 |\n",
    "| 原始ATR波幅+最多持仓天数             |    5770.63 |    12515.6 |        109 |         53 |         56 |   0.486239 |              37.0544 |              108.88  |             -30.9233 | 1.2  |  -0.184929 |        865.12  |\n",
    "| 原始ATR波幅+两倍ATR加仓              |   11855    |    16801.6 |        102 |         59 |         43 |   0.578431 |             106.088  |              200.933 |             -24.0467 | 4.41 |  -0.143816 |        722.416 |\n",
    "| 原始ATR波幅+最多持仓天数+两倍ATR加仓 |   13230    |    18076.5 |        119 |         58 |         61 |   0.487395 |              96.5716 |              228.104 |             -28.4918 | 3.39 |  -0.157535 |        802.881 |"
   ]
  },
  {
   "cell_type": "code",
   "execution_count": null,
   "metadata": {
    "ExecuteTime": {
     "end_time": "2020-07-28T16:35:54.313999Z",
     "start_time": "2020-07-28T16:22:17.930702Z"
    },
    "collapsed": true
   },
   "outputs": [],
   "source": [
    "bt_2019_symbols_1 = {}\n",
    "for n, t in tqdm_notebook(ts.items()):\n",
    "    mc = backtest(symbols,\n",
    "                  t['buy_factors'],\n",
    "                  t['sell_factors'],\n",
    "                  start='2019-01-01',\n",
    "                  end='2019-12-31')\n",
    "    if mc:\n",
    "        d = mc.profit_series().T\n",
    "        d['name'] = n\n",
    "        bt_2019_symbols_1[n] = d\n",
    "clear_output(wait=True)"
   ]
  },
  {
   "cell_type": "code",
   "execution_count": 248,
   "metadata": {
    "ExecuteTime": {
     "end_time": "2020-07-29T00:59:13.351837Z",
     "start_time": "2020-07-29T00:59:13.327875Z"
    },
    "scrolled": true
   },
   "outputs": [
    {
     "name": "stdout",
     "output_type": "stream",
     "text": [
      "| name                                 |   盈亏总额 |   最终价值 |   交易次数 |   盈利次数 |   亏损次数 |   盈利比率 |   每笔交易平均盈亏额 |   盈利交易平均盈利额 |   亏损交易平均亏损额 |    R |   最大回撤 |   买入平均花费 |\n",
      "|:-------------------------------------|-----------:|-----------:|-----------:|-----------:|-----------:|-----------:|---------------------:|---------------------:|---------------------:|-----:|-----------:|---------------:|\n",
      "| 原始ATR波幅                          |    7909.28 |    14210.4 |         98 |         49 |         49 |   0.5      |              66.6886 |              161.414 |             -28.0367 | 2.38 |  -0.115888 |        763.151 |\n",
      "| 原始ATR波幅+最多持仓天数             |    5770.63 |    12515.6 |        109 |         53 |         56 |   0.486239 |              37.0544 |              108.88  |             -30.9233 | 1.2  |  -0.184929 |        865.12  |\n",
      "| 原始ATR波幅+两倍ATR加仓              |   11855    |    16801.6 |        102 |         59 |         43 |   0.578431 |             106.088  |              200.933 |             -24.0467 | 4.41 |  -0.143816 |        722.416 |\n",
      "| 原始ATR波幅+最多持仓天数+两倍ATR加仓 |   13230    |    18076.5 |        119 |         58 |         61 |   0.487395 |              96.5716 |              228.104 |             -28.4918 | 3.39 |  -0.157535 |        802.881 |\n"
     ]
    }
   ],
   "source": [
    "gquant.pd.set_option('display.float_format',lambda x : '%.2f' % x)\n",
    "print(gquant.pd.concat([pd.to_frame().T for pd in bt_2019_symbols_1.values()]).set_index('name').to_markdown())"
   ]
  },
  {
   "cell_type": "markdown",
   "metadata": {},
   "source": [
    "### 跟踪8支股票\n",
    "\n",
    "以下测试只跟踪8支股票（训练回测结果中成交数量大于60，R值大于3）。总交易次数`32~48`。发现R乘数进一步上升达到`4.57~6.06`。但是最大回撤也跟随上升至`11%~14%`。最终价值也能够达到`40%~61%`。看上去也不错。\n",
    "\n",
    "**如果再进一步将跟踪的股票数量缩小的话，可能会效果不佳**。\n",
    "\n",
    "| name                                 |   盈亏总额 |   最终价值 |   交易次数 |   盈利次数 |   亏损次数 |   盈利比率 |   每笔交易平均盈亏额 |   盈利交易平均盈利额 |   亏损交易平均亏损额 |    R |   最大回撤 |   买入平均花费 |\n",
    "|:-------------------------------------|-----------:|-----------:|-----------:|-----------:|-----------:|-----------:|---------------------:|---------------------:|---------------------:|-----:|-----------:|---------------:|\n",
    "| 原始ATR波幅                          |    6663.53 |    16167.3 |         32 |         23 |          9 |   0.71875  |              198.233 |              289.719 |             -35.5643 | 5.57 |  -0.139599 |        1123.49 |\n",
    "| 原始ATR波幅+最多持仓天数             |    6047.42 |    15931.1 |         39 |         25 |         14 |   0.641026 |              143.772 |              241.897 |             -31.4501 | 4.57 |  -0.1115   |        1169.69 |\n",
    "| 原始ATR波幅+两倍ATR加仓              |    7759.82 |    14615.5 |         42 |         28 |         14 |   0.666667 |              175.129 |              277.136 |             -28.8871 | 6.06 |  -0.148622 |        1150.63 |\n",
    "| 原始ATR波幅+最多持仓天数+两倍ATR加仓 |    7179.31 |    14096   |         48 |         30 |         18 |   0.625    |              139.662 |              239.31  |             -26.4171 | 5.29 |  -0.135484 |        1155.84 |"
   ]
  },
  {
   "cell_type": "code",
   "execution_count": null,
   "metadata": {
    "ExecuteTime": {
     "end_time": "2020-07-29T01:25:26.489737Z",
     "start_time": "2020-07-29T01:24:35.785713Z"
    },
    "collapsed": true
   },
   "outputs": [],
   "source": [
    "bt_2019_symbols_1_1 = {}\n",
    "bt_2019_symbols_1_1_metics={}\n",
    "for n, t in tqdm_notebook(ts.items()):\n",
    "    mc = backtest(symbols_60,\n",
    "                  t['buy_factors'],\n",
    "                  t['sell_factors'],\n",
    "                  start='2019-01-01',\n",
    "                  end='2019-12-31')\n",
    "    if mc:\n",
    "        d = mc.profit_series().T\n",
    "        d['name'] = n\n",
    "        bt_2019_symbols_1_1_metics[n]=mc\n",
    "        bt_2019_symbols_1_1[n] = d\n",
    "clear_output(wait=True)"
   ]
  },
  {
   "cell_type": "code",
   "execution_count": 290,
   "metadata": {
    "ExecuteTime": {
     "end_time": "2020-07-29T01:36:06.563935Z",
     "start_time": "2020-07-29T01:36:06.533018Z"
    }
   },
   "outputs": [
    {
     "name": "stdout",
     "output_type": "stream",
     "text": [
      "| name                                 |   盈亏总额 |   最终价值 |   交易次数 |   盈利次数 |   亏损次数 |   盈利比率 |   每笔交易平均盈亏额 |   盈利交易平均盈利额 |   亏损交易平均亏损额 |    R |   最大回撤 |   买入平均花费 |\n",
      "|:-------------------------------------|-----------:|-----------:|-----------:|-----------:|-----------:|-----------:|---------------------:|---------------------:|---------------------:|-----:|-----------:|---------------:|\n",
      "| 原始ATR波幅                          |    6663.53 |    16167.3 |         32 |         23 |          9 |   0.71875  |              198.233 |              289.719 |             -35.5643 | 5.57 |  -0.139599 |        1123.49 |\n",
      "| 原始ATR波幅+最多持仓天数             |    6047.42 |    15931.1 |         39 |         25 |         14 |   0.641026 |              143.772 |              241.897 |             -31.4501 | 4.57 |  -0.1115   |        1169.69 |\n",
      "| 原始ATR波幅+两倍ATR加仓              |    7759.82 |    14615.5 |         42 |         28 |         14 |   0.666667 |              175.129 |              277.136 |             -28.8871 | 6.06 |  -0.148622 |        1150.63 |\n",
      "| 原始ATR波幅+最多持仓天数+两倍ATR加仓 |    7179.31 |    14096   |         48 |         30 |         18 |   0.625    |              139.662 |              239.31  |             -26.4171 | 5.29 |  -0.135484 |        1155.84 |\n"
     ]
    }
   ],
   "source": [
    "gquant.pd.set_option('display.float_format',lambda x : '%.2f' % x)\n",
    "print(gquant.pd.concat([pd.to_frame().T for pd in bt_2019_symbols_1_1.values()]).set_index('name').round(2).to_markdown())"
   ]
  },
  {
   "cell_type": "code",
   "execution_count": 287,
   "metadata": {
    "ExecuteTime": {
     "end_time": "2020-07-29T01:25:43.640392Z",
     "start_time": "2020-07-29T01:25:42.812420Z"
    },
    "scrolled": false
   },
   "outputs": [
    {
     "name": "stderr",
     "output_type": "stream",
     "text": [
      "原始ATR波幅\n"
     ]
    },
    {
     "data": {
      "image/png": "[encoded data removed]",
      "text/plain": [
       "<Figure size 432x288 with 1 Axes>"
      ]
     },
     "metadata": {
      "needs_background": "light"
     },
     "output_type": "display_data"
    },
    {
     "name": "stderr",
     "output_type": "stream",
     "text": [
      "原始ATR波幅+最多持仓天数\n"
     ]
    },
    {
     "data": {
      "image/png": "[encoded data removed]",
      "text/plain": [
       "<Figure size 432x288 with 1 Axes>"
      ]
     },
     "metadata": {
      "needs_background": "light"
     },
     "output_type": "display_data"
    },
    {
     "name": "stderr",
     "output_type": "stream",
     "text": [
      "原始ATR波幅+两倍ATR加仓\n"
     ]
    },
    {
     "data": {
      "image/png": "[encoded data removed]",
      "text/plain": [
       "<Figure size 432x288 with 1 Axes>"
      ]
     },
     "metadata": {
      "needs_background": "light"
     },
     "output_type": "display_data"
    },
    {
     "name": "stderr",
     "output_type": "stream",
     "text": [
      "原始ATR波幅+最多持仓天数+两倍ATR加仓\n"
     ]
    },
    {
     "data": {
      "image/png": "[encoded data removed]",
      "text/plain": [
       "<Figure size 432x288 with 1 Axes>"
      ]
     },
     "metadata": {
      "needs_background": "light"
     },
     "output_type": "display_data"
    }
   ],
   "source": [
    "for k,v in bt_2019_symbols_1_1_metics.items():\n",
    "    logging.info(k)\n",
    "    plot_capital_blance(v)"
   ]
  },
  {
   "cell_type": "markdown",
   "metadata": {},
   "source": [
    "~~## 单支回测~~"
   ]
  },
  {
   "cell_type": "code",
   "execution_count": null,
   "metadata": {
    "ExecuteTime": {
     "end_time": "2020-07-28T10:36:54.131663Z",
     "start_time": "2020-07-28T10:15:46.546213Z"
    },
    "collapsed": true
   },
   "outputs": [],
   "source": [
    "# bt_2019_single=[]\n",
    "# for symbol in tqdm_notebook(symbols):\n",
    "#     for n,t in ts.items():\n",
    "#         mc = backtest(symbol,t['buy_factors'], t['sell_factors'], start='2019-01-01', end='2019-12-31')\n",
    "#         if mc:\n",
    "#             d=mc.profit_series().T\n",
    "#             d['code']=symbol\n",
    "#             d['name']=n\n",
    "#             bt_2019_single.append(d)\n",
    "# clear_output(wait=True)"
   ]
  },
  {
   "cell_type": "code",
   "execution_count": 228,
   "metadata": {
    "ExecuteTime": {
     "end_time": "2020-07-28T11:03:10.696493Z",
     "start_time": "2020-07-28T11:03:09.732148Z"
    }
   },
   "outputs": [],
   "source": [
    "# bt_2019_single_report=gquant.pd.concat([b.to_frame().T for b in bt_2019_single])\n",
    "# bt_2019_single_report['R']=gquant.pd.to_numeric(bt_2019_single_report['R'])\n",
    "# bt_2019_single_report['最终价值']=gquant.pd.to_numeric(bt_2019_single_report['最终价值'])\n",
    "# bt_2019_single_report['交易次数']=gquant.pd.to_numeric(bt_2019_single_report['交易次数'])"
   ]
  },
  {
   "cell_type": "code",
   "execution_count": 255,
   "metadata": {
    "ExecuteTime": {
     "end_time": "2020-07-29T01:11:20.453759Z",
     "start_time": "2020-07-29T01:11:20.448796Z"
    }
   },
   "outputs": [],
   "source": [
    "# bt_2019_single_report.groupby('name').agg({\n",
    "#     '交易次数': ['mean', 'median', 'std'],\n",
    "#     'R': ['mean', 'median'],\n",
    "#     '最终价值': ['mean', 'median']\n",
    "# })"
   ]
  },
  {
   "cell_type": "markdown",
   "metadata": {},
   "source": [
    "~~# 蒙特卡洛模拟~~\n",
    "\n",
    "~~采用完整数据，从中随机选出200天+的连续数据，使用[凯利公式对仓位进行管理](#使用凯利公式对仓位进行管理)中的买卖策略进行测试。~~"
   ]
  },
  {
   "cell_type": "code",
   "execution_count": 169,
   "metadata": {
    "ExecuteTime": {
     "end_time": "2020-07-28T09:59:50.756460Z",
     "start_time": "2020-07-28T09:59:50.749446Z"
    },
    "code_folding": []
   },
   "outputs": [],
   "source": [
    "# import random\n",
    "# from QUANTAXIS.QAUtil.QADate import QA_util_datetime_to_strdate as dt2str\n",
    "\n",
    "# def generator(symbol,start,end):\n",
    "#     if symbol in gquant.abupy.Symbol.SH_INDEX+gquant.abupy.Symbol.SZ_INDEX:\n",
    "#         df=QA.QA_fetch_index_day_adv(symbol,start,end).data\n",
    "#     else:\n",
    "#         df=QA.QA_fetch_stock_day_adv(symbol,start,end).data\n",
    "#     \"\"\"随机选择迭代器\"\"\"\n",
    "#     while True:\n",
    "#         size=random.randint(150,len(df))\n",
    "#         start=random.randint(0,len(df)-size)\n",
    "#         end=start+size\n",
    "#         v= df.iloc[start:end].reset_index()\n",
    "#         yield dt2str(v.iloc[0]['date'].date()),dt2str(v.iloc[-1]['date'].date())\n",
    "# _MC_SYMBOL='601099'\n",
    "# # g=generator(_MC_SYMBOL)"
   ]
  },
  {
   "cell_type": "code",
   "execution_count": 170,
   "metadata": {
    "ExecuteTime": {
     "end_time": "2020-07-28T09:59:50.771400Z",
     "start_time": "2020-07-28T09:59:50.764407Z"
    },
    "code_folding": []
   },
   "outputs": [],
   "source": [
    "# def do_mc_test(symbol,times,**kwargs):\n",
    "#     from tqdm import tqdm_notebook\n",
    "#     test = []\n",
    "    \n",
    "#     bf=kwargs.pop('buy_factors',ts['原始ATR波幅+最多持仓天数+两倍ATR加仓']['buy_factors'])\n",
    "#     sf=kwargs.pop('sell_factors',ts['原始ATR波幅+最多持仓天数+两倍ATR加仓']['sell_factors'])\n",
    "#     start=kwargs.pop('start','2019-01-01')\n",
    "#     end=kwargs.pop('end','2019-12-31')\n",
    "#     g=generator('000300',start,end)\n",
    "    \n",
    "#     for i in tqdm_notebook(range(times)):\n",
    "#         s, e = next(g)\n",
    "#         if not s or not e:\n",
    "#             continue\n",
    "#         #         logging.info('LEN:{}:{}~{}'.format(len(test),s,e))\n",
    "#         mc = backtest(symbol,bf, sf, start=s, end=e)\n",
    "#         if mc:\n",
    "#             test.append(mc)\n",
    "#     if len(test)>0:\n",
    "#         result = gquant.pd.concat([m.profit_series() for m in test], axis=1).T\n",
    "#         return result\n",
    "#     return gquant.pd.DataFrame()\n",
    "\n",
    "\n",
    "# def show_result(times, mcs):\n",
    "#     if mcs.empty:\n",
    "#         loggin.info('没有记录')\n",
    "#     else:\n",
    "#         gquant.sns.distplot(mcs[mcs['交易次数'] >= 30]['R'])\n",
    "#         logging.info(\"测试{}次后交易次数>30的R乘数：\\n{}\".format(\n",
    "#             times, mcs[mcs['交易次数'] >= 30]['R'].describe()))\n",
    "        "
   ]
  },
  {
   "cell_type": "markdown",
   "metadata": {},
   "source": [
    "~~## 单支~~\n",
    "\n",
    "~~### 100~~"
   ]
  },
  {
   "cell_type": "code",
   "execution_count": 171,
   "metadata": {
    "ExecuteTime": {
     "end_time": "2020-07-28T09:59:50.784388Z",
     "start_time": "2020-07-28T09:59:50.777395Z"
    },
    "scrolled": false
   },
   "outputs": [],
   "source": [
    "# mcs_dict_100={}\n",
    "# for symbol in tqdm_notebook(symbols):\n",
    "# # for symbol in tqdm_notebook(['603288']):\n",
    "#     logging.info(symbol)\n",
    "#     mcs_dict_100[symbol]={}\n",
    "#     for n,t in ts.items():\n",
    "#         mcs1=do_mc_test(symbol,100,buy_factors=t['buy_factors'],sell_factors=t['sell_factors'])\n",
    "#         mcs_dict_100[symbol][n]=mcs1\n",
    "#     clear_output(wait=True)\n",
    "# clear_output(wait=True)"
   ]
  },
  {
   "cell_type": "code",
   "execution_count": 172,
   "metadata": {
    "ExecuteTime": {
     "end_time": "2020-07-28T09:59:50.797349Z",
     "start_time": "2020-07-28T09:59:50.789340Z"
    }
   },
   "outputs": [],
   "source": [
    "# pds_100=[]\n",
    "# for symbol,mcs in mcs_dict_100.items():\n",
    "#     for n,pd in mcs.items():\n",
    "#         pd['code']=symbol\n",
    "#         pd['name']=n\n",
    "#         pd.fillna(0,inplace=True)\n",
    "#         pds_100.append(pd)\n",
    "# report_single_100=gquant.pd.concat(pds_100)\n",
    "# report_single_100.loc[pd['盈利交易平均盈利额']==0,'R']=0"
   ]
  },
  {
   "cell_type": "code",
   "execution_count": 173,
   "metadata": {
    "ExecuteTime": {
     "end_time": "2020-07-28T09:59:50.810312Z",
     "start_time": "2020-07-28T09:59:50.803304Z"
    }
   },
   "outputs": [],
   "source": [
    "# report_single_100['交易次数'].mean()"
   ]
  },
  {
   "cell_type": "code",
   "execution_count": 174,
   "metadata": {
    "ExecuteTime": {
     "end_time": "2020-07-28T09:59:50.823249Z",
     "start_time": "2020-07-28T09:59:50.816267Z"
    }
   },
   "outputs": [],
   "source": [
    "# report_single_100.reset_index().set_index('code')[report_single_100.groupby(\n",
    "#     'code')['交易次数'].mean() > 10].reset_index().set_index([\n",
    "#         'code', 'name'\n",
    "#     ]).groupby(['code',\n",
    "#                 'name']).agg({'R': ['mean', 'max', 'min', 'median',\n",
    "#                                     'std']})['R'].sort_values(\"mean\")"
   ]
  },
  {
   "cell_type": "code",
   "execution_count": 175,
   "metadata": {
    "ExecuteTime": {
     "end_time": "2020-07-28T09:59:50.838209Z",
     "start_time": "2020-07-28T09:59:50.830259Z"
    }
   },
   "outputs": [],
   "source": [
    "# report_single_100[report_single_100['交易次数']>10].groupby(['code','name']).agg({'R':['mean','max','min','median','std']})['R'].sort_values(\"mean\")"
   ]
  },
  {
   "cell_type": "code",
   "execution_count": 176,
   "metadata": {
    "ExecuteTime": {
     "end_time": "2020-07-28T09:59:50.849179Z",
     "start_time": "2020-07-28T09:59:50.843195Z"
    }
   },
   "outputs": [],
   "source": [
    "# report_single_100[report_single_100['code']=='300154'].mean()"
   ]
  },
  {
   "cell_type": "markdown",
   "metadata": {},
   "source": [
    "~~### 1000~~"
   ]
  },
  {
   "cell_type": "code",
   "execution_count": 177,
   "metadata": {
    "ExecuteTime": {
     "end_time": "2020-07-28T09:59:50.860184Z",
     "start_time": "2020-07-28T09:59:50.854166Z"
    }
   },
   "outputs": [],
   "source": [
    "# mcs_dict_1000={}\n",
    "# for symbol in tqdm_notebook(symbols):\n",
    "# # for symbol in tqdm_notebook(['603288']):\n",
    "#     logging.info(symbol)\n",
    "#     mcs_dict_1000[symbol]={}\n",
    "#     for n,t in ts.items():\n",
    "#         mcs1=do_mc_test(symbol,1000,buy_factors=t['buy_factors'],sell_factors=t['sell_factors'])\n",
    "#         mcs_dict_1000[symbol][n]=mcs1\n",
    "#     clear_output(wait=True)\n",
    "# clear_output(wait=True)"
   ]
  },
  {
   "cell_type": "code",
   "execution_count": 178,
   "metadata": {
    "ExecuteTime": {
     "end_time": "2020-07-28T09:59:50.872141Z",
     "start_time": "2020-07-28T09:59:50.865137Z"
    }
   },
   "outputs": [],
   "source": [
    "# pds_1000=[]\n",
    "# for symbol,mcs in mcs_dict_1000.items():\n",
    "#     for n,pd in mcs.items():\n",
    "#         pd['code']=symbol\n",
    "#         pd['name']=n\n",
    "#         pd.fillna(0,inplace=True)\n",
    "#         pd.loc[pd['盈利交易平均盈利额']==0,'R']=0\n",
    "#         pds_1000.append(pd)\n",
    "# gquant.pd.concat(pds_1000).groupby(['code','name']).agg({'R':['mean','max','min','median','std']})"
   ]
  },
  {
   "cell_type": "markdown",
   "metadata": {},
   "source": [
    "~~### 10000~~"
   ]
  },
  {
   "cell_type": "code",
   "execution_count": null,
   "metadata": {
    "ExecuteTime": {
     "end_time": "2020-07-25T10:07:03.530535Z",
     "start_time": "2020-07-25T10:07:03.527545Z"
    }
   },
   "outputs": [],
   "source": [
    "# mcs10000=do_mc_test(10000)\n",
    "# show_result(10000,mcs10000)"
   ]
  },
  {
   "cell_type": "markdown",
   "metadata": {},
   "source": [
    "~~## 全市场~~\n",
    "\n",
    "~~### 100次~~\n",
    "\n",
    "~~所有符合条件的股票一起测试~~\n",
    "\n",
    "~~**原始ATR波幅+两倍ATR加仓**的策略更好。~~\n",
    "\n",
    "~~| name                                 |   ('R', 'mean') |   ('R', 'median') |   ('R', 'max') |   ('R', 'min') |   ('R', 'std') |   ('交易次数', 'mean') |   ('交易次数', 'median') |   ('交易次数', 'max') |   ('交易次数', 'min') |   ('交易次数', 'std') |   ('盈利比率', 'mean') |   ('盈利比率', 'median') |   ('盈利比率', 'max') |   ('盈利比率', 'min') |   ('盈利比率', 'std') |   ('最终价值', 'mean') |   ('最终价值', 'median') |   ('最终价值', 'max') |   ('最终价值', 'min') |   ('最终价值', 'std') |\n",
    "|:-------------------------------------|----------------:|------------------:|---------------:|---------------:|---------------:|-----------------------:|-------------------------:|----------------------:|----------------------:|----------------------:|-----------------------:|-------------------------:|----------------------:|----------------------:|----------------------:|-----------------------:|-------------------------:|----------------------:|----------------------:|----------------------:|\n",
    "| 原始ATR波幅                          |            1.54 |              1.5  |           3    |           0.22 |           0.61 |                 123.1  |                    121.5 |                   174 |                    76 |                 25.28 |                   0.51 |                     0.51 |                  0.6  |                  0.38 |                  0.05 |                12640.6 |                  12233.1 |               16476.9 |              10282.5  |               1570.23 |\n",
    "| 原始ATR波幅+两倍ATR加仓              |            3.46 |              3.34 |           6.12 |           1.88 |           0.76 |                 131.16 |                    126   |                   199 |                    76 |                 26.98 |                   0.56 |                     0.55 |                  0.63 |                  0.44 |                  0.04 |                18708.4 |                  18028.7 |               27396   |              13494.3  |               2855.01 |\n",
    "| 原始ATR波幅+最多持仓天数             |            1.07 |              1.01 |           3.12 |           0.11 |           0.51 |                 131.79 |                    129   |                   186 |                    85 |                 25.18 |                   0.48 |                     0.47 |                  0.6  |                  0.39 |                  0.05 |                12106.2 |                  12004.6 |               16199.4 |               9416.56 |               1532.84 |\n",
    "| 原始ATR波幅+最多持仓天数+两倍ATR加仓 |            2.89 |              2.9  |           4.24 |           1.45 |           0.66 |                 155.79 |                    155.5 |                   233 |                    90 |                 33.37 |                   0.5  |                     0.5  |                  0.6  |                  0.39 |                  0.04 |                18541   |                  18384.3 |               24887.8 |              13504.4  |               2265.06 |~~"
   ]
  },
  {
   "cell_type": "code",
   "execution_count": 179,
   "metadata": {
    "ExecuteTime": {
     "end_time": "2020-07-28T09:59:50.885083Z",
     "start_time": "2020-07-28T09:59:50.877105Z"
    }
   },
   "outputs": [],
   "source": [
    "# mcs_dict_100_all={}\n",
    "# for n,t in ts.items():\n",
    "#     mcs1=do_mc_test(symbols,100,buy_factors=t['buy_factors'],sell_factors=t['sell_factors'])\n",
    "#     mcs_dict_100_all[n]=mcs1\n",
    "#     clear_output(wait=True)\n",
    "# clear_output(wait=True)"
   ]
  },
  {
   "cell_type": "code",
   "execution_count": 180,
   "metadata": {
    "ExecuteTime": {
     "end_time": "2020-07-28T09:59:50.896054Z",
     "start_time": "2020-07-28T09:59:50.890070Z"
    }
   },
   "outputs": [],
   "source": [
    "# pds=[]\n",
    "# for n,pd in mcs_dict_100_all.items():\n",
    "#     pd['code']=symbol\n",
    "#     pd['name']=n\n",
    "#     pd.fillna(0,inplace=True)\n",
    "#     pd.loc[pd['盈利交易平均盈利额']==0,'R']=0\n",
    "#     pds.append(pd)\n",
    "# print(gquant.pd.concat(pds).groupby(['name']).agg({'R':['mean','median','max','min','std'],\n",
    "#                                              '交易次数':['mean']\n",
    "#                                             ,'盈利比率':['mean']\n",
    "#                                             ,'最终价值':['mean']}).round(2).to_markdown())"
   ]
  },
  {
   "cell_type": "code",
   "execution_count": 181,
   "metadata": {
    "ExecuteTime": {
     "end_time": "2020-07-28T09:59:50.908022Z",
     "start_time": "2020-07-28T09:59:50.901041Z"
    }
   },
   "outputs": [],
   "source": [
    "# gquant.pd.concat(pds)"
   ]
  },
  {
   "cell_type": "markdown",
   "metadata": {},
   "source": [
    "~~### 1000次~~"
   ]
  },
  {
   "cell_type": "code",
   "execution_count": 182,
   "metadata": {
    "ExecuteTime": {
     "end_time": "2020-07-28T09:59:50.920013Z",
     "start_time": "2020-07-28T09:59:50.913028Z"
    },
    "code_folding": []
   },
   "outputs": [],
   "source": [
    "# mcs_dict_1000_all={}\n",
    "# for n,t in ts.items():\n",
    "#     mcs1=do_mc_test(symbols,1000,buy_factors=t['buy_factors'],sell_factors=t['sell_factors'])\n",
    "#     mcs_dict_1000_all[n]=mcs1\n",
    "#     clear_output(wait=True)\n",
    "# clear_output(wait=True)"
   ]
  },
  {
   "cell_type": "code",
   "execution_count": 183,
   "metadata": {
    "ExecuteTime": {
     "end_time": "2020-07-28T09:59:50.930961Z",
     "start_time": "2020-07-28T09:59:50.924977Z"
    }
   },
   "outputs": [],
   "source": [
    "# pds_all_1000=[]\n",
    "# for n,pd in mcs_dict_1000_all.items():\n",
    "#     pd['code']=symbol\n",
    "#     pd['name']=n\n",
    "#     pd.fillna(0,inplace=True)\n",
    "#     pd.loc[pd['盈利交易平均盈利额']==0,'R']=0\n",
    "#     pds_all_1000.append(pd)\n",
    "# gquant.pd.concat(pds_all_1000).groupby(['name']).agg({'R':['mean','max','min','median','std']})"
   ]
  },
  {
   "cell_type": "markdown",
   "metadata": {},
   "source": [
    "~~### 10000次~~"
   ]
  },
  {
   "cell_type": "code",
   "execution_count": null,
   "metadata": {
    "ExecuteTime": {
     "end_time": "2020-07-25T15:26:54.369361Z",
     "start_time": "2020-07-25T14:35:44.770Z"
    },
    "code_folding": []
   },
   "outputs": [],
   "source": [
    "# mcs_dict_10000={}\n",
    "# for symbol in tqdm_notebook(symbols):\n",
    "# # for symbol in tqdm_notebook(['603288']):\n",
    "#     mcs_dict_10000[symbol]={}\n",
    "#     for n,t in ts.items():\n",
    "#         mcs1=do_mc_test(symbol,10000,buy_factors=t['buy_factors'],sell_factors=t['sell_factors'])\n",
    "#         mcs_dict_10000[symbol][n]=mcs1\n",
    "# #     clear_output(wait=True)\n",
    "# clear_output(wait=True)"
   ]
  },
  {
   "cell_type": "code",
   "execution_count": null,
   "metadata": {
    "ExecuteTime": {
     "end_time": "2020-07-25T15:26:54.371356Z",
     "start_time": "2020-07-25T14:35:44.773Z"
    }
   },
   "outputs": [],
   "source": [
    "# for symbol,mcs in mcs_dict_10000.items():\n",
    "#     pds=[]\n",
    "#     for n,pd in mcs.items():\n",
    "#         pd['code']=symbol\n",
    "#         pd['name']=n\n",
    "#         pd.fillna(0,inplace=True)\n",
    "#         pd.loc[pd['盈利交易平均盈利额']==0,'R']=0\n",
    "#         pds.append(pd)\n",
    "# gquant.pd.concat(pds).groupby(['code','name']).agg({'R':['mean','max','min','median','std']})"
   ]
  },
  {
   "cell_type": "code",
   "execution_count": null,
   "metadata": {},
   "outputs": [],
   "source": []
  }
 ],
 "metadata": {
  "hide_input": false,
  "kernelspec": {
   "display_name": "stock_ai",
   "language": "python",
   "name": "stock_ai"
  },
  "language_info": {
   "codemirror_mode": {
    "name": "ipython",
    "version": 3
   },
   "file_extension": ".py",
   "mimetype": "text/x-python",
   "name": "python",
   "nbconvert_exporter": "python",
   "pygments_lexer": "ipython3",
   "version": "3.7.3"
  },
  "toc": {
   "base_numbering": 1,
   "nav_menu": {},
   "number_sections": true,
   "sideBar": true,
   "skip_h1_title": false,
   "title_cell": "Table of Contents",
   "title_sidebar": "Contents",
   "toc_cell": false,
   "toc_position": {
    "height": "calc(100% - 180px)",
    "left": "10px",
    "top": "150px",
    "width": "165px"
   },
   "toc_section_display": true,
   "toc_window_display": true
  }
 },
 "nbformat": 4,
 "nbformat_minor": 4
}
