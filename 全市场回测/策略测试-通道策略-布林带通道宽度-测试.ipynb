{
 "cells": [
  {
   "cell_type": "markdown",
   "metadata": {},
   "source": [
    "# 说明\n",
    "\n",
    "此文档的测试采用`QA.QA_fetch_stock_list_adv`读取本地股票列表，对所有股票进行回测。回测时使用`QA.QA_fetch_stock_day_adv`读取本地存储的所有股票的日线数据进行回测。需要保证本地有相关日线数据。\n",
    "\n",
    "本测试是对`ATR波幅通道`进行全市场测试。首先在[测试](#测试)中在全市场范围内测试`原始布林带开口`(测试时间2014-01-01~2018-12-31)。共找到`96`支股票的交易次数达到`交易次数30次以上并且R乘数>3`。\n",
    "\n",
    "```\n",
    "['000034', '000638', '000662', '000718', '000806', '000948',\n",
    "       '002120', '002175', '002177', '002230', '002260', '002279',\n",
    "       '002280', '002291', '002397', '002407', '002439', '002460',\n",
    "       '002494', '002515', '002522', '002579', '002584', '002590',\n",
    "       '002606', '002619', '002631', '002665', '002673', '002681',\n",
    "       '002686', '002689', '002692', '002709', '300013', '300014',\n",
    "       '300016', '300023', '300032', '300033', '300034', '300036',\n",
    "       '300053', '300059', '300065', '300073', '300075', '300078',\n",
    "       '300081', '300109', '300122', '300130', '300134', '300140',\n",
    "       '300151', '300168', '300173', '300176', '300188', '300206',\n",
    "       '300208', '300211', '300219', '300223', '300248', '300252',\n",
    "       '300253', '300271', '300274', '300302', '300311', '300327',\n",
    "       '300333', '300338', '300341', '300367', '300373', '300377',\n",
    "       '300384', '600070', '600072', '600233', '600247', '600260',\n",
    "       '600338', '600371', '600435', '600647', '600687', '600728',\n",
    "       '600791', '600848', '600892', '601233', '601777', '603019']\n",
    "```\n",
    "\n",
    "按照以上筛选的股票列表，分别对三种初始资金`100,000，50,000,10,000`。进行了测试。以下列出初始资金为`10,000`时的测试回测结果：\n",
    "\n",
    "| name                      |   盈亏总额 |   最终价值 |   交易次数 |   盈利次数 |   亏损次数 |   盈利比率 |   每笔交易平均盈亏额 |   盈利交易平均盈利额 |   亏损交易平均亏损额 |    R |   最大回撤 |   买入平均花费 |\n",
    "|:--------------------------|-----------:|-----------:|-----------:|-----------:|-----------:|-----------:|---------------------:|---------------------:|---------------------:|-----:|-----------:|---------------:|\n",
    "| 原始布林带开口            |    27288.7 |     138664 |        298 |        144 |        154 |   0.483221 |              53.7616 |              189.505 |             -73.1671 | 0.73 |  -0.165884 |        1270.89 |\n",
    "| 原始布林带开口+1倍ATR加仓 |    58787.9 |     179856 |        541 |        305 |        236 |   0.563771 |              75.3127 |              192.747 |             -76.4567 | 0.99 |  -0.256194 |        1175.24 |\n",
    "\n",
    "由于跟踪的股票太多，并且R值较低，所以首选选在R乘数大于3，然后按照交易次数反向排序，选择交易次数最多的10笔交易。`['002522', '300248', '300130', '002460', '300073', '300377', '002407', '600892', '002120', '300036']`。\n",
    "\n",
    "对以上10支股票在2019年度进行了测试回测，结果如下：\n",
    "\n",
    "| name                      |   盈亏总额 |   最终价值 |   交易次数 |   盈利次数 |   亏损次数 |   盈利比率 |   每笔交易平均盈亏额 |   盈利交易平均盈利额 |   亏损交易平均亏损额 |    R |   最大回撤 |   买入平均花费 |   策略年化收益 |\n",
    "|:--------------------------|-----------:|-----------:|-----------:|-----------:|-----------:|-----------:|---------------------:|---------------------:|---------------------:|-----:|-----------:|---------------:|---------------:|\n",
    "| 原始布林带开口            |    722.815 |    12728.3 |         24 |          9 |         15 |   0.375    |             -4.18383 |              80.3128 |             -54.8818 | 0.08 |  -0.169171 |       1045.4   |       0.286047 |\n",
    "| 原始布林带开口+1倍ATR加仓 |   1433.84  |    11860.5 |         44 |         21 |         23 |   0.477273 |              9.75796 |              68.2781 |             -43.6735 | 0.22 |  -0.248141 |        889.201 |       0.191311 |\n",
    "\n",
    "**从以上测试结果结合[策略测试-通道策略-布林带通道宽度.ipynb](https://github.com/GuQiangJS/gquant-example/blob/master/%E7%AD%96%E7%95%A5%E6%B5%8B%E8%AF%95-%E9%80%9A%E9%81%93%E7%AD%96%E7%95%A5-%E5%B8%83%E6%9E%97%E5%B8%A6%E9%80%9A%E9%81%93%E5%AE%BD%E5%BA%A6.ipynb)来看验证了以下观点：策略有效交易次数过少的数据并不可信。**"
   ]
  },
  {
   "cell_type": "code",
   "execution_count": 1,
   "metadata": {
    "ExecuteTime": {
     "end_time": "2020-08-07T11:29:10.026370Z",
     "start_time": "2020-08-07T11:29:07.057615Z"
    }
   },
   "outputs": [],
   "source": [
    "import gquant\n",
    "import abupy\n",
    "import QUANTAXIS as QA\n",
    "import gquant.jupyter_helper\n",
    "from tqdm import tqdm_notebook\n",
    "from IPython.display import clear_output\n",
    "import logging\n",
    "gquant.jupyter_helper.init()\n",
    "logging.disable(logging.DEBUG)"
   ]
  },
  {
   "cell_type": "code",
   "execution_count": 2,
   "metadata": {
    "ExecuteTime": {
     "end_time": "2020-08-07T11:29:10.199585Z",
     "start_time": "2020-08-07T11:29:10.026370Z"
    }
   },
   "outputs": [],
   "source": [
    "symbol_list=QA.QA_fetch_stock_list_adv()"
   ]
  },
  {
   "cell_type": "code",
   "execution_count": 3,
   "metadata": {
    "ExecuteTime": {
     "end_time": "2020-08-07T11:29:10.215210Z",
     "start_time": "2020-08-07T11:29:10.199585Z"
    }
   },
   "outputs": [],
   "source": [
    "# symbol_list"
   ]
  },
  {
   "cell_type": "code",
   "execution_count": 4,
   "metadata": {
    "ExecuteTime": {
     "end_time": "2020-08-07T11:29:10.246424Z",
     "start_time": "2020-08-07T11:29:10.215210Z"
    },
    "code_folding": []
   },
   "outputs": [],
   "source": [
    "class LocalDataAPI(abupy.MarketBu.ABuDataBase.StockBaseMarket,\n",
    "                   abupy.MarketBu.ABuDataBase.SupportMixin):\n",
    "    def _support_market(self):\n",
    "        \"\"\"声明数据源支持A股\"\"\"\n",
    "        return [abupy.EMarketTargetType.E_MARKET_TARGET_CN]\n",
    "\n",
    "    def kline(self, n_folds=2, start=None, end=None):\n",
    "#         import pdb\n",
    "#         pdb.set_trace()\n",
    "        if self._symbol.is_index():\n",
    "            df=QA.QA_fetch_index_day_adv(self._symbol.symbol_code,start,end).data.copy()\n",
    "        else:\n",
    "            df=QA.QA_fetch_stock_day_adv(self._symbol.symbol_code,start,end).to_qfq().data.copy()\n",
    "        df['pre_close'] = df['close'].shift()\n",
    "        df['date'] = df.index.get_level_values(0)\n",
    "        df['date'] = df['date'].dt.strftime('%Y%m%d').apply(\n",
    "            lambda x: abupy.ABuDateUtil.date_str_to_int(x))\n",
    "        df.index = df.index.droplevel(1)\n",
    "        df.index.name = 'dt'\n",
    "        df['date_week'] = df.index.dayofweek\n",
    "        if start and end:\n",
    "            return df[start:end]\n",
    "        elif start:\n",
    "            return df[start:]\n",
    "        elif end:\n",
    "            return df[:end]\n",
    "        return df\n",
    "\n",
    "    def minute(self, n_fold=5, *args, **kwargs):\n",
    "        \"\"\"分钟k线接口\"\"\"\n",
    "        raise NotImplementedError('QAApi minute NotImplementedError!')"
   ]
  },
  {
   "cell_type": "code",
   "execution_count": 5,
   "metadata": {
    "ExecuteTime": {
     "end_time": "2020-08-07T11:29:10.262075Z",
     "start_time": "2020-08-07T11:29:10.246424Z"
    }
   },
   "outputs": [],
   "source": [
    "abupy.env.g_market_target = abupy.env.EMarketTargetType.E_MARKET_TARGET_CN\n",
    "# 所有任务数据强制网络更新\n",
    "abupy.env.g_data_fetch_mode = abupy.env.EMarketDataFetchMode.E_DATA_FETCH_FORCE_NET\n",
    "# 使用QUATAXIS本地数据作为数据源\n",
    "abupy.env.g_private_data_source = LocalDataAPI"
   ]
  },
  {
   "cell_type": "code",
   "execution_count": 6,
   "metadata": {
    "ExecuteTime": {
     "end_time": "2020-08-07T11:29:10.308977Z",
     "start_time": "2020-08-07T11:29:10.262075Z"
    },
    "code_folding": []
   },
   "outputs": [],
   "source": [
    "from abupy.IndicatorBu.ABuNDAtr import calc_atr\n",
    "from QUANTAXIS.QAIndicator.talib_series import SMA\n",
    "from QUANTAXIS.QAIndicator.talib_indicators import SAR\n",
    "from QUANTAXIS.QAIndicator.talib_series import BBANDS\n",
    "\n",
    "class KLManager(abupy.AbuKLManager):\n",
    "    def _fetch_pick_time_kl_pd(self, target_symbol):\n",
    "        data = abupy.MarketBu.ABuSymbolPd.make_kl_df(target_symbol,start=self.benchmark.start,end=self.benchmark.end)\n",
    "        if not data.empty:\n",
    "            high = data['high']\n",
    "            low = data['low']\n",
    "            pre_close = data['pre_close']\n",
    "            data['ma_slow']=SMA(data['close'],40)\n",
    "            data['atr']=calc_atr(high, low, pre_close, 20)\n",
    "            data['sar']=SAR(data,0.02,0.2)\n",
    "            data['up']=data['ma_slow']+data['atr']\n",
    "            data['low']=data['ma_slow']-data['atr']\n",
    "#             data['ma_fast']=SMA(data['close'],20)\n",
    "            data['atr14'] = calc_atr(high, low, pre_close, 14)\n",
    "            data['atr21'] = calc_atr(high, low, pre_close, 21)\n",
    "            data['bb_up'],data['bb_mid'],data['bb_low']=BBANDS(data['close'], timeperiod=20, nbdevup=1.5, nbdevdn=1.5, matype=0)\n",
    "            data['WIDTH']=(data['bb_up']-data['bb_low'])/data['bb_mid']#极限宽指标\n",
    "            \n",
    "            data['buy']=0\n",
    "            #布林带开口大小(极限宽指标)>0.2，并且收盘价在上线以上。\n",
    "            data.loc[(data['WIDTH'] > 0.2)&(data['close']>data['bb_up']),'buy']=1\n",
    "            data['buy']=data['buy']-data.shift()['buy']#不重复建仓\n",
    "            #收盘价下穿慢速线\n",
    "            data['sell']=QA.QAIndicator.CROSS(data['ma_slow'],data['close'])\n",
    "            \n",
    "            result = data[self.benchmark.start:self.benchmark.end]\n",
    "            result.name = data.name\n",
    "        else:\n",
    "            return data\n",
    "#         logging.info(result)\n",
    "        return result"
   ]
  },
  {
   "cell_type": "markdown",
   "metadata": {},
   "source": [
    "## 仓位控制方法"
   ]
  },
  {
   "cell_type": "code",
   "execution_count": 7,
   "metadata": {
    "ExecuteTime": {
     "end_time": "2020-08-07T11:29:10.340227Z",
     "start_time": "2020-08-07T11:29:10.308977Z"
    },
    "code_folding": [
     0
    ]
   },
   "outputs": [],
   "source": [
    "class Position1(abupy.AbuPositionBase):\n",
    "    \"\"\"1手\"\"\"\n",
    "    def _init_self(self, **kwargs):\n",
    "        \"\"\"子类仓位管理针对可扩展参数的初始化\"\"\"\n",
    "        pass\n",
    "\n",
    "    def fit_position(self, factor_object):\n",
    "        return 100"
   ]
  },
  {
   "cell_type": "markdown",
   "metadata": {},
   "source": [
    "## 回测方法"
   ]
  },
  {
   "cell_type": "code",
   "execution_count": 8,
   "metadata": {
    "ExecuteTime": {
     "end_time": "2020-08-07T11:29:10.371426Z",
     "start_time": "2020-08-07T11:29:10.340227Z"
    },
    "code_folding": []
   },
   "outputs": [],
   "source": [
    "def backtest(symbol,buy_factors,sell_factors,init_cash=10000,**kwargs):\n",
    "    start = kwargs.pop('start','2014-01-01')\n",
    "    end = kwargs.pop('end','2018-12-31')\n",
    "\n",
    "    benchmark = abupy.AbuBenchmark('000300', start, end)\n",
    "    capital = abupy.AbuCapital(init_cash, benchmark)\n",
    "    klmanager=kwargs.pop('klmanager',KLManager)\n",
    "    \n",
    "    \n",
    "    if isinstance(symbol,str):\n",
    "        symbol=[symbol]\n",
    "    orders_pd, action_pd, _ = abupy.ABuPickTimeExecute.do_symbols_with_same_factors(\n",
    "        symbol,\n",
    "        benchmark,\n",
    "        buy_factors,\n",
    "        sell_factors,\n",
    "        capital,\n",
    "        kl_pd_manager=klmanager(benchmark, capital),\n",
    "        show=False)\n",
    "    m = gquant.Metrics(orders_pd, action_pd, capital, benchmark)\n",
    "    m.fit_metrics()\n",
    "    if hasattr(m, 'act_sell') and not m.act_sell.empty:\n",
    "        m.act_sell['profit_init']=m.act_sell['profit'] / m.capital.read_cash\n",
    "        m.act_sell['profit_init_hunder'] = m.act_sell['profit_init'] * 100\n",
    "        return m\n",
    "    return None"
   ]
  },
  {
   "cell_type": "markdown",
   "metadata": {},
   "source": [
    "## 回测绘图"
   ]
  },
  {
   "cell_type": "code",
   "execution_count": 9,
   "metadata": {
    "ExecuteTime": {
     "end_time": "2020-08-07T11:29:10.402676Z",
     "start_time": "2020-08-07T11:29:10.371426Z"
    }
   },
   "outputs": [],
   "source": [
    "def plot_cum_returns(metrics):\n",
    "    metrics.benchmark_cum_returns.plot()\n",
    "    metrics.algorithm_cum_returns.plot()\n",
    "    gquant.plt.legend(['基准收益', '策略收益'], loc='best')\n",
    "    gquant.plt.title('收益对比')\n",
    "    gquant.plt.show()\n",
    "\n",
    "def plot_win_loss_pie(metrics):\n",
    "    gquant.plt.pie(x=[len(metrics.ret), len(metrics.los)],\n",
    "                   labels=['盈利', '亏损'],\n",
    "                   colors=['#d62728', '#2ca02c'],\n",
    "                   autopct='%1.2f%%')\n",
    "    gquant.plt.title('盈亏次数比')\n",
    "    gquant.plt.show()\n",
    "    \n",
    "def plot_win_loss_bar(metrics,v='profit_cg_hunder'):\n",
    "    import matplotlib.ticker\n",
    "    vc=gquant.np.round(metrics.act_sell[v],0).value_counts().sort_index().to_frame()\n",
    "    ax=vc.plot(kind='bar',title='盈亏百分比次数')\n",
    "#     gquant.plt.axvline(x=gquant.np.where(vc.index.to_numpy()==0)[0], color='#d68a27')\n",
    "#     ax.xaxis.set_major_formatter(matplotlib.ticker.FormatStrFormatter('%d'))\n",
    "    gquant.plt.show()\n",
    "    \n",
    "def plot_capital_blance(metrics):\n",
    "    metrics.capital.capital_pd.capital_blance.plot(title='账户价值曲线')\n",
    "    metrics.capital.capital_pd.cash_blance .plot(title='账户现金曲线')\n",
    "    gquant.plt.xticks(rotation=70)\n",
    "    gquant.plt.legend()\n",
    "    gquant.plt.show()"
   ]
  },
  {
   "cell_type": "markdown",
   "metadata": {},
   "source": [
    "## 扩展回测报告"
   ]
  },
  {
   "cell_type": "code",
   "execution_count": 10,
   "metadata": {
    "ExecuteTime": {
     "end_time": "2020-08-07T11:29:10.433977Z",
     "start_time": "2020-08-07T11:29:10.402676Z"
    }
   },
   "outputs": [],
   "source": [
    "def get_report(m,name):\n",
    "    p=m.profit_series(name='回测-{}'.format(name))\n",
    "    p['平均获利期望'] = m.gains_mean  #平均获利期望\\n\",\n",
    "    p['平均亏损期望'] = m.losses_mean  #平均亏损期望\\n\",\n",
    "    p['盈亏比'] = m.win_loss_profit_rate  #盈亏比\\n\",\n",
    "    p['策略年化收益'] = m.algorithm_annualized_returns  #策略年化收益\\n\",\n",
    "    p['基准年化收益'] = m.benchmark_annualized_returns  #基准年化收益\\n\",\n",
    "    c = m.order_has_ret\n",
    "    p['赢利交易平均持股天数'] = c[c.profit > 0].keep_days.values.mean()  #赢利交易平均持股天数\\n\",\n",
    "    p['亏损交易平均持股天数'] = c[c.profit <= 0].keep_days.values.mean()  #亏损交易平均持股天数\\n\",\n",
    "    p = gquant.pd.to_numeric(p)\n",
    "    return p.to_frame().round(2).T"
   ]
  },
  {
   "cell_type": "markdown",
   "metadata": {},
   "source": [
    "## 买卖策略"
   ]
  },
  {
   "cell_type": "code",
   "execution_count": 11,
   "metadata": {
    "ExecuteTime": {
     "end_time": "2020-08-07T11:29:10.465227Z",
     "start_time": "2020-08-07T11:29:10.433977Z"
    },
    "code_folding": [
     0,
     9
    ]
   },
   "outputs": [],
   "source": [
    "class BuyStrategy1(gquant.abupy.AbuFactorBuyTD, gquant.abupy.BuyCallMixin):\n",
    "    def _init_self(self, **kwargs):\n",
    "        self.factor_name = self.__class__.__name__\n",
    "\n",
    "    def fit_day(self, today):\n",
    "        if today['buy']:\n",
    "            return self.buy_tomorrow()\n",
    "        return None\n",
    "    \n",
    "class SellStrategy1(gquant.abupy.AbuFactorSellBase):\n",
    "    def _init_self(self, **kwargs):\n",
    "        self.factor_name = self.__class__.__name__\n",
    "\n",
    "    def support_direction(self):\n",
    "        \"\"\"支持的方向，只支持正向\"\"\"\n",
    "        return [abupy.ESupportDirection.DIRECTION_CAll.value]\n",
    "\n",
    "    def fit_day(self, today, orders):\n",
    "        if today['sell']:\n",
    "            for order in orders:\n",
    "                self.sell_tomorrow(order)"
   ]
  },
  {
   "cell_type": "markdown",
   "metadata": {},
   "source": [
    "### 买-当日价格超过购买价+1倍购买日ATR"
   ]
  },
  {
   "cell_type": "code",
   "execution_count": 13,
   "metadata": {
    "ExecuteTime": {
     "end_time": "2020-08-07T11:29:10.512104Z",
     "start_time": "2020-08-07T11:29:10.480802Z"
    },
    "code_folding": []
   },
   "outputs": [],
   "source": [
    "class BuyStrategy2(gquant.abupy.AbuFactorBuyTD, gquant.abupy.BuyCallMixin):\n",
    "    def _init_self(self, **kwargs):\n",
    "        self.factor_name = self.__class__.__name__\n",
    "\n",
    "    def fit_day(self, today):\n",
    "        if self.orders:\n",
    "            o=self.orders[-1]\n",
    "            if o.sell_date is None:\n",
    "                buy=self.kl_pd[self.kl_pd['date']==o.buy_date]#最后一次购买当日的信息\n",
    "                atr=buy.iloc[0]['atr']#最后一次购买当日的atr数据\n",
    "                if today.close>today.up and today.close>o.buy_price+atr:\n",
    "                    #当天价格在波幅通道之上，并且当天收盘价大于最后一次购买价格+1倍购买日atr（可加仓价）\n",
    "#                     import logging\n",
    "#                     logging.info('{}:当日收盘价:{:.2f},当日波幅上轨:{:.2f},购买日:{},购买价格:{:.2f},购买日ATR:{:.2f}'.format(today.date,today.close,today.up,o.buy_date,o.buy_price,atr))\n",
    "                    return self.buy_tomorrow()"
   ]
  },
  {
   "cell_type": "markdown",
   "metadata": {},
   "source": [
    "# 训练测试"
   ]
  },
  {
   "cell_type": "code",
   "execution_count": 14,
   "metadata": {
    "ExecuteTime": {
     "end_time": "2020-08-07T11:29:10.543355Z",
     "start_time": "2020-08-07T11:29:10.512104Z"
    },
    "code_folding": [
     0,
     1
    ]
   },
   "outputs": [],
   "source": [
    "ts = {\n",
    "    '原始布林带开口': {\n",
    "        # 买入因子\n",
    "        'buy_factors': [\n",
    "            {\n",
    "                'class': BuyStrategy1,\n",
    "                # 仓位管理\n",
    "                'position': {\n",
    "                    'class': Position1\n",
    "                }\n",
    "            },\n",
    "        ],\n",
    "        # 卖出因子\n",
    "        'sell_factors': [{\n",
    "            'class': SellStrategy1,\n",
    "        }]\n",
    "    },\n",
    "    '原始布林带开口+1倍ATR加仓': {\n",
    "        # 买入因子\n",
    "        'buy_factors': [\n",
    "            {\n",
    "                'class': BuyStrategy1,\n",
    "                # 仓位管理\n",
    "                'position': {\n",
    "                    'class': Position1\n",
    "                }\n",
    "            },\n",
    "            {\n",
    "                'class': BuyStrategy2,\n",
    "                # 仓位管理\n",
    "                'position': {\n",
    "                    'class': Position1\n",
    "                }\n",
    "            }\n",
    "        ],\n",
    "        # 卖出因子\n",
    "        'sell_factors': [{\n",
    "            'class': SellStrategy1,\n",
    "        }]\n",
    "    },\n",
    "}"
   ]
  },
  {
   "cell_type": "markdown",
   "metadata": {},
   "source": [
    "## 全市场\n",
    "\n",
    "使用原始波幅测试所有股票。测试期间为`2014-01-01~2018-12-31`。\n",
    "\n",
    "结果存储在`datas布林带通道宽度-全市场测试-2014至2018.xlsx`文件中。如果文件存在就读取，不再重复测试（测试时间过长）。\n",
    "\n",
    "**由于测试环境问题，当时未能保存为xlsx格式（虽然文件后缀名还是xlsx。因为github上做了csv文件后缀名被排除上传的设置）。但是csv文件读取后的效果是否需要做二次转换，并未测试。**"
   ]
  },
  {
   "cell_type": "code",
   "execution_count": null,
   "metadata": {
    "ExecuteTime": {
     "end_time": "2020-08-07T14:34:46.413806Z",
     "start_time": "2020-08-07T11:29:10.543355Z"
    }
   },
   "outputs": [],
   "source": [
    "def getreport(bts):\n",
    "    report=[]\n",
    "    for symbol,metrics in bts.items():\n",
    "        for name,m in metrics.items():\n",
    "            if m is None:\n",
    "                continue\n",
    "            p=m.profit_series(name=name)\n",
    "            p=gquant.pd.to_numeric(p)\n",
    "            p['code']=symbol\n",
    "            report.append(p)\n",
    "    if not report:\n",
    "        return gquant.pd.DataFrame({'R':[]})\n",
    "    report=gquant.pd.concat(report, axis=1).T\n",
    "    for col in report.columns:\n",
    "        if col=='code':\n",
    "            continue\n",
    "        report[col]=gquant.pd.to_numeric(report[col])\n",
    "    return report\n",
    "\n",
    "import os\n",
    "import pickle\n",
    "data_file='datas\\布林带通道宽度-全市场测试-2014至2018.xlsx'\n",
    "if os.path.exists(data_file):\n",
    "    report=gquant.pd.read_excel('datas\\布林带通道宽度-全市场测试-2014至2018.xlsx',encoding='utf_8_sig',dtype={'code':str},index_col=0)\n",
    "else:\n",
    "    bts={}\n",
    "\n",
    "    for symbol in tqdm_notebook(symbol_list.code):\n",
    "        bts[symbol]={}\n",
    "        for k,v in ts.items():\n",
    "            if k!='原始布林带开口':\n",
    "                continue\n",
    "            try:\n",
    "                m=backtest(symbol,v['buy_factors'],v['sell_factors'],start='2014-01-01',end='2018-12-31')\n",
    "                if m is None:\n",
    "                    continue\n",
    "                bts[symbol][k]=m\n",
    "            except:\n",
    "                pass\n",
    "\n",
    "    report=getreport(bts)\n",
    "    report.to_excel(data_file,encoding='utf_8_sig')\n",
    "    \n",
    "#     with open('datas\\ATR波幅通道-全市场测试-Metrics-2014至2018.pickle', 'wb') as f:\n",
    "#         pickle.dump(bts, f, pickle.HIGHEST_PROTOCOL)\n",
    "\n",
    "clear_output(wait=True)"
   ]
  },
  {
   "cell_type": "code",
   "execution_count": null,
   "metadata": {
    "ExecuteTime": {
     "end_time": "2020-08-07T14:34:46.413806Z",
     "start_time": "2020-08-07T11:29:47.256Z"
    }
   },
   "outputs": [],
   "source": [
    "# with open('datas\\ATR波幅通道-全市场测试-Metrics-2014至2018.pickle', 'rb') as f:\n",
    "#     data = pickle.load(f)"
   ]
  },
  {
   "cell_type": "markdown",
   "metadata": {},
   "source": [
    "### 结果"
   ]
  },
  {
   "cell_type": "code",
   "execution_count": 16,
   "metadata": {
    "ExecuteTime": {
     "end_time": "2020-08-07T14:51:48.218601Z",
     "start_time": "2020-08-07T14:51:48.109202Z"
    }
   },
   "outputs": [
    {
     "data": {
      "text/html": [
       "<div>\n",
       "<style scoped>\n",
       "    .dataframe tbody tr th:only-of-type {\n",
       "        vertical-align: middle;\n",
       "    }\n",
       "\n",
       "    .dataframe tbody tr th {\n",
       "        vertical-align: top;\n",
       "    }\n",
       "\n",
       "    .dataframe thead th {\n",
       "        text-align: right;\n",
       "    }\n",
       "</style>\n",
       "<table border=\"1\" class=\"dataframe\">\n",
       "  <thead>\n",
       "    <tr style=\"text-align: right;\">\n",
       "      <th></th>\n",
       "      <th>盈亏总额</th>\n",
       "      <th>最终价值</th>\n",
       "      <th>交易次数</th>\n",
       "      <th>盈利次数</th>\n",
       "      <th>亏损次数</th>\n",
       "      <th>盈利比率</th>\n",
       "      <th>每笔交易平均盈亏额</th>\n",
       "      <th>盈利交易平均盈利额</th>\n",
       "      <th>亏损交易平均亏损额</th>\n",
       "      <th>R</th>\n",
       "      <th>最大回撤</th>\n",
       "      <th>买入平均花费</th>\n",
       "      <th>code</th>\n",
       "    </tr>\n",
       "  </thead>\n",
       "  <tbody>\n",
       "    <tr>\n",
       "      <th>原始布林带开口</th>\n",
       "      <td>24384.0383</td>\n",
       "      <td>34156.933</td>\n",
       "      <td>48.0</td>\n",
       "      <td>42.0</td>\n",
       "      <td>6.0</td>\n",
       "      <td>0.8750</td>\n",
       "      <td>503.1149</td>\n",
       "      <td>580.5723</td>\n",
       "      <td>-39.0869</td>\n",
       "      <td>12.87</td>\n",
       "      <td>-0.3551</td>\n",
       "      <td>1190.7220</td>\n",
       "      <td>002522</td>\n",
       "    </tr>\n",
       "    <tr>\n",
       "      <th>原始布林带开口</th>\n",
       "      <td>30337.8064</td>\n",
       "      <td>40028.376</td>\n",
       "      <td>40.0</td>\n",
       "      <td>35.0</td>\n",
       "      <td>5.0</td>\n",
       "      <td>0.8750</td>\n",
       "      <td>750.4810</td>\n",
       "      <td>866.7945</td>\n",
       "      <td>-63.7136</td>\n",
       "      <td>11.78</td>\n",
       "      <td>-0.2946</td>\n",
       "      <td>739.7111</td>\n",
       "      <td>300059</td>\n",
       "    </tr>\n",
       "    <tr>\n",
       "      <th>原始布林带开口</th>\n",
       "      <td>13100.7183</td>\n",
       "      <td>22964.098</td>\n",
       "      <td>33.0</td>\n",
       "      <td>29.0</td>\n",
       "      <td>4.0</td>\n",
       "      <td>0.8788</td>\n",
       "      <td>392.7302</td>\n",
       "      <td>451.7489</td>\n",
       "      <td>-35.1556</td>\n",
       "      <td>11.17</td>\n",
       "      <td>-0.2783</td>\n",
       "      <td>1319.3083</td>\n",
       "      <td>300327</td>\n",
       "    </tr>\n",
       "    <tr>\n",
       "      <th>原始布林带开口</th>\n",
       "      <td>17671.9693</td>\n",
       "      <td>27260.239</td>\n",
       "      <td>38.0</td>\n",
       "      <td>28.0</td>\n",
       "      <td>10.0</td>\n",
       "      <td>0.7368</td>\n",
       "      <td>454.0772</td>\n",
       "      <td>631.1418</td>\n",
       "      <td>-41.7035</td>\n",
       "      <td>10.89</td>\n",
       "      <td>-0.3003</td>\n",
       "      <td>1099.8975</td>\n",
       "      <td>000034</td>\n",
       "    </tr>\n",
       "    <tr>\n",
       "      <th>原始布林带开口</th>\n",
       "      <td>18239.5162</td>\n",
       "      <td>27998.931</td>\n",
       "      <td>42.0</td>\n",
       "      <td>36.0</td>\n",
       "      <td>6.0</td>\n",
       "      <td>0.8571</td>\n",
       "      <td>428.4144</td>\n",
       "      <td>506.6532</td>\n",
       "      <td>-41.0187</td>\n",
       "      <td>10.44</td>\n",
       "      <td>-0.2458</td>\n",
       "      <td>1100.1854</td>\n",
       "      <td>000662</td>\n",
       "    </tr>\n",
       "    <tr>\n",
       "      <th>...</th>\n",
       "      <td>...</td>\n",
       "      <td>...</td>\n",
       "      <td>...</td>\n",
       "      <td>...</td>\n",
       "      <td>...</td>\n",
       "      <td>...</td>\n",
       "      <td>...</td>\n",
       "      <td>...</td>\n",
       "      <td>...</td>\n",
       "      <td>...</td>\n",
       "      <td>...</td>\n",
       "      <td>...</td>\n",
       "      <td>...</td>\n",
       "    </tr>\n",
       "    <tr>\n",
       "      <th>原始布林带开口</th>\n",
       "      <td>8642.7166</td>\n",
       "      <td>17647.556</td>\n",
       "      <td>37.0</td>\n",
       "      <td>22.0</td>\n",
       "      <td>15.0</td>\n",
       "      <td>0.5946</td>\n",
       "      <td>206.6253</td>\n",
       "      <td>392.8508</td>\n",
       "      <td>-66.5054</td>\n",
       "      <td>3.11</td>\n",
       "      <td>-0.2189</td>\n",
       "      <td>1015.9591</td>\n",
       "      <td>600371</td>\n",
       "    </tr>\n",
       "    <tr>\n",
       "      <th>原始布林带开口</th>\n",
       "      <td>11191.6899</td>\n",
       "      <td>19782.034</td>\n",
       "      <td>40.0</td>\n",
       "      <td>22.0</td>\n",
       "      <td>18.0</td>\n",
       "      <td>0.5500</td>\n",
       "      <td>244.4744</td>\n",
       "      <td>508.7132</td>\n",
       "      <td>-78.4842</td>\n",
       "      <td>3.11</td>\n",
       "      <td>-0.3801</td>\n",
       "      <td>986.4681</td>\n",
       "      <td>300173</td>\n",
       "    </tr>\n",
       "    <tr>\n",
       "      <th>原始布林带开口</th>\n",
       "      <td>8357.5677</td>\n",
       "      <td>17591.651</td>\n",
       "      <td>35.0</td>\n",
       "      <td>24.0</td>\n",
       "      <td>11.0</td>\n",
       "      <td>0.6857</td>\n",
       "      <td>216.8360</td>\n",
       "      <td>348.2320</td>\n",
       "      <td>-69.8461</td>\n",
       "      <td>3.10</td>\n",
       "      <td>-0.2477</td>\n",
       "      <td>912.9957</td>\n",
       "      <td>300219</td>\n",
       "    </tr>\n",
       "    <tr>\n",
       "      <th>原始布林带开口</th>\n",
       "      <td>8085.7540</td>\n",
       "      <td>17168.947</td>\n",
       "      <td>33.0</td>\n",
       "      <td>20.0</td>\n",
       "      <td>13.0</td>\n",
       "      <td>0.6061</td>\n",
       "      <td>217.1723</td>\n",
       "      <td>404.2877</td>\n",
       "      <td>-70.6976</td>\n",
       "      <td>3.07</td>\n",
       "      <td>-0.2293</td>\n",
       "      <td>1333.1519</td>\n",
       "      <td>600435</td>\n",
       "    </tr>\n",
       "    <tr>\n",
       "      <th>原始布林带开口</th>\n",
       "      <td>3925.7013</td>\n",
       "      <td>13524.687</td>\n",
       "      <td>32.0</td>\n",
       "      <td>21.0</td>\n",
       "      <td>11.0</td>\n",
       "      <td>0.6562</td>\n",
       "      <td>110.1102</td>\n",
       "      <td>186.9382</td>\n",
       "      <td>-36.5613</td>\n",
       "      <td>3.01</td>\n",
       "      <td>-0.2658</td>\n",
       "      <td>616.6875</td>\n",
       "      <td>000718</td>\n",
       "    </tr>\n",
       "  </tbody>\n",
       "</table>\n",
       "<p>96 rows × 13 columns</p>\n",
       "</div>"
      ],
      "text/plain": [
       "               盈亏总额       最终价值  交易次数  盈利次数  亏损次数    盈利比率  每笔交易平均盈亏额  \\\n",
       "原始布林带开口  24384.0383  34156.933  48.0  42.0   6.0  0.8750   503.1149   \n",
       "原始布林带开口  30337.8064  40028.376  40.0  35.0   5.0  0.8750   750.4810   \n",
       "原始布林带开口  13100.7183  22964.098  33.0  29.0   4.0  0.8788   392.7302   \n",
       "原始布林带开口  17671.9693  27260.239  38.0  28.0  10.0  0.7368   454.0772   \n",
       "原始布林带开口  18239.5162  27998.931  42.0  36.0   6.0  0.8571   428.4144   \n",
       "...             ...        ...   ...   ...   ...     ...        ...   \n",
       "原始布林带开口   8642.7166  17647.556  37.0  22.0  15.0  0.5946   206.6253   \n",
       "原始布林带开口  11191.6899  19782.034  40.0  22.0  18.0  0.5500   244.4744   \n",
       "原始布林带开口   8357.5677  17591.651  35.0  24.0  11.0  0.6857   216.8360   \n",
       "原始布林带开口   8085.7540  17168.947  33.0  20.0  13.0  0.6061   217.1723   \n",
       "原始布林带开口   3925.7013  13524.687  32.0  21.0  11.0  0.6562   110.1102   \n",
       "\n",
       "         盈利交易平均盈利额  亏损交易平均亏损额      R    最大回撤     买入平均花费    code  \n",
       "原始布林带开口   580.5723   -39.0869  12.87 -0.3551  1190.7220  002522  \n",
       "原始布林带开口   866.7945   -63.7136  11.78 -0.2946   739.7111  300059  \n",
       "原始布林带开口   451.7489   -35.1556  11.17 -0.2783  1319.3083  300327  \n",
       "原始布林带开口   631.1418   -41.7035  10.89 -0.3003  1099.8975  000034  \n",
       "原始布林带开口   506.6532   -41.0187  10.44 -0.2458  1100.1854  000662  \n",
       "...            ...        ...    ...     ...        ...     ...  \n",
       "原始布林带开口   392.8508   -66.5054   3.11 -0.2189  1015.9591  600371  \n",
       "原始布林带开口   508.7132   -78.4842   3.11 -0.3801   986.4681  300173  \n",
       "原始布林带开口   348.2320   -69.8461   3.10 -0.2477   912.9957  300219  \n",
       "原始布林带开口   404.2877   -70.6976   3.07 -0.2293  1333.1519  600435  \n",
       "原始布林带开口   186.9382   -36.5613   3.01 -0.2658   616.6875  000718  \n",
       "\n",
       "[96 rows x 13 columns]"
      ]
     },
     "execution_count": 16,
     "metadata": {},
     "output_type": "execute_result"
    }
   ],
   "source": [
    "report.loc[(report['交易次数']>30)&(report['R']>3)].sort_values('R',ascending=False)"
   ]
  },
  {
   "cell_type": "code",
   "execution_count": 17,
   "metadata": {
    "ExecuteTime": {
     "end_time": "2020-08-07T14:52:00.955885Z",
     "start_time": "2020-08-07T14:52:00.846458Z"
    }
   },
   "outputs": [
    {
     "data": {
      "text/html": [
       "<div>\n",
       "<style scoped>\n",
       "    .dataframe tbody tr th:only-of-type {\n",
       "        vertical-align: middle;\n",
       "    }\n",
       "\n",
       "    .dataframe tbody tr th {\n",
       "        vertical-align: top;\n",
       "    }\n",
       "\n",
       "    .dataframe thead th {\n",
       "        text-align: right;\n",
       "    }\n",
       "</style>\n",
       "<table border=\"1\" class=\"dataframe\">\n",
       "  <thead>\n",
       "    <tr style=\"text-align: right;\">\n",
       "      <th></th>\n",
       "      <th>盈亏总额</th>\n",
       "      <th>最终价值</th>\n",
       "      <th>交易次数</th>\n",
       "      <th>盈利次数</th>\n",
       "      <th>亏损次数</th>\n",
       "      <th>盈利比率</th>\n",
       "      <th>每笔交易平均盈亏额</th>\n",
       "      <th>盈利交易平均盈利额</th>\n",
       "      <th>亏损交易平均亏损额</th>\n",
       "      <th>R</th>\n",
       "      <th>最大回撤</th>\n",
       "      <th>买入平均花费</th>\n",
       "      <th>code</th>\n",
       "    </tr>\n",
       "  </thead>\n",
       "  <tbody>\n",
       "    <tr>\n",
       "      <th>原始布林带开口</th>\n",
       "      <td>24384.0383</td>\n",
       "      <td>34156.933</td>\n",
       "      <td>48.0</td>\n",
       "      <td>42.0</td>\n",
       "      <td>6.0</td>\n",
       "      <td>0.8750</td>\n",
       "      <td>503.1149</td>\n",
       "      <td>580.5723</td>\n",
       "      <td>-39.0869</td>\n",
       "      <td>12.87</td>\n",
       "      <td>-0.3551</td>\n",
       "      <td>1190.7220</td>\n",
       "      <td>002522</td>\n",
       "    </tr>\n",
       "    <tr>\n",
       "      <th>原始布林带开口</th>\n",
       "      <td>34059.4971</td>\n",
       "      <td>42661.600</td>\n",
       "      <td>47.0</td>\n",
       "      <td>30.0</td>\n",
       "      <td>17.0</td>\n",
       "      <td>0.6383</td>\n",
       "      <td>689.6462</td>\n",
       "      <td>1135.3166</td>\n",
       "      <td>-96.8308</td>\n",
       "      <td>7.12</td>\n",
       "      <td>-0.3527</td>\n",
       "      <td>1319.0011</td>\n",
       "      <td>300248</td>\n",
       "    </tr>\n",
       "    <tr>\n",
       "      <th>原始布林带开口</th>\n",
       "      <td>24278.3656</td>\n",
       "      <td>32926.462</td>\n",
       "      <td>51.0</td>\n",
       "      <td>34.0</td>\n",
       "      <td>17.0</td>\n",
       "      <td>0.6667</td>\n",
       "      <td>449.4003</td>\n",
       "      <td>714.0696</td>\n",
       "      <td>-79.9382</td>\n",
       "      <td>5.62</td>\n",
       "      <td>-0.3268</td>\n",
       "      <td>1275.7331</td>\n",
       "      <td>300130</td>\n",
       "    </tr>\n",
       "    <tr>\n",
       "      <th>原始布林带开口</th>\n",
       "      <td>28471.0144</td>\n",
       "      <td>37155.049</td>\n",
       "      <td>64.0</td>\n",
       "      <td>48.0</td>\n",
       "      <td>16.0</td>\n",
       "      <td>0.7500</td>\n",
       "      <td>424.1672</td>\n",
       "      <td>593.1461</td>\n",
       "      <td>-82.7698</td>\n",
       "      <td>5.12</td>\n",
       "      <td>-0.2139</td>\n",
       "      <td>1582.7907</td>\n",
       "      <td>002460</td>\n",
       "    </tr>\n",
       "    <tr>\n",
       "      <th>原始布林带开口</th>\n",
       "      <td>20075.4960</td>\n",
       "      <td>29149.518</td>\n",
       "      <td>49.0</td>\n",
       "      <td>35.0</td>\n",
       "      <td>14.0</td>\n",
       "      <td>0.7143</td>\n",
       "      <td>385.4290</td>\n",
       "      <td>573.5856</td>\n",
       "      <td>-84.9624</td>\n",
       "      <td>4.54</td>\n",
       "      <td>-0.2413</td>\n",
       "      <td>1744.8770</td>\n",
       "      <td>300073</td>\n",
       "    </tr>\n",
       "    <tr>\n",
       "      <th>原始布林带开口</th>\n",
       "      <td>15994.4884</td>\n",
       "      <td>24969.495</td>\n",
       "      <td>67.0</td>\n",
       "      <td>47.0</td>\n",
       "      <td>20.0</td>\n",
       "      <td>0.7015</td>\n",
       "      <td>223.3551</td>\n",
       "      <td>340.3083</td>\n",
       "      <td>-51.4849</td>\n",
       "      <td>4.34</td>\n",
       "      <td>-0.3334</td>\n",
       "      <td>1048.7904</td>\n",
       "      <td>300377</td>\n",
       "    </tr>\n",
       "    <tr>\n",
       "      <th>原始布林带开口</th>\n",
       "      <td>17783.7077</td>\n",
       "      <td>26904.184</td>\n",
       "      <td>52.0</td>\n",
       "      <td>41.0</td>\n",
       "      <td>11.0</td>\n",
       "      <td>0.7885</td>\n",
       "      <td>324.9797</td>\n",
       "      <td>433.7490</td>\n",
       "      <td>-80.4329</td>\n",
       "      <td>4.04</td>\n",
       "      <td>-0.2818</td>\n",
       "      <td>1550.7450</td>\n",
       "      <td>002407</td>\n",
       "    </tr>\n",
       "    <tr>\n",
       "      <th>原始布林带开口</th>\n",
       "      <td>12817.6999</td>\n",
       "      <td>21756.837</td>\n",
       "      <td>47.0</td>\n",
       "      <td>30.0</td>\n",
       "      <td>17.0</td>\n",
       "      <td>0.6383</td>\n",
       "      <td>250.0671</td>\n",
       "      <td>427.2567</td>\n",
       "      <td>-62.6203</td>\n",
       "      <td>3.99</td>\n",
       "      <td>-0.2285</td>\n",
       "      <td>1087.1638</td>\n",
       "      <td>600892</td>\n",
       "    </tr>\n",
       "    <tr>\n",
       "      <th>原始布林带开口</th>\n",
       "      <td>7419.4861</td>\n",
       "      <td>17101.816</td>\n",
       "      <td>45.0</td>\n",
       "      <td>38.0</td>\n",
       "      <td>7.0</td>\n",
       "      <td>0.8444</td>\n",
       "      <td>157.7678</td>\n",
       "      <td>195.2496</td>\n",
       "      <td>-45.7047</td>\n",
       "      <td>3.45</td>\n",
       "      <td>-0.3688</td>\n",
       "      <td>965.4481</td>\n",
       "      <td>002120</td>\n",
       "    </tr>\n",
       "    <tr>\n",
       "      <th>原始布林带开口</th>\n",
       "      <td>12927.7047</td>\n",
       "      <td>21445.816</td>\n",
       "      <td>48.0</td>\n",
       "      <td>28.0</td>\n",
       "      <td>20.0</td>\n",
       "      <td>0.5833</td>\n",
       "      <td>238.3799</td>\n",
       "      <td>461.7037</td>\n",
       "      <td>-74.2735</td>\n",
       "      <td>3.21</td>\n",
       "      <td>-0.4180</td>\n",
       "      <td>1284.2796</td>\n",
       "      <td>300036</td>\n",
       "    </tr>\n",
       "  </tbody>\n",
       "</table>\n",
       "</div>"
      ],
      "text/plain": [
       "               盈亏总额       最终价值  交易次数  盈利次数  亏损次数    盈利比率  每笔交易平均盈亏额  \\\n",
       "原始布林带开口  24384.0383  34156.933  48.0  42.0   6.0  0.8750   503.1149   \n",
       "原始布林带开口  34059.4971  42661.600  47.0  30.0  17.0  0.6383   689.6462   \n",
       "原始布林带开口  24278.3656  32926.462  51.0  34.0  17.0  0.6667   449.4003   \n",
       "原始布林带开口  28471.0144  37155.049  64.0  48.0  16.0  0.7500   424.1672   \n",
       "原始布林带开口  20075.4960  29149.518  49.0  35.0  14.0  0.7143   385.4290   \n",
       "原始布林带开口  15994.4884  24969.495  67.0  47.0  20.0  0.7015   223.3551   \n",
       "原始布林带开口  17783.7077  26904.184  52.0  41.0  11.0  0.7885   324.9797   \n",
       "原始布林带开口  12817.6999  21756.837  47.0  30.0  17.0  0.6383   250.0671   \n",
       "原始布林带开口   7419.4861  17101.816  45.0  38.0   7.0  0.8444   157.7678   \n",
       "原始布林带开口  12927.7047  21445.816  48.0  28.0  20.0  0.5833   238.3799   \n",
       "\n",
       "         盈利交易平均盈利额  亏损交易平均亏损额      R    最大回撤     买入平均花费    code  \n",
       "原始布林带开口   580.5723   -39.0869  12.87 -0.3551  1190.7220  002522  \n",
       "原始布林带开口  1135.3166   -96.8308   7.12 -0.3527  1319.0011  300248  \n",
       "原始布林带开口   714.0696   -79.9382   5.62 -0.3268  1275.7331  300130  \n",
       "原始布林带开口   593.1461   -82.7698   5.12 -0.2139  1582.7907  002460  \n",
       "原始布林带开口   573.5856   -84.9624   4.54 -0.2413  1744.8770  300073  \n",
       "原始布林带开口   340.3083   -51.4849   4.34 -0.3334  1048.7904  300377  \n",
       "原始布林带开口   433.7490   -80.4329   4.04 -0.2818  1550.7450  002407  \n",
       "原始布林带开口   427.2567   -62.6203   3.99 -0.2285  1087.1638  600892  \n",
       "原始布林带开口   195.2496   -45.7047   3.45 -0.3688   965.4481  002120  \n",
       "原始布林带开口   461.7037   -74.2735   3.21 -0.4180  1284.2796  300036  "
      ]
     },
     "execution_count": 17,
     "metadata": {},
     "output_type": "execute_result"
    }
   ],
   "source": [
    "report.loc[(report['R']>3)].sort_values('交易次数',ascending=False).head(10).sort_values('R',ascending=False)"
   ]
  },
  {
   "cell_type": "markdown",
   "metadata": {},
   "source": [
    "# 2014~2018间符合测试方法的列表\n",
    "\n",
    "- 成交数量大于30 & R乘数大于3。\n",
    "- 因为跟踪的股票数量过多，所以首选选在R乘数大于3，然后按照交易次数反向排序，选择交易次数最多的10笔交易。"
   ]
  },
  {
   "cell_type": "code",
   "execution_count": 18,
   "metadata": {
    "ExecuteTime": {
     "end_time": "2020-08-07T14:52:18.754943Z",
     "start_time": "2020-08-07T14:52:18.708067Z"
    }
   },
   "outputs": [],
   "source": [
    "symbols=report.loc[(report['交易次数']>30)&(report['R']>3)].code.values #成交数量大于30 & R乘数大于3\n",
    "symbols_10=report.loc[(report['R']>3)].sort_values('交易次数',ascending=False).head(10).sort_values('R',ascending=False).code.values #选择交易次数最多的10笔交易"
   ]
  },
  {
   "cell_type": "code",
   "execution_count": 32,
   "metadata": {
    "ExecuteTime": {
     "end_time": "2020-08-08T05:37:41.159298Z",
     "start_time": "2020-08-08T05:37:41.112425Z"
    }
   },
   "outputs": [
    {
     "data": {
      "text/plain": [
       "array(['000034', '000638', '000662', '000718', '000806', '000948',\n",
       "       '002120', '002175', '002177', '002230', '002260', '002279',\n",
       "       '002280', '002291', '002397', '002407', '002439', '002460',\n",
       "       '002494', '002515', '002522', '002579', '002584', '002590',\n",
       "       '002606', '002619', '002631', '002665', '002673', '002681',\n",
       "       '002686', '002689', '002692', '002709', '300013', '300014',\n",
       "       '300016', '300023', '300032', '300033', '300034', '300036',\n",
       "       '300053', '300059', '300065', '300073', '300075', '300078',\n",
       "       '300081', '300109', '300122', '300130', '300134', '300140',\n",
       "       '300151', '300168', '300173', '300176', '300188', '300206',\n",
       "       '300208', '300211', '300219', '300223', '300248', '300252',\n",
       "       '300253', '300271', '300274', '300302', '300311', '300327',\n",
       "       '300333', '300338', '300341', '300367', '300373', '300377',\n",
       "       '300384', '600070', '600072', '600233', '600247', '600260',\n",
       "       '600338', '600371', '600435', '600647', '600687', '600728',\n",
       "       '600791', '600848', '600892', '601233', '601777', '603019'],\n",
       "      dtype=object)"
      ]
     },
     "execution_count": 32,
     "metadata": {},
     "output_type": "execute_result"
    }
   ],
   "source": [
    "symbols"
   ]
  },
  {
   "cell_type": "code",
   "execution_count": 19,
   "metadata": {
    "ExecuteTime": {
     "end_time": "2020-08-07T14:52:19.556622Z",
     "start_time": "2020-08-07T14:52:19.525321Z"
    }
   },
   "outputs": [
    {
     "data": {
      "text/plain": [
       "array(['002522', '300248', '300130', '002460', '300073', '300377',\n",
       "       '002407', '600892', '002120', '300036'], dtype=object)"
      ]
     },
     "execution_count": 19,
     "metadata": {},
     "output_type": "execute_result"
    }
   ],
   "source": [
    "symbols_10"
   ]
  },
  {
   "cell_type": "markdown",
   "metadata": {},
   "source": [
    "# 2019年度测试回测"
   ]
  },
  {
   "cell_type": "markdown",
   "metadata": {},
   "source": [
    "## 全市场\n",
    "\n",
    "2019年度全市场所有股票采用ATR波幅规则进行回测（因为股票数量过多，所以将初始资金由`10,000`提高到`100,000`）。盈利比率大于`50%`。但R值较低。最大回撤在`13%`左右。\n",
    "\n",
    "| name                      |   盈亏总额 |   最终价值 |   交易次数 |   盈利次数 |   亏损次数 |   盈利比率 |   每笔交易平均盈亏额 |   盈利交易平均盈利额 |   亏损交易平均亏损额 |    R |   最大回撤 |   买入平均花费 |\n",
    "|:--------------------------|-----------:|-----------:|-----------:|-----------:|-----------:|-----------:|---------------------:|---------------------:|---------------------:|-----:|-----------:|---------------:|\n",
    "| 原始布林带开口            |    97614.1 |     153700 |        928 |        499 |        429 |   0.537716 |              79.4076 |              195.619 |             -55.7666 | 1.42 |  -0.137009 |        892.864 |\n",
    "| 原始布林带开口+1倍ATR加仓 |   115150   |     152669 |        998 |        609 |        389 |   0.61022  |              97.3582 |              189.081 |             -46.2382 | 2.11 |  -0.132333 |        861.134 |"
   ]
  },
  {
   "cell_type": "code",
   "execution_count": null,
   "metadata": {
    "ExecuteTime": {
     "end_time": "2020-08-07T18:06:55.183251Z",
     "start_time": "2020-08-07T14:53:24.094405Z"
    },
    "collapsed": true
   },
   "outputs": [],
   "source": [
    "bt_2019_all = {}\n",
    "for n, t in tqdm_notebook(ts.items()):\n",
    "    mc = backtest(list(symbol_list.code),\n",
    "                  t['buy_factors'],\n",
    "                  t['sell_factors'],\n",
    "                  start='2019-01-01',\n",
    "                  end='2019-12-31',\n",
    "                  init_cash=100000)\n",
    "    if mc:\n",
    "        d = mc.profit_series().T\n",
    "        d['name'] = n\n",
    "        bt_2019_all[n] = d\n",
    "clear_output(wait=True)"
   ]
  },
  {
   "cell_type": "code",
   "execution_count": 21,
   "metadata": {
    "ExecuteTime": {
     "end_time": "2020-08-07T18:06:55.214501Z",
     "start_time": "2020-08-07T18:06:55.183251Z"
    }
   },
   "outputs": [
    {
     "name": "stdout",
     "output_type": "stream",
     "text": [
      "| name                      |   盈亏总额 |   最终价值 |   交易次数 |   盈利次数 |   亏损次数 |   盈利比率 |   每笔交易平均盈亏额 |   盈利交易平均盈利额 |   亏损交易平均亏损额 |    R |   最大回撤 |   买入平均花费 |\n",
      "|:--------------------------|-----------:|-----------:|-----------:|-----------:|-----------:|-----------:|---------------------:|---------------------:|---------------------:|-----:|-----------:|---------------:|\n",
      "| 原始布林带开口            |    97614.1 |     153700 |        928 |        499 |        429 |   0.537716 |              79.4076 |              195.619 |             -55.7666 | 1.42 |  -0.137009 |        892.864 |\n",
      "| 原始布林带开口+1倍ATR加仓 |   115150   |     152669 |        998 |        609 |        389 |   0.61022  |              97.3582 |              189.081 |             -46.2382 | 2.11 |  -0.132333 |        861.134 |\n"
     ]
    }
   ],
   "source": [
    "gquant.pd.set_option('display.float_format',lambda x : '%.2f' % x)\n",
    "print(gquant.pd.concat([pd.to_frame().T for pd in bt_2019_all.values()]).set_index('name').to_markdown())"
   ]
  },
  {
   "cell_type": "markdown",
   "metadata": {},
   "source": [
    "## 筛选列表回测\n",
    "\n",
    "根据[训练回测](#训练回测)中从全市场（2014~2018年度间所有股票的筛选结果中）选出的96支股票进行测试\n",
    "\n",
    "### 初始资金100,000\n",
    "\n",
    "由于股票还是较多，所以依然采用的是初始资金`100,000`元。\n",
    "\n",
    "结果：相对于[完全市场结果](#%E5%85%A8%E5%B8%82%E5%9C%BA)来看，R值均降低较大。最大回撤也有增加。\n",
    "\n",
    "| name                      |   盈亏总额 |   最终价值 |   交易次数 |   盈利次数 |   亏损次数 |   盈利比率 |   每笔交易平均盈亏额 |   盈利交易平均盈利额 |   亏损交易平均亏损额 |    R |   最大回撤 |   买入平均花费 |\n",
    "|:--------------------------|-----------:|-----------:|-----------:|-----------:|-----------:|-----------:|---------------------:|---------------------:|---------------------:|-----:|-----------:|---------------:|\n",
    "| 原始布林带开口            |    27288.7 |     138664 |        298 |        144 |        154 |   0.483221 |              53.7616 |              189.505 |             -73.1671 | 0.73 |  -0.165884 |        1270.89 |\n",
    "| 原始布林带开口+1倍ATR加仓 |    58787.9 |     179856 |        541 |        305 |        236 |   0.563771 |              75.3127 |              192.747 |             -76.4567 | 0.99 |  -0.256194 |        1175.24 |"
   ]
  },
  {
   "cell_type": "code",
   "execution_count": null,
   "metadata": {
    "ExecuteTime": {
     "end_time": "2020-08-07T18:13:20.886518Z",
     "start_time": "2020-08-07T18:06:55.214501Z"
    }
   },
   "outputs": [],
   "source": [
    "bt_2019_symbols = {}\n",
    "for n, t in tqdm_notebook(ts.items()):\n",
    "    mc = backtest(symbols,\n",
    "                  t['buy_factors'],\n",
    "                  t['sell_factors'],\n",
    "                  start='2019-01-01',\n",
    "                  end='2019-12-31',\n",
    "                  init_cash=100000)\n",
    "    if mc:\n",
    "        d = mc.profit_series().T\n",
    "        d['name'] = n\n",
    "        bt_2019_symbols[n] = d\n",
    "clear_output(wait=True)"
   ]
  },
  {
   "cell_type": "code",
   "execution_count": 23,
   "metadata": {
    "ExecuteTime": {
     "end_time": "2020-08-07T18:13:20.902143Z",
     "start_time": "2020-08-07T18:13:20.886518Z"
    },
    "scrolled": true
   },
   "outputs": [
    {
     "name": "stdout",
     "output_type": "stream",
     "text": [
      "| name                      |   盈亏总额 |   最终价值 |   交易次数 |   盈利次数 |   亏损次数 |   盈利比率 |   每笔交易平均盈亏额 |   盈利交易平均盈利额 |   亏损交易平均亏损额 |    R |   最大回撤 |   买入平均花费 |\n",
      "|:--------------------------|-----------:|-----------:|-----------:|-----------:|-----------:|-----------:|---------------------:|---------------------:|---------------------:|-----:|-----------:|---------------:|\n",
      "| 原始布林带开口            |    27288.7 |     138664 |        298 |        144 |        154 |   0.483221 |              53.7616 |              189.505 |             -73.1671 | 0.73 |  -0.165884 |        1270.89 |\n",
      "| 原始布林带开口+1倍ATR加仓 |    58787.9 |     179856 |        541 |        305 |        236 |   0.563771 |              75.3127 |              192.747 |             -76.4567 | 0.99 |  -0.256194 |        1175.24 |\n"
     ]
    }
   ],
   "source": [
    "gquant.pd.set_option('display.float_format',lambda x : '%.2f' % x)\n",
    "print(gquant.pd.concat([pd.to_frame().T for pd in bt_2019_symbols.values()]).set_index('name').to_markdown())"
   ]
  },
  {
   "cell_type": "markdown",
   "metadata": {},
   "source": [
    "### 初始资金50,,000\n",
    "\n",
    "本次测试依然沿用筛选后的195支股票进行测试，但是初始资金改为`50,000`元。\n",
    "\n",
    "| name                      |   盈亏总额 |   最终价值 |   交易次数 |   盈利次数 |   亏损次数 |   盈利比率 |   每笔交易平均盈亏额 |   盈利交易平均盈利额 |   亏损交易平均亏损额 |    R |   最大回撤 |   买入平均花费 |\n",
    "|:--------------------------|-----------:|-----------:|-----------:|-----------:|-----------:|-----------:|---------------------:|---------------------:|---------------------:|-----:|-----------:|---------------:|\n",
    "| 原始布林带开口            |    22808.4 |    81489.9 |        204 |         97 |        107 |    0.47549 |              73.9976 |              235.138 |             -72.0828 | 1.03 |  -0.22584  |        1228.38 |\n",
    "| 原始布林带开口+1倍ATR加仓 |    32661.3 |    86284.2 |        356 |        188 |        168 |    0.52809 |              50.7901 |              173.73  |             -86.7859 | 0.59 |  -0.333339 |        1032.81 |"
   ]
  },
  {
   "cell_type": "code",
   "execution_count": null,
   "metadata": {
    "ExecuteTime": {
     "end_time": "2020-08-07T18:19:00.759423Z",
     "start_time": "2020-08-07T18:13:20.902143Z"
    }
   },
   "outputs": [],
   "source": [
    "bt_2019_symbols_5 = {}\n",
    "for n, t in tqdm_notebook(ts.items()):\n",
    "    mc = backtest(symbols,\n",
    "                  t['buy_factors'],\n",
    "                  t['sell_factors'],\n",
    "                  start='2019-01-01',\n",
    "                  end='2019-12-31',\n",
    "                  init_cash=50000)\n",
    "    if mc:\n",
    "        d = mc.profit_series().T\n",
    "        d['name'] = n\n",
    "        bt_2019_symbols_5[n] = d\n",
    "clear_output(wait=True)"
   ]
  },
  {
   "cell_type": "code",
   "execution_count": 25,
   "metadata": {
    "ExecuteTime": {
     "end_time": "2020-08-07T18:19:00.790692Z",
     "start_time": "2020-08-07T18:19:00.759423Z"
    }
   },
   "outputs": [
    {
     "name": "stdout",
     "output_type": "stream",
     "text": [
      "| name                      |   盈亏总额 |   最终价值 |   交易次数 |   盈利次数 |   亏损次数 |   盈利比率 |   每笔交易平均盈亏额 |   盈利交易平均盈利额 |   亏损交易平均亏损额 |    R |   最大回撤 |   买入平均花费 |\n",
      "|:--------------------------|-----------:|-----------:|-----------:|-----------:|-----------:|-----------:|---------------------:|---------------------:|---------------------:|-----:|-----------:|---------------:|\n",
      "| 原始布林带开口            |    22808.4 |    81489.9 |        204 |         97 |        107 |    0.47549 |              73.9976 |              235.138 |             -72.0828 | 1.03 |  -0.22584  |        1228.38 |\n",
      "| 原始布林带开口+1倍ATR加仓 |    32661.3 |    86284.2 |        356 |        188 |        168 |    0.52809 |              50.7901 |              173.73  |             -86.7859 | 0.59 |  -0.333339 |        1032.81 |\n"
     ]
    }
   ],
   "source": [
    "gquant.pd.set_option('display.float_format',lambda x : '%.2f' % x)\n",
    "print(gquant.pd.concat([pd.to_frame().T for pd in bt_2019_symbols_5.values()]).set_index('name').to_markdown())"
   ]
  },
  {
   "cell_type": "markdown",
   "metadata": {},
   "source": [
    "### 初始资金10,000\n",
    "\n",
    "本次测试依然沿用筛选后的195支股票进行测试，但是初始资金改为`10,000`元。\n",
    "\n",
    "| name                      |   盈亏总额 |   最终价值 |   交易次数 |   盈利次数 |   亏损次数 |   盈利比率 |   每笔交易平均盈亏额 |   盈利交易平均盈利额 |   亏损交易平均亏损额 |    R |   最大回撤 |   买入平均花费 |\n",
    "|:--------------------------|-----------:|-----------:|-----------:|-----------:|-----------:|-----------:|---------------------:|---------------------:|---------------------:|-----:|-----------:|---------------:|\n",
    "| 原始布林带开口            |    4742    |    13109.2 |         84 |         35 |         49 |   0.416667 |              13.8748 |              135.486 |             -72.99   | 0.19 |  -0.309914 |        909.033 |\n",
    "| 原始布林带开口+1倍ATR加仓 |    7821.26 |    15128.1 |        102 |         64 |         38 |   0.627451 |              52.8502 |              122.207 |             -63.9617 | 0.83 |  -0.348772 |        792.014 |"
   ]
  },
  {
   "cell_type": "code",
   "execution_count": null,
   "metadata": {
    "ExecuteTime": {
     "end_time": "2020-08-07T18:23:56.669714Z",
     "start_time": "2020-08-07T18:19:00.790692Z"
    }
   },
   "outputs": [],
   "source": [
    "bt_2019_symbols_1 = {}\n",
    "for n, t in tqdm_notebook(ts.items()):\n",
    "    mc = backtest(symbols,\n",
    "                  t['buy_factors'],\n",
    "                  t['sell_factors'],\n",
    "                  start='2019-01-01',\n",
    "                  end='2019-12-31')\n",
    "    if mc:\n",
    "        d = mc.profit_series().T\n",
    "        d['name'] = n\n",
    "        bt_2019_symbols_1[n] = d\n",
    "clear_output(wait=True)"
   ]
  },
  {
   "cell_type": "code",
   "execution_count": 27,
   "metadata": {
    "ExecuteTime": {
     "end_time": "2020-08-07T18:23:56.747841Z",
     "start_time": "2020-08-07T18:23:56.685292Z"
    },
    "scrolled": true
   },
   "outputs": [
    {
     "name": "stdout",
     "output_type": "stream",
     "text": [
      "| name                      |   盈亏总额 |   最终价值 |   交易次数 |   盈利次数 |   亏损次数 |   盈利比率 |   每笔交易平均盈亏额 |   盈利交易平均盈利额 |   亏损交易平均亏损额 |    R |   最大回撤 |   买入平均花费 |\n",
      "|:--------------------------|-----------:|-----------:|-----------:|-----------:|-----------:|-----------:|---------------------:|---------------------:|---------------------:|-----:|-----------:|---------------:|\n",
      "| 原始布林带开口            |    4742    |    13109.2 |         84 |         35 |         49 |   0.416667 |              13.8748 |              135.486 |             -72.99   | 0.19 |  -0.309914 |        909.033 |\n",
      "| 原始布林带开口+1倍ATR加仓 |    7821.26 |    15128.1 |        102 |         64 |         38 |   0.627451 |              52.8502 |              122.207 |             -63.9617 | 0.83 |  -0.348772 |        792.014 |\n"
     ]
    }
   ],
   "source": [
    "gquant.pd.set_option('display.float_format',lambda x : '%.2f' % x)\n",
    "print(gquant.pd.concat([pd.to_frame().T for pd in bt_2019_symbols_1.values()]).set_index('name').to_markdown())"
   ]
  },
  {
   "cell_type": "markdown",
   "metadata": {},
   "source": [
    "## 跟踪10支股票回测\n",
    "\n",
    "| name                      |   盈亏总额 |   最终价值 |   交易次数 |   盈利次数 |   亏损次数 |   盈利比率 |   每笔交易平均盈亏额 |   盈利交易平均盈利额 |   亏损交易平均亏损额 |    R |   最大回撤 |   买入平均花费 |   策略年化收益 |\n",
    "|:--------------------------|-----------:|-----------:|-----------:|-----------:|-----------:|-----------:|---------------------:|---------------------:|---------------------:|-----:|-----------:|---------------:|---------------:|\n",
    "| 原始布林带开口            |    722.815 |    12728.3 |         24 |          9 |         15 |   0.375    |             -4.18383 |              80.3128 |             -54.8818 | 0.08 |  -0.169171 |       1045.4   |       0.286047 |\n",
    "| 原始布林带开口+1倍ATR加仓 |   1433.84  |    11860.5 |         44 |         21 |         23 |   0.477273 |              9.75796 |              68.2781 |             -43.6735 | 0.22 |  -0.248141 |        889.201 |       0.191311 |"
   ]
  },
  {
   "cell_type": "code",
   "execution_count": 28,
   "metadata": {
    "ExecuteTime": {
     "end_time": "2020-08-07T18:24:29.992207Z",
     "start_time": "2020-08-07T18:23:56.747841Z"
    }
   },
   "outputs": [
    {
     "data": {
      "application/vnd.jupyter.widget-view+json": {
       "model_id": "113010c9be79419bb378982d2d9976ec",
       "version_major": 2,
       "version_minor": 0
      },
      "text/plain": [
       "HBox(children=(FloatProgress(value=0.0, max=2.0), HTML(value='')))"
      ]
     },
     "metadata": {},
     "output_type": "display_data"
    },
    {
     "data": {
      "application/vnd.jupyter.widget-view+json": {
       "model_id": "",
       "version_major": 2,
       "version_minor": 0
      },
      "text/plain": [
       "Box(children=(Text(value='pid=1504 begin work'), FloatProgress(value=0.0)))"
      ]
     },
     "metadata": {},
     "output_type": "display_data"
    },
    {
     "name": "stdout",
     "output_type": "stream",
     "text": [
      "capital.apply_action::1.23%"
     ]
    },
    {
     "data": {
      "application/vnd.jupyter.widget-view+json": {
       "model_id": "",
       "version_major": 2,
       "version_minor": 0
      },
      "text/plain": [
       "FloatProgress(value=0.0)"
      ]
     },
     "metadata": {},
     "output_type": "display_data"
    },
    {
     "name": "stdout",
     "output_type": "stream",
     "text": [
      "capital.apply_action::100.0%\r"
     ]
    },
    {
     "data": {
      "application/vnd.jupyter.widget-view+json": {
       "model_id": "",
       "version_major": 2,
       "version_minor": 0
      },
      "text/plain": [
       "Box(children=(Text(value='pid=1504 begin work'), FloatProgress(value=0.0)))"
      ]
     },
     "metadata": {},
     "output_type": "display_data"
    },
    {
     "name": "stdout",
     "output_type": "stream",
     "text": [
      "capital.apply_action::0.24%"
     ]
    },
    {
     "data": {
      "application/vnd.jupyter.widget-view+json": {
       "model_id": "",
       "version_major": 2,
       "version_minor": 0
      },
      "text/plain": [
       "FloatProgress(value=0.0)"
      ]
     },
     "metadata": {},
     "output_type": "display_data"
    },
    {
     "name": "stdout",
     "output_type": "stream",
     "text": [
      "capital.apply_action::100.0%\n"
     ]
    }
   ],
   "source": [
    "bt_2019_symbols_1_1 = {}\n",
    "bt_2019_symbols_1_1_metics={}\n",
    "for n, t in tqdm_notebook(ts.items()):\n",
    "    mc = backtest(symbols_10,\n",
    "                  t['buy_factors'],\n",
    "                  t['sell_factors'],\n",
    "                  start='2019-01-01',\n",
    "                  end='2019-12-31')\n",
    "    if mc:\n",
    "        d = mc.profit_series().T\n",
    "        d['name'] = n\n",
    "        d['策略年化收益']=mc.algorithm_annualized_returns#策略年化收益\n",
    "        bt_2019_symbols_1_1_metics[n]=mc\n",
    "        bt_2019_symbols_1_1[n] = d\n",
    "clear_output(wait=True)"
   ]
  },
  {
   "cell_type": "code",
   "execution_count": 29,
   "metadata": {
    "ExecuteTime": {
     "end_time": "2020-08-07T18:24:30.023506Z",
     "start_time": "2020-08-07T18:24:29.992207Z"
    }
   },
   "outputs": [
    {
     "name": "stdout",
     "output_type": "stream",
     "text": [
      "| name                      |   盈亏总额 |   最终价值 |   交易次数 |   盈利次数 |   亏损次数 |   盈利比率 |   每笔交易平均盈亏额 |   盈利交易平均盈利额 |   亏损交易平均亏损额 |    R |   最大回撤 |   买入平均花费 |   策略年化收益 |\n",
      "|:--------------------------|-----------:|-----------:|-----------:|-----------:|-----------:|-----------:|---------------------:|---------------------:|---------------------:|-----:|-----------:|---------------:|---------------:|\n",
      "| 原始布林带开口            |    722.815 |    12728.3 |         24 |          9 |         15 |   0.375    |             -4.18383 |              80.3128 |             -54.8818 | 0.08 |  -0.169171 |       1045.4   |       0.286047 |\n",
      "| 原始布林带开口+1倍ATR加仓 |   1433.84  |    11860.5 |         44 |         21 |         23 |   0.477273 |              9.75796 |              68.2781 |             -43.6735 | 0.22 |  -0.248141 |        889.201 |       0.191311 |\n"
     ]
    }
   ],
   "source": [
    "gquant.pd.set_option('display.float_format',lambda x : '%.2f' % x)\n",
    "print(gquant.pd.concat([pd.to_frame().T for pd in bt_2019_symbols_1_1.values()]).set_index('name').round(2).to_markdown())"
   ]
  },
  {
   "cell_type": "code",
   "execution_count": null,
   "metadata": {},
   "outputs": [],
   "source": []
  }
 ],
 "metadata": {
  "hide_input": false,
  "kernelspec": {
   "display_name": "stock_ai",
   "language": "python",
   "name": "stock_ai"
  },
  "language_info": {
   "codemirror_mode": {
    "name": "ipython",
    "version": 3
   },
   "file_extension": ".py",
   "mimetype": "text/x-python",
   "name": "python",
   "nbconvert_exporter": "python",
   "pygments_lexer": "ipython3",
   "version": "3.7.3"
  },
  "toc": {
   "base_numbering": 1,
   "nav_menu": {},
   "number_sections": true,
   "sideBar": true,
   "skip_h1_title": false,
   "title_cell": "Table of Contents",
   "title_sidebar": "Contents",
   "toc_cell": false,
   "toc_position": {
    "height": "calc(100% - 180px)",
    "left": "10px",
    "top": "150px",
    "width": "165px"
   },
   "toc_section_display": true,
   "toc_window_display": true
  }
 },
 "nbformat": 4,
 "nbformat_minor": 4
}
